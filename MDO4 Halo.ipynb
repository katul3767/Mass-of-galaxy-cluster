{
 "cells": [
  {
   "cell_type": "code",
   "execution_count": 1,
   "id": "139f62d8",
   "metadata": {},
   "outputs": [],
   "source": [
    "import numpy as np\n",
    "import astropy.io.fits\n",
    "import matplotlib.pyplot as plt\n",
    "import scipy as sym \n",
    "import scipy.integrate as integrate\n",
    "from scipy import log,exp,sqrt,stats\n",
    "from astropy import units as u\n",
    "import astropy.constants as const\n",
    "from scipy.optimize import curve_fit\n",
    "from astropy.stats import biweight_location, biweight_scale, bootstrap\n",
    "from astropy.cosmology import LambdaCDM\n",
    "import astropy.units as u\n",
    "from astropy.coordinates import SkyCoord\n",
    "from scipy.interpolate import interp1d\n",
    "import scipy.stats as stats\n",
    "from astropy.stats import sigma_clip\n",
    "c=const.c.to(\"km/s\")\n",
    "%matplotlib inline\n",
    "cosmos = LambdaCDM(H0=67.77* u.km / u.Mpc / u.s, Om0=0.307115, Ode0=0.692885)  # define cosmology on the basis of simulation"
   ]
  },
  {
   "cell_type": "code",
   "execution_count": 2,
   "id": "e5ab0520",
   "metadata": {},
   "outputs": [
    {
     "name": "stdout",
     "output_type": "stream",
     "text": [
      "opening Most_massive_MD04.fits\n",
      "ColDefs(\n",
      "    name = 'RA_1'; format = 'E'\n",
      "    name = 'DEC_1'; format = 'E'\n",
      "    name = 'g_lat_1'; format = 'E'\n",
      "    name = 'g_lon_1'; format = 'E'\n",
      "    name = 'ecl_lat_1'; format = 'E'\n",
      "    name = 'ecl_lon_1'; format = 'E'\n",
      "    name = 'redshift_R_1'; format = 'E'\n",
      "    name = 'redshift_S_1'; format = 'E'\n",
      "    name = 'dL_1'; format = 'E'\n",
      "    name = 'nH_1'; format = 'E'\n",
      "    name = 'ebv_1'; format = 'E'\n",
      "    name = 'galaxy_SMHMR_mass_1'; format = 'E'\n",
      "    name = 'galaxy_star_formation_rate_1'; format = 'E'\n",
      "    name = 'galaxy_is_quiescent_1'; format = 'E'\n",
      "    name = 'galaxy_LX_hard_1'; format = 'E'\n",
      "    name = 'galaxy_mag_abs_r_1'; format = 'E'\n",
      "    name = 'galaxy_mag_r_1'; format = 'E'\n",
      "    name = 'galaxy_UM_A_UV_1'; format = 'E'\n",
      "    name = 'galaxy_UM_True_SM_1'; format = 'E'\n",
      "    name = 'galaxy_UM_ICL_mass_1'; format = 'E'\n",
      "    name = 'galaxy_UM_True_SFR_1'; format = 'E'\n",
      "    name = 'galaxy_UM_Obs_UV_1'; format = 'E'\n",
      "    name = 'HALO_id_1'; format = 'K'\n",
      "    name = 'HALO_pid_1'; format = 'K'\n",
      "    name = 'HALO_Mvir_1'; format = 'E'\n",
      "    name = 'HALO_Rvir_1'; format = 'E'\n",
      "    name = 'HALO_rs_1'; format = 'E'\n",
      "    name = 'HALO_scale_of_last_MM_1'; format = 'E'\n",
      "    name = 'HALO_vmax_1'; format = 'E'\n",
      "    name = 'HALO_x_1'; format = 'E'\n",
      "    name = 'HALO_y_1'; format = 'E'\n",
      "    name = 'HALO_z_1'; format = 'E'\n",
      "    name = 'HALO_vx_1'; format = 'E'\n",
      "    name = 'HALO_vy_1'; format = 'E'\n",
      "    name = 'HALO_vz_1'; format = 'E'\n",
      "    name = 'HALO_M200c_1'; format = 'E'\n",
      "    name = 'HALO_M500c_1'; format = 'E'\n",
      "    name = 'HALO_Xoff_1'; format = 'E'\n",
      "    name = 'HALO_b_to_a_500c_1'; format = 'E'\n",
      "    name = 'HALO_c_to_a_500c_1'; format = 'E'\n",
      "    name = 'HALO_Acc_Rate_1_Tdyn_1'; format = 'E'\n",
      "    name = 'K_mag_abs_1'; format = 'E'; unit = 'mag'\n",
      "    name = 'RA_2'; format = 'E'\n",
      "    name = 'DEC_2'; format = 'E'\n",
      "    name = 'g_lat_2'; format = 'E'\n",
      "    name = 'g_lon_2'; format = 'E'\n",
      "    name = 'ecl_lat_2'; format = 'E'\n",
      "    name = 'ecl_lon_2'; format = 'E'\n",
      "    name = 'redshift_R_2'; format = 'E'\n",
      "    name = 'redshift_S_2'; format = 'E'\n",
      "    name = 'dL_2'; format = 'E'\n",
      "    name = 'nH_2'; format = 'E'\n",
      "    name = 'ebv_2'; format = 'E'\n",
      "    name = 'galaxy_SMHMR_mass_2'; format = 'E'\n",
      "    name = 'galaxy_star_formation_rate_2'; format = 'E'\n",
      "    name = 'galaxy_is_quiescent_2'; format = 'E'\n",
      "    name = 'galaxy_LX_hard_2'; format = 'E'\n",
      "    name = 'galaxy_mag_abs_r_2'; format = 'E'\n",
      "    name = 'galaxy_mag_r_2'; format = 'E'\n",
      "    name = 'galaxy_UM_A_UV_2'; format = 'E'\n",
      "    name = 'galaxy_UM_True_SM_2'; format = 'E'\n",
      "    name = 'galaxy_UM_ICL_mass_2'; format = 'E'\n",
      "    name = 'galaxy_UM_True_SFR_2'; format = 'E'\n",
      "    name = 'galaxy_UM_Obs_UV_2'; format = 'E'\n",
      "    name = 'HALO_id_2'; format = 'K'\n",
      "    name = 'HALO_pid_2'; format = 'K'\n",
      "    name = 'HALO_Mvir_2'; format = 'E'\n",
      "    name = 'HALO_Rvir_2'; format = 'E'\n",
      "    name = 'HALO_rs_2'; format = 'E'\n",
      "    name = 'HALO_scale_of_last_MM_2'; format = 'E'\n",
      "    name = 'HALO_vmax_2'; format = 'E'\n",
      "    name = 'HALO_x_2'; format = 'E'\n",
      "    name = 'HALO_y_2'; format = 'E'\n",
      "    name = 'HALO_z_2'; format = 'E'\n",
      "    name = 'HALO_vx_2'; format = 'E'\n",
      "    name = 'HALO_vy_2'; format = 'E'\n",
      "    name = 'HALO_vz_2'; format = 'E'\n",
      "    name = 'HALO_M200c_2'; format = 'E'\n",
      "    name = 'HALO_M500c_2'; format = 'E'\n",
      "    name = 'HALO_Xoff_2'; format = 'E'\n",
      "    name = 'HALO_b_to_a_500c_2'; format = 'E'\n",
      "    name = 'HALO_c_to_a_500c_2'; format = 'E'\n",
      "    name = 'HALO_Acc_Rate_1_Tdyn_2'; format = 'E'\n",
      "    name = 'K_mag_abs_2'; format = 'E'; unit = 'mag'\n",
      "    name = 'GroupID'; format = 'J'\n",
      "    name = 'GroupSize'; format = 'J'\n",
      "    name = 'Separation'; format = 'D'\n",
      ")\n"
     ]
    }
   ],
   "source": [
    "path_2_data = 'Most_massive_MD04.fits'\n",
    "print('opening', path_2_data)\n",
    "my_file=astropy.io.fits.open(path_2_data)\n",
    "print(my_file[1].data.columns)\n",
    "data = my_file[1].data"
   ]
  },
  {
   "cell_type": "code",
   "execution_count": 3,
   "id": "934c15bd",
   "metadata": {},
   "outputs": [],
   "source": [
    "# coordinates of the cluster \n",
    "# Redshift at the center of the cluster\n",
    "z_cl = data.field('redshift_R_1')[0] #\n",
    "ra_cl = data.field('RA_1')[0]*np.pi/180 # radians\n",
    "dec_cl= data.field('DEC_1')[0]*np.pi/180 # radians    \n",
    "r_cl = data.field('HALO_Rvir_1')[0]\n",
    "# coordinates of the sub haloes\n",
    "z   = data.field('redshift_R_2') # \n",
    "ra  = data.field('RA_2') * (np.pi/180) # degrees\n",
    "dec = data.field('DEC_2') * (np.pi/180) # degrees\n",
    "\n",
    "# 3D separation in Mpc, to be verified\n",
    "r = data.field('separation') # Mpc\n"
   ]
  },
  {
   "cell_type": "code",
   "execution_count": 4,
   "id": "53efa330",
   "metadata": {},
   "outputs": [],
   "source": [
    "# Angular separation in radians between sub haloes and the main halo (central halo)\n",
    "# Uses the haversine method . ADD Link. \n",
    "# Angular_separation_Haversine = 2*np.arcsin( np.sqrt(\n",
    "#                    np.sin( ( (np.pi/2. - (dec_cl)) - (np.pi/2. -dec) ) / 2.0 )**2.0 \n",
    "#                         +\n",
    "#                    np.cos(np.pi/2. - (dec_cl)) * np.cos(np.pi/2. -dec) * np.sin((ra_cl-ra) / 2.0) **2.0\n",
    "#                        )\n",
    "#               )"
   ]
  },
  {
   "cell_type": "code",
   "execution_count": 5,
   "id": "727c4f37",
   "metadata": {},
   "outputs": [],
   "source": [
    "# From astropy inbuilt module separation\n",
    "coordinates_SubHaloes = SkyCoord( ra * 180/np.pi, dec * 180/np.pi, unit='deg', frame='icrs') \n",
    "coordinate_cluster    = SkyCoord( ra_cl * 180/np.pi, dec_cl*180/np.pi, unit='deg', frame='icrs') \n",
    "Angular_separation_Astropy = coordinates_SubHaloes.separation( coordinate_cluster )\n",
    "Angular_separation_Astropy_radian = (Angular_separation_Astropy).to(u.radian)"
   ]
  },
  {
   "cell_type": "code",
   "execution_count": 6,
   "id": "269c1284",
   "metadata": {},
   "outputs": [
    {
     "name": "stdout",
     "output_type": "stream",
     "text": [
      "the cluster at redshift  0.33398816  is at dC= 1359.1182184541588 Mpc\n"
     ]
    }
   ],
   "source": [
    "# Comoving distance\n",
    "D = cosmos.comoving_distance(z_cl) \n",
    "print('the cluster at redshift ',z_cl,' is at dC=',D)"
   ]
  },
  {
   "cell_type": "code",
   "execution_count": 7,
   "id": "90cef308",
   "metadata": {},
   "outputs": [
    {
     "name": "stdout",
     "output_type": "stream",
     "text": [
      "Angular diameter distance at the clusters redshift : 1018.8382920589 Mpc per radian\n",
      "Angular diameter distance at the clusters redshift : 17.7820827418234 Mpc per degree\n",
      "Angular diameter distance at the clusters redshift : 296.3680456970567 kpc per arc minute    \n"
     ]
    }
   ],
   "source": [
    "# Angular diameter distance\n",
    "print('Angular diameter distance at the clusters redshift :' , cosmos.angular_diameter_distance(z_cl), 'per radian')\n",
    "print('Angular diameter distance at the clusters redshift :' , cosmos.angular_diameter_distance(z_cl)/(180/np.pi), 'per degree')\n",
    "print('Angular diameter distance at the clusters redshift :' , (cosmos.angular_diameter_distance(z_cl)/(180/np.pi)).to(u.kpc)/60, 'per arc minute    ')"
   ]
  },
  {
   "cell_type": "code",
   "execution_count": 8,
   "id": "9452880f",
   "metadata": {},
   "outputs": [
    {
     "name": "stdout",
     "output_type": "stream",
     "text": [
      "min, max projected distance :  0.0 Mpc 1.4157164096832275 Mpc compared to the 3D virial radius 1.9035889892578124\n"
     ]
    }
   ],
   "source": [
    "# The angular separation between sub haloes and the cluster converted in Mpc\n",
    "r_proj =  Angular_separation_Astropy_radian * cosmos.angular_diameter_distance(z_cl)/u.radian  # where D is comoving distance\n",
    "print('min, max projected distance : ',r_proj.min(), r_proj.max(), 'compared to the 3D virial radius', r_cl/1000)"
   ]
  },
  {
   "cell_type": "code",
   "execution_count": 9,
   "id": "582517e9",
   "metadata": {},
   "outputs": [
    {
     "data": {
      "text/latex": [
       "$[0,~0.49019653,~0.69688416,~\\dots,~0.23124085,~1.0299001,~0.37688068] \\; \\mathrm{Mpc}$"
      ],
      "text/plain": [
       "<Quantity [0.        , 0.49019653, 0.69688416, 1.0059068 , 0.8654601 ,\n",
       "           0.20717607, 0.50522745, 0.38944122, 1.3848695 , 1.3102907 ,\n",
       "           0.93018603, 1.2386857 , 0.7621069 , 0.55050886, 0.2540283 ,\n",
       "           0.556539  , 0.4209276 , 0.7711804 , 0.37255323, 0.9000288 ,\n",
       "           0.662444  , 0.43419573, 0.9776623 , 1.2258475 , 0.25600204,\n",
       "           0.59628385, 0.49099118, 1.0920981 , 0.91486526, 1.215047  ,\n",
       "           0.32858166, 1.3952022 , 0.8020621 , 0.42956528, 0.65484506,\n",
       "           1.2380083 , 0.82404876, 0.30107   , 0.4267139 , 0.6797997 ,\n",
       "           0.9187256 , 0.95162123, 0.30537707, 0.9421333 , 1.0403689 ,\n",
       "           0.55721825, 1.2118609 , 1.1390077 , 0.75161093, 1.3042675 ,\n",
       "           0.55234754, 1.112286  , 0.88488245, 1.068759  , 0.4514486 ,\n",
       "           0.43430382, 0.9535652 , 0.8524852 , 0.6449321 , 0.91730404,\n",
       "           1.3752757 , 0.57076937, 0.58611095, 0.13352363, 0.50282395,\n",
       "           1.0469046 , 0.2759897 , 0.8980826 , 1.3558915 , 0.96845025,\n",
       "           0.58905315, 0.69524723, 0.6525081 , 0.9115411 , 1.1034821 ,\n",
       "           1.1740997 , 0.6961159 , 1.0957963 , 0.4825001 , 1.1892562 ,\n",
       "           0.56227475, 0.3953149 , 0.64194584, 0.19280197, 0.15559523,\n",
       "           0.52525103, 0.87055653, 0.5443593 , 0.30356288, 0.8028256 ,\n",
       "           0.24335721, 1.2452602 , 1.2341722 , 0.73634887, 0.8066102 ,\n",
       "           0.530033  , 0.6927746 , 0.8793555 , 0.60448384, 0.6089349 ,\n",
       "           0.64265555, 1.1954278 , 1.137188  , 1.089522  , 0.88384575,\n",
       "           1.1227837 , 0.2598308 , 0.92209905, 0.49198976, 0.37939337,\n",
       "           0.9972001 , 0.7522808 , 1.0517013 , 1.0276909 , 0.5944653 ,\n",
       "           0.38059893, 1.0407212 , 1.1427346 , 0.2756686 , 1.1903661 ,\n",
       "           1.1685425 , 0.8761233 , 1.2242693 , 1.077938  , 0.7667659 ,\n",
       "           0.4361079 , 1.4157164 , 0.8428084 , 0.6786936 , 1.2382532 ,\n",
       "           1.3566407 , 1.3784592 , 0.36036316, 0.9359832 , 0.49367976,\n",
       "           1.3012075 , 0.8999322 , 0.6964682 , 0.1253532 , 0.13193955,\n",
       "           0.6420784 , 0.47259647, 0.73343474, 0.5972089 , 1.2674848 ,\n",
       "           0.56482506, 0.9956497 , 1.3092754 , 0.6831116 , 0.77180314,\n",
       "           0.52890474, 0.6304885 , 1.2906697 , 0.22163433, 0.5313371 ,\n",
       "           0.53604525, 0.77543   , 1.2725091 , 0.72846764, 0.35855034,\n",
       "           0.90260816, 0.20754026, 0.7231694 , 0.3804294 , 0.1680192 ,\n",
       "           0.7298842 , 0.8556587 , 0.3429453 , 0.8285078 , 0.8548804 ,\n",
       "           0.55334175, 0.30237114, 1.1943736 , 0.17890458, 0.34241024,\n",
       "           0.9255163 , 0.5348008 , 0.90238976, 0.65025634, 1.3704649 ,\n",
       "           1.3732939 , 0.57889086, 0.19541936, 1.1740078 , 0.80261064,\n",
       "           0.29109773, 0.9579508 , 1.3145995 , 0.93621737, 1.3178034 ,\n",
       "           0.10984141, 0.5474535 , 1.0879745 , 0.6554817 , 0.616926  ,\n",
       "           0.13213845, 0.9357817 , 1.1687932 , 0.38858533, 0.67659384,\n",
       "           0.73967195, 0.8947381 , 0.49775007, 0.9988117 , 1.1384242 ,\n",
       "           0.29828244, 0.8803607 , 0.8773137 , 1.0446948 , 0.774506  ,\n",
       "           0.24145712, 1.3598912 , 1.1455787 , 0.4776772 , 1.0079296 ,\n",
       "           1.1716403 , 0.74388343, 1.0245897 , 0.6251089 , 0.8884671 ,\n",
       "           0.7579861 , 1.0804576 , 0.7639808 , 1.2747003 , 1.0260578 ,\n",
       "           0.4954368 , 1.2618943 , 0.34852648, 0.794078  , 1.3210679 ,\n",
       "           0.7789554 , 0.26640543, 0.04021558, 1.0505488 , 0.4927538 ,\n",
       "           0.36098054, 0.7085642 , 0.43925953, 0.7785902 , 0.51531   ,\n",
       "           0.50560135, 1.028059  , 0.50994873, 0.5908304 , 1.285237  ,\n",
       "           1.2608105 , 0.947254  , 1.3978133 , 0.7615235 , 1.109404  ,\n",
       "           0.4443564 , 0.5929249 , 0.27639022, 0.697088  , 0.50974774,\n",
       "           1.3086625 , 0.46667525, 0.12333452, 1.1902912 , 1.1054404 ,\n",
       "           0.8836122 , 0.90379196, 0.3285886 , 0.35398793, 0.46299145,\n",
       "           0.8979418 , 0.40590456, 1.1126012 , 0.9027549 , 1.1323978 ,\n",
       "           0.93528104, 0.21066771, 0.2878536 , 1.051551  , 0.61960506,\n",
       "           0.88259906, 1.2244793 , 0.6593152 , 1.0821718 , 0.9926605 ,\n",
       "           0.73800194, 1.1991227 , 0.76795286, 1.0492125 , 0.5206655 ,\n",
       "           0.7810362 , 1.0264182 , 0.07299431, 0.37564716, 0.92988497,\n",
       "           0.74122727, 1.1259813 , 1.0148875 , 0.80012995, 1.1277761 ,\n",
       "           0.43823388, 0.76857203, 1.3631145 , 1.2107282 , 0.519287  ,\n",
       "           0.81355757, 1.2296885 , 0.5385025 , 0.6118302 , 0.71358985,\n",
       "           0.28045925, 0.56747246, 1.2738464 , 1.2223909 , 0.8642044 ,\n",
       "           0.8261797 , 1.1376147 , 1.1959531 , 1.3319603 , 0.8806063 ,\n",
       "           0.9452086 , 0.91866153, 0.41867372, 0.83200556, 0.8512299 ,\n",
       "           0.96093863, 1.2386646 , 0.868867  , 1.2872759 , 1.2297126 ,\n",
       "           0.98976874, 1.3916057 , 1.1908128 , 1.0537553 , 0.4538408 ,\n",
       "           0.6624205 , 0.534053  , 0.9689197 , 0.8936923 , 0.6226462 ,\n",
       "           0.9049223 , 0.89717185, 1.2204835 , 0.8579171 , 0.29768258,\n",
       "           0.71019787, 0.70380056, 0.47551268, 0.26348042, 0.5042319 ,\n",
       "           1.1674156 , 1.1113206 , 0.8556593 , 0.96788025, 1.3924283 ,\n",
       "           0.28633457, 0.521028  , 1.1020201 , 0.3137931 , 0.22461325,\n",
       "           1.0969218 , 1.1345165 , 1.2392237 , 0.6454729 , 0.28621185,\n",
       "           1.1420026 , 0.4527054 , 0.79597235, 1.3027691 , 0.3227886 ,\n",
       "           0.68794227, 0.81732213, 0.215508  , 1.1221389 , 0.5203218 ,\n",
       "           1.062202  , 1.1645483 , 0.80468976, 0.4413932 , 1.0461413 ,\n",
       "           0.90382606, 0.89903474, 0.94231224, 0.6695262 , 0.779487  ,\n",
       "           1.3271049 , 0.87127715, 0.6300204 , 1.293972  , 1.4026251 ,\n",
       "           0.68433315, 0.79819924, 0.29292306, 0.914712  , 0.88757104,\n",
       "           0.3248158 , 0.7691453 , 0.7720725 , 1.1598574 , 0.8164163 ,\n",
       "           0.9079559 , 0.3828377 , 1.3937371 , 1.3104935 , 1.2036191 ,\n",
       "           1.013865  , 0.44803333, 0.7869949 , 0.6907252 , 0.34898108,\n",
       "           0.95117736, 1.0837219 , 0.59895307, 0.70447487, 0.9026634 ,\n",
       "           0.68057853, 0.7300466 , 0.3454577 , 1.1740448 , 0.5564012 ,\n",
       "           1.085369  , 1.026017  , 0.668534  , 0.26169884, 0.6699285 ,\n",
       "           0.8803387 , 0.46895245, 0.38728493, 0.5907781 , 1.2689204 ,\n",
       "           0.50888497, 1.0336671 , 0.1678664 , 0.61997396, 1.1733669 ,\n",
       "           0.15801936, 0.90993583, 1.1749277 , 0.6712845 , 0.54646623,\n",
       "           0.59900534, 1.3674337 , 0.7914575 , 1.2615141 , 1.0154186 ,\n",
       "           0.86222684, 0.24433285, 0.5983569 , 0.5131784 , 1.1461673 ,\n",
       "           1.1121593 , 1.2222993 , 1.3189031 , 0.3735032 , 0.642536  ,\n",
       "           0.81444496, 0.505469  , 0.24072467, 1.1125441 , 0.81179124,\n",
       "           0.7055859 , 0.6665443 , 1.1970305 , 0.40958235, 0.73002416,\n",
       "           0.33955607, 0.96757585, 0.63019824, 1.1710601 , 0.21391444,\n",
       "           0.3378612 , 0.45486137, 0.58706915, 0.05417997, 0.96308416,\n",
       "           0.24749677, 0.5191451 , 0.5837454 , 0.9330091 , 0.7979056 ,\n",
       "           0.23124085, 1.0299001 , 0.37688068] Mpc>"
      ]
     },
     "execution_count": 9,
     "metadata": {},
     "output_type": "execute_result"
    }
   ],
   "source": [
    "r_proj"
   ]
  },
  {
   "cell_type": "code",
   "execution_count": 10,
   "id": "be7498b8",
   "metadata": {},
   "outputs": [],
   "source": [
    "# interpolated conversion between redshift and comoving distance\n",
    "d_C = cosmos.comoving_distance(z)\n",
    "dc_mpc = (d_C).value\n",
    "dc_interpolation = interp1d(z, dc_mpc)\n",
    "z_interpolation = interp1d(dc_mpc, z)\n"
   ]
  },
  {
   "cell_type": "code",
   "execution_count": 11,
   "id": "f25146a9",
   "metadata": {},
   "outputs": [],
   "source": [
    "#rr    = dc_interpolation( ZZZZ )"
   ]
  },
  {
   "cell_type": "code",
   "execution_count": 12,
   "id": "e967d979",
   "metadata": {},
   "outputs": [
    {
     "name": "stdout",
     "output_type": "stream",
     "text": [
      "x mean, std -2.2749552953386206e-05 0.0004152230923755402\n",
      "x mean, std -0.00023499888141364963 0.00042522407380780745\n",
      "x mean, std 4.557050177504702e-05 0.00010263843485104863\n",
      "ra,dec,z= 5.577616462721699 -0.08096291842468864 0.33398816 \n",
      " x,y,z= -1031.229798280288 878.4561999014163 109.91799506367586\n"
     ]
    }
   ],
   "source": [
    "D_cl=cosmos.comoving_distance(z)\n",
    "d_C = D_cl\n",
    "dc_mpc = (d_C).value\n",
    "dc_interpolation = interp1d(z, dc_mpc)\n",
    "z_interpolation = interp1d(dc_mpc, z)\n",
    "def get_x_y_z(ra_radian, dec_radian, rr):\n",
    "    phi   = ( ra_radian*180/np.pi   - 180 ) * np.pi / 180.\n",
    "    theta = (dec_radian*180/np.pi + 90 ) * np.pi / 180.\n",
    "    xx = rr * np.cos( phi) * np.sin( theta )\n",
    "    yy = rr * np.sin( phi) * np.sin( theta )\n",
    "    zz = rr * np.cos( theta )\n",
    "    return xx, yy, zz\n",
    "\n",
    "# get 3D Cartesian positions of the sub haloes\n",
    "xx, yy, zz = get_x_y_z(ra, dec, dc_interpolation(z))\n",
    "\n",
    "print('x mean, std',np.mean(data.field('HALO_x_2')-xx), np.std(data.field('HALO_x_2')-xx))\n",
    "print('x mean, std',np.mean(data.field('HALO_y_2')-yy), np.std(data.field('HALO_y_2')-yy))\n",
    "print('x mean, std',np.mean(data.field('HALO_z_2')-zz), np.std(data.field('HALO_z_2')-zz))\n",
    "\n",
    "# get 3D Cartesian positions of the cluster\n",
    "xx_cl, yy_cl, zz_cl = get_x_y_z(ra_cl, dec_cl, dc_interpolation(z_cl))\n",
    "print('ra,dec,z=',ra_cl, dec_cl, z_cl, '\\n x,y,z=',xx_cl, yy_cl, zz_cl)\n",
    "\n",
    "# array of distances between sub haloes and the cluster : \n",
    "distances = np.sqrt((xx_cl-xx)**2 + (yy_cl-yy)**2 + (zz_cl-zz)**2)"
   ]
  },
  {
   "cell_type": "code",
   "execution_count": 29,
   "id": "e67262c8",
   "metadata": {},
   "outputs": [
    {
     "data": {
      "text/plain": [
       "20"
      ]
     },
     "execution_count": 29,
     "metadata": {},
     "output_type": "execute_result"
    }
   ],
   "source": [
    "len(bins_3D) "
   ]
  },
  {
   "cell_type": "code",
   "execution_count": 35,
   "id": "9e485126",
   "metadata": {},
   "outputs": [
    {
     "name": "stderr",
     "output_type": "stream",
     "text": [
      "/tmp/ipykernel_13023/3106661704.py:16: RuntimeWarning: divide by zero encountered in power\n",
      "  plt.errorbar(R_2D, n_2D, yerr=n_2D*N_2D**-0.5, xerr=dR/2, ls='')\n",
      "/tmp/ipykernel_13023/3106661704.py:16: RuntimeWarning: invalid value encountered in multiply\n",
      "  plt.errorbar(R_2D, n_2D, yerr=n_2D*N_2D**-0.5, xerr=dR/2, ls='')\n"
     ]
    },
    {
     "data": {
      "image/png": "[encoded data removed]",
      "text/plain": [
       "<Figure size 720x720 with 1 Axes>"
      ]
     },
     "metadata": {
      "needs_background": "light"
     },
     "output_type": "display_data"
    }
   ],
   "source": [
    "# create histogram of distances in Mpc\n",
    "dR = 0.1\n",
    "r_bins = np.arange(0., 2, dR)\n",
    "# Projected distance\n",
    "N_2D, bins_2D = np.histogram(np.array(r_proj), bins = r_bins)\n",
    "# Three D distance\n",
    "N_3D, bins_3D = np.histogram(np.array(distances), bins = r_bins)\n",
    "\n",
    "#Getting the number density profile in 2D \n",
    "n_2D = N_2D /(np.pi*( ( bins_2D[1:]**2 - bins_2D[:-1]**2) ) )\n",
    "\n",
    "# central point of each separation \n",
    "R_2D = (bins_2D[1:] + bins_2D[:-1])/2.\n",
    "plt.figure(0, (10, 10))\n",
    "#plt.plot(R_2D, n_2D, color='black', linestyle='dashed', linewidth = 2, marker='o', markerfacecolor='green', markersize=12)\n",
    "plt.errorbar(R_2D, n_2D, yerr=n_2D*N_2D**-0.5, xerr=dR/2, ls='')\n",
    "#plt.yscale('log')\n",
    "#plt.xscale('log')\n",
    "plt.title('Number density of sub haloes around the host cluster')\n",
    "plt.xlabel('projected angular separation [Mpc]')\n",
    "plt.ylabel(r'number density [Mpc$^{-2}$]')  \n",
    "plt.show()\n"
   ]
  },
  {
   "cell_type": "code",
   "execution_count": 32,
   "id": "0faafccb",
   "metadata": {},
   "outputs": [
    {
     "data": {
      "image/png": "[encoded data removed]",
      "text/plain": [
       "<Figure size 720x720 with 1 Axes>"
      ]
     },
     "metadata": {
      "needs_background": "light"
     },
     "output_type": "display_data"
    }
   ],
   "source": [
    "#Ns,rs=np.histogram(r)\n",
    "number_density = N_3D/(np.pi*( 4* ( bins_3D[1:]**3-bins_3D[:-1]**3) / 3))\n",
    "\n",
    "r_act = (bins_3D[1:] + bins_3D[:-1])/2.\n",
    "#plt.xscale('log')\n",
    "#plt.yscale('log')\n",
    "plt.figure(0, (10, 10))\n",
    "plt.errorbar(r_act, number_density, xerr=dR/2., ls='', yerr=number_density * N_3D**-0.5, label='direct estimate')\n",
    "#plt.plot(r_act, number_density, color='black', linestyle='dashed', linewidth = 2, marker='o', markerfacecolor='green', markersize=12)\n",
    "plt.xlabel('Separation in Mpc')\n",
    "plt.ylabel(r'number density [Mpc$^{-3}$]')\n",
    "plt.yscale('log')\n",
    "plt.show()\n",
    "r_array = np.arange(0.05, 1.9, 0.01)"
   ]
  },
  {
   "cell_type": "code",
   "execution_count": 24,
   "id": "0040fa2a",
   "metadata": {},
   "outputs": [
    {
     "name": "stderr",
     "output_type": "stream",
     "text": [
      "/tmp/ipykernel_13023/3018867014.py:32: IntegrationWarning: The maximum number of subdivisions (50) has been achieved.\n",
      "  If increasing the limit yields no improvement it is advised to analyze \n",
      "  the integrand in order to determine the difficulties.  If the position of a \n",
      "  local difficulty can be determined (singularity, discontinuity) one will \n",
      "  probably gain from splitting up the interval and calling the integrator \n",
      "  on the subranges.  Perhaps a special-purpose integrator should be used.\n",
      "  nu_all=[integrate.quad(nu, r_i, 1.9, args=(r_i))[0] for r_i in r_array]\n",
      "/tmp/ipykernel_13023/3018867014.py:32: IntegrationWarning: The integral is probably divergent, or slowly convergent.\n",
      "  nu_all=[integrate.quad(nu, r_i, 1.9, args=(r_i))[0] for r_i in r_array]\n",
      "/tmp/ipykernel_13023/3018867014.py:32: IntegrationWarning: The occurrence of roundoff error is detected, which prevents \n",
      "  the requested tolerance from being achieved.  The error may be \n",
      "  underestimated.\n",
      "  nu_all=[integrate.quad(nu, r_i, 1.9, args=(r_i))[0] for r_i in r_array]\n"
     ]
    }
   ],
   "source": [
    "\"\"\"\n",
    "The interplation of dndR for solving the integral first of all \n",
    "Stacking the Proj and dndR\n",
    "\n",
    "\"\"\" \n",
    "#Getting the derivative term of n wrt R_proj  ie dndR\n",
    "dndR = np.array(np.gradient(n_2D,R_2D))\n",
    "n_2D_no0 = N_2D\n",
    "n_2D_no0[N_2D==0] = 1\n",
    "\n",
    "dndR_up = np.array(np.gradient( n_2D + n_2D * n_2D_no0**-0.5, R_2D ))\n",
    "dndR_low = np.array(np.gradient( n_2D - n_2D * n_2D_no0**-0.5, R_2D ))\n",
    "\n",
    "def get_nu_all(dndR):\n",
    "    xx = np.hstack((np.array([0]),np.array(R_2D), np.array([10.]) ))\n",
    "    yy = np.hstack((np.array(dndR[0]),np.array(dndR), np.array([0.]) ))\n",
    "\n",
    "    # getting the interpolation\n",
    "    inter1 = interp1d(xx, yy, bounds_error=True)\n",
    "\n",
    "    # De-projection of the number density profile from \n",
    "    # 2D to 3D using the Abel inversion equation\n",
    "\n",
    "    def nu(R, r):\n",
    "        \"\"\"\n",
    "        Latex equation\n",
    "        Reference to the article it comes from\n",
    "        \"\"\"\n",
    "        return (-1/np.pi)*(inter1(R)/((R**2 - r**2)**0.5))\n",
    "\n",
    "    r_array = np.arange(0.05, 1.9, 0.01)\n",
    "    nu_all=[integrate.quad(nu, r_i, 1.9, args=(r_i))[0] for r_i in r_array]\n",
    "    return nu_all\n",
    "\n",
    "nu_all = get_nu_all(dndR)\n",
    "nu_all_up = get_nu_all(dndR_up)\n",
    "nu_all_low = get_nu_all(dndR_low)\n",
    "\n"
   ]
  },
  {
   "cell_type": "code",
   "execution_count": 19,
   "id": "62e1bc9e",
   "metadata": {},
   "outputs": [
    {
     "data": {
      "image/png": "[encoded data removed]",
      "text/plain": [
       "<Figure size 720x720 with 1 Axes>"
      ]
     },
     "metadata": {
      "needs_background": "light"
     },
     "output_type": "display_data"
    }
   ],
   "source": [
    "# plotting the de-projected number density wrt actual distance from the cluster center\n",
    "from colossus.halo import profile_nfw\n",
    "\n",
    "#Rvir = 1.1\n",
    "#c = 10.0\n",
    "Rs=20 #Rs = Rvir / c\n",
    "rhos = 1.0\n",
    "\n",
    "p_nfw = profile_nfw.NFWProfile(rhos , Rs)\n",
    "\n",
    "#r = np.arange(0,2,0.1)\n",
    "#rho_m = cosmo.rho_m(z)\n",
    "rho_nfw = p_nfw.density(r_array)\n",
    "\n",
    "plt.figure(0, (10, 10))\n",
    "plt.errorbar(r_act, number_density, xerr=dR/2., ls='', yerr=number_density * N_3D**-0.5, label='direct estimate')\n",
    "plt.plot(r_array, 1*rho_nfw , label = 'NFW');\n",
    "plt.plot(r_array, nu_all, label='deprojection mean', c='k')\n",
    "plt.fill_between(r_array, y1=nu_all_low, y2=nu_all_up, alpha=0.3, color='k')\n",
    "plt.xlabel('Separation in Mpc')\n",
    "plt.ylabel(r'number density [Mpc$^{-3}$]')\n",
    "plt.yscale('log')\n",
    "plt.ylim((5, 1e3))\n",
    "plt.legend()\n",
    "plt.show()\n"
   ]
  },
  {
   "cell_type": "code",
   "execution_count": null,
   "id": "fc48b02a",
   "metadata": {},
   "outputs": [],
   "source": [
    "print(bins_2D== bins_3D, bins_2D)"
   ]
  },
  {
   "cell_type": "code",
   "execution_count": null,
   "id": "a910940a",
   "metadata": {},
   "outputs": [],
   "source": [
    "# Create a \"true\" NFW profile\n",
    "from colossus.cosmology import cosmology\n",
    "cosmo = cosmology.setCosmology('planck15');\n"
   ]
  },
  {
   "cell_type": "code",
   "execution_count": null,
   "id": "be969514",
   "metadata": {},
   "outputs": [],
   "source": [
    "np.sort(c*z)"
   ]
  },
  {
   "cell_type": "code",
   "execution_count": null,
   "id": "e37eacf0",
   "metadata": {},
   "outputs": [],
   "source": [
    "c*z_cl"
   ]
  },
  {
   "cell_type": "code",
   "execution_count": null,
   "id": "105320ba",
   "metadata": {},
   "outputs": [],
   "source": [
    "(c*z)-c*z_cl"
   ]
  },
  {
   "cell_type": "code",
   "execution_count": null,
   "id": "d3e824b2",
   "metadata": {},
   "outputs": [],
   "source": [
    "# Peculiar velocities of a members from there spectrosocpic\n",
    "# redshift and mean redshift of a cluster\n",
    "\n",
    "c=const.c.to(\"km/s\")\n",
    "\n",
    "los_v= c*(z -  z_cl)/(1 + z_cl)\n",
    "los_v\n",
    "plt.plot(r_proj,los_v, color='black', linestyle='none', linewidth = 2, marker='o', markerfacecolor='green', markersize=12)\n",
    "plt.xlabel('Separation in Mpc')\n",
    "plt.ylabel('Peculiar velocity in clusters frame')\n",
    "plt.show()"
   ]
  },
  {
   "cell_type": "code",
   "execution_count": null,
   "id": "3d1a681d",
   "metadata": {},
   "outputs": [],
   "source": [
    "# from the simulation file haing X,Y and Z component of velocity just for comparision\n",
    "v=np.sqrt(data.HALO_vx_2**2+data.HALO_vy_2**2+data.HALO_vz_2**2)\n",
    "v.min()"
   ]
  },
  {
   "cell_type": "code",
   "execution_count": null,
   "id": "6e170cde",
   "metadata": {},
   "outputs": [],
   "source": []
  },
  {
   "cell_type": "code",
   "execution_count": null,
   "id": "1e5fb84b",
   "metadata": {},
   "outputs": [],
   "source": []
  }
 ],
 "metadata": {
  "kernelspec": {
   "display_name": "Python 3 (ipykernel)",
   "language": "python",
   "name": "python3"
  },
  "language_info": {
   "codemirror_mode": {
    "name": "ipython",
    "version": 3
   },
   "file_extension": ".py",
   "mimetype": "text/x-python",
   "name": "python",
   "nbconvert_exporter": "python",
   "pygments_lexer": "ipython3",
   "version": "3.9.7"
  }
 },
 "nbformat": 4,
 "nbformat_minor": 5
}
