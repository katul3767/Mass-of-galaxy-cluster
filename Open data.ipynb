{
 "cells": [
  {
   "cell_type": "code",
   "execution_count": 1,
   "id": "7cd07db7",
   "metadata": {},
   "outputs": [],
   "source": [
    "import numpy as np\n",
    "import astropy.io.fits\n",
    "import matplotlib.pyplot as plt\n",
    "import scipy as sym \n",
    "import scipy.integrate as integrate\n",
    "from scipy import log,exp,sqrt,stats\n",
    "from astropy import units as u\n",
    "import astropy.constants as const\n",
    "from scipy.optimize import curve_fit\n",
    "from astropy.stats import biweight_location, biweight_scale, bootstrap\n",
    "from astropy.cosmology import LambdaCDM\n",
    "import astropy.units as u\n",
    "from astropy.coordinates import SkyCoord\n",
    "from scipy.interpolate import interp1d\n",
    "import scipy.stats as stats\n",
    "from astropy.stats import sigma_clip\n",
    "c=const.c.to(\"km/s\")\n",
    "%matplotlib inline\n",
    "cosmos = LambdaCDM(H0=67.77* u.km / u.Mpc / u.s, Om0=0.307115, Ode0=0.692885)  # define cosmology on the basis of simulation"
   ]
  },
  {
   "cell_type": "code",
   "execution_count": 40,
   "id": "dc37f074",
   "metadata": {},
   "outputs": [
    {
     "name": "stdout",
     "output_type": "stream",
     "text": [
      "opening eromapper_cluster_zscan_legacy_dr9_north_nopsf_grz_z_0.05_0.85_vl0.2_i1_catalog.fit\n",
      "ColDefs(\n",
      "    name = 'id_cluster'; format = 'K'\n",
      "    name = 'ra'; format = 'D'\n",
      "    name = 'dec'; format = 'D'\n",
      "    name = 'z'; format = 'D'\n",
      "    name = 'z_err'; format = 'D'\n",
      "    name = 'zlit'; format = 'D'\n",
      "    name = 'lamlit'; format = 'D'\n",
      "    name = 'lamlit_e'; format = 'D'\n",
      "    name = 'has_archival_redshift'; format = 'L'\n",
      "    name = 'note'; format = '23A'\n",
      "    name = 'ref'; format = '21A'\n",
      "    name = 'select'; format = '7A'\n",
      "    name = 'in_sptpolext'; format = 'L'\n",
      "    name = 'in_spt2500'; format = 'L'\n",
      "    name = 'in_sptpol100deg'; format = 'L'\n",
      "    name = 'in_noras'; format = 'L'\n",
      "    name = 'in_xclass'; format = 'L'\n",
      "    name = 'in_mcxc'; format = 'L'\n",
      "    name = 'in_wenhanlowzspecz'; format = 'L'\n",
      "    name = 'in_wenhanhighzspecz'; format = 'L'\n",
      "    name = 'in_actdr5'; format = 'L'\n",
      "    name = 'in_psz2'; format = 'L'\n",
      "    name = 'in_madcows'; format = 'L'\n",
      "    name = 'in_gogreen_gclass'; format = 'L'\n",
      "    name = 'in_geec2'; format = 'L'\n",
      "    name = 'in_galweight'; format = 'L'\n",
      "    name = 'in_abell'; format = 'L'\n",
      "    name = 'in_cobra'; format = 'L'\n",
      "    name = 'in_redmapperdesy1'; format = 'L'\n",
      "    name = 'in_redmapperdessva'; format = 'L'\n",
      "    name = 'in_redmapperdessvaexpanded'; format = 'L'\n",
      "    name = 'in_redmappersdssdr8'; format = 'L'\n",
      "    name = 'in_neuralens'; format = 'L'\n",
      "    name = 'in_amicokidsdr3'; format = 'L'\n",
      "    name = 'in_codex'; format = 'L'\n",
      "    name = 'in_codexsdssdr8'; format = 'L'\n",
      "    name = 'erosita_de'; format = 'L'\n",
      "    name = 'mem_match_id'; format = 'K'\n",
      "    name = 'tile'; format = '1A'\n",
      "    name = 'hpix'; format = 'K'\n",
      "    name = 'refmag'; format = 'E'\n",
      "    name = 'refmag_err'; format = 'E'\n",
      "    name = 'lambda'; format = 'E'\n",
      "    name = 'lambda_e'; format = 'E'\n",
      "    name = 'z_lambda'; format = 'E'\n",
      "    name = 'z_lambda_e'; format = 'E'\n",
      "    name = 'cg_spec_z'; format = 'E'\n",
      "    name = 'z_spec_init'; format = 'E'\n",
      "    name = 'z_init'; format = 'E'\n",
      "    name = 'r_lambda'; format = 'E'\n",
      "    name = 'r_mask'; format = 'E'\n",
      "    name = 'scaleval'; format = 'E'\n",
      "    name = 'maskfrac'; format = 'E'\n",
      "    name = 'zred'; format = 'E'\n",
      "    name = 'zred_e'; format = 'E'\n",
      "    name = 'zred_chisq'; format = 'E'\n",
      "    name = 'chisq'; format = 'E'\n",
      "    name = 'z_lambda_niter'; format = 'I'\n",
      "    name = 'ebv_mean'; format = 'E'\n",
      "    name = 'lnlamlike'; format = 'E'\n",
      "    name = 'lncglike'; format = 'E'\n",
      "    name = 'lnlike'; format = 'E'\n",
      "    name = 'ra_orig'; format = 'D'\n",
      "    name = 'dec_orig'; format = 'D'\n",
      "    name = 'w'; format = 'E'\n",
      "    name = 'dlambda_dz'; format = 'E'\n",
      "    name = 'dlambda_dz2'; format = 'E'\n",
      "    name = 'dlambdavar_dz'; format = 'E'\n",
      "    name = 'dlambdavar_dz2'; format = 'E'\n",
      "    name = 'z_lambda_raw'; format = 'E'\n",
      "    name = 'z_lambda_e_raw'; format = 'E'\n",
      "    name = 'bkg_local'; format = 'E'\n",
      "    name = 'lim_exptime'; format = 'E'\n",
      "    name = 'lim_limmag'; format = 'E'\n",
      "    name = 'lim_limmag_hard'; format = 'E'\n",
      "    name = 'lambda_c'; format = 'E'\n",
      "    name = 'lambda_ce'; format = 'E'\n",
      "    name = 'ncent_good'; format = 'I'\n",
      "    name = 'maskgal_index'; format = 'I'\n",
      "    name = 'pzbins'; format = '21E'; dim = '(21)'\n",
      "    name = 'pz'; format = '21E'; dim = '(21)'\n",
      "    name = 'ra_cent'; format = '5D'; dim = '(5)'\n",
      "    name = 'dec_cent'; format = '5D'; dim = '(5)'\n",
      "    name = 'id_cent'; format = '5K'; dim = '(5)'\n",
      "    name = 'lambda_cent'; format = '5E'; dim = '(5)'\n",
      "    name = 'zlambda_cent'; format = '5E'; dim = '(5)'\n",
      "    name = 'p_cen'; format = '5E'; dim = '(5)'\n",
      "    name = 'q_cen'; format = '5E'; dim = '(5)'\n",
      "    name = 'p_fg'; format = '5E'; dim = '(5)'\n",
      "    name = 'q_miss'; format = 'E'\n",
      "    name = 'p_sat'; format = '5E'; dim = '(5)'\n",
      "    name = 'p_c'; format = '5E'; dim = '(5)'\n",
      "    name = 'z_steps'; format = '160E'; dim = '(160)'\n",
      "    name = 'lambda_steps'; format = '160E'; dim = '(160)'\n",
      "    name = 'likelihood_steps'; format = '160E'; dim = '(160)'\n",
      "    name = 'lmax'; format = 'E'\n",
      "    name = 'max_ind'; format = 'J'\n",
      "    name = 'zmax'; format = 'E'\n",
      "    name = 'ra_opt'; format = 'D'\n",
      "    name = 'dec_opt'; format = 'D'\n",
      "    name = 'lambda_opt'; format = 'E'\n",
      "    name = 'lambda_opt_e'; format = 'E'\n",
      "    name = 'z_lambda_opt'; format = 'E'\n",
      "    name = 'z_lambda_opt_e'; format = 'E'\n",
      "    name = 'scan_fit_lnlike'; format = '160D'; dim = '(160)'\n",
      "    name = 'scan_peaks_lnlike'; format = 'J'\n",
      "    name = 'scan_npeaks_lnlike'; format = 'J'\n",
      "    name = '_name'; format = '256A'\n",
      "    name = 'z_lambda_corr'; format = 'D'\n",
      "    name = 'z_lambda_corr_e'; format = 'D'\n",
      "    name = 'bootnum'; format = 'J'\n",
      "    name = 'vdisp'; format = 'D'\n",
      "    name = 'vdisp_err'; format = 'D'\n",
      "    name = 'vdisp_clip'; format = 'D'\n",
      "    name = 'vdisp_flag'; format = 'I'\n",
      "    name = 'vdisp_boot'; format = 'D'\n",
      "    name = 'vdisp_err_boot'; format = 'D'\n",
      "    name = 'vdisp_clip_boot'; format = 'D'\n",
      "    name = 'vdisp_flag_boot'; format = 'D'\n",
      "    name = 'vdisp_type'; format = '8A'\n",
      "    name = 'n_members'; format = 'J'\n",
      "    name = 'dcent'; format = 'D'\n",
      "    name = 'spec_z'; format = 'D'\n",
      "    name = 'spec_zerr_ruel'; format = 'D'\n",
      "    name = 'spec_z_boot'; format = 'D'\n",
      "    name = 'spec_zerr_boot'; format = 'D'\n",
      "    name = 'photo_z'; format = 'D'\n",
      "    name = 'photo_zerr'; format = 'D'\n",
      "    name = 'best_z'; format = 'D'\n",
      "    name = 'best_zerr'; format = 'D'\n",
      "    name = 'best_z_type'; format = '16A'\n",
      "    name = 'cg_spec_zerr'; format = 'D'\n",
      "    name = 'cg_photo_z'; format = 'D'\n",
      "    name = 'cg_photo_zerr'; format = 'D'\n",
      "    name = 'cg_best_z'; format = 'D'\n",
      "    name = 'cg_best_zerr'; format = 'D'\n",
      "    name = 'cg_best_z_type'; format = '16A'\n",
      "    name = 'best_lambda'; format = 'D'\n",
      "    name = 'best_lambda_e'; format = 'D'\n",
      "    name = 'best_r_lambda'; format = 'D'\n",
      "    name = 'cg_desi_photo_z'; format = 'D'\n",
      "    name = 'cg_desi_photo_zerr'; format = 'D'\n",
      "    name = 'desi_mass_best_sum'; format = 'D'\n",
      "    name = 'desi_mass_med_sum'; format = 'D'\n",
      "    name = 'desi_sfr_best_sum'; format = 'D'\n",
      "    name = 'desi_sfr_med_sum'; format = 'D'\n",
      "    name = 'image_url_fits'; format = '256A'\n",
      "    name = 'image_url_jpeg'; format = '256A'\n",
      "    name = 'qso_30_arcsec_dist'; format = 'D'\n",
      "    name = 'qso_30_arcsec_n'; format = 'J'\n",
      "    name = 'ngc_30_arcsec_dist'; format = 'D'\n",
      "    name = 'ngc_30_arcsec_n'; format = 'J'\n",
      "    name = 'lowz_30_arcsec_dist'; format = 'D'\n",
      "    name = 'lowz_30_arcsec_n'; format = 'J'\n",
      "    name = 'gaia_30_arcsec_dist'; format = 'D'\n",
      "    name = 'gaia_30_arcsec_n'; format = 'J'\n",
      "    name = 'awagn_2rxs_30_arcsec_dist'; format = 'D'\n",
      "    name = 'awagn_2rxs_30_arcsec_n'; format = 'J'\n",
      "    name = 'awagn_xmmsl2_30_arcsec_dist'; format = 'D'\n",
      "    name = 'awagn_xmmsl2_30_arcsec_n'; format = 'J'\n",
      "    name = 'ulx_30_arcsec_dist'; format = 'D'\n",
      "    name = 'ulx_30_arcsec_n'; format = 'J'\n",
      "    name = 'wagn_30_arcsec_dist'; format = 'D'\n",
      "    name = 'wagn_30_arcsec_n'; format = 'J'\n",
      "    name = 'local_agn_30_arcsec_dist'; format = 'D'\n",
      "    name = 'local_agn_30_arcsec_n'; format = 'J'\n",
      "    name = 'has_opt_cent'; format = 'L'\n",
      "    name = 'has_redshift'; format = 'L'\n",
      "    name = 'lgt03_vl50'; format = 'L'\n",
      "    name = 'lgt03_vl02'; format = 'L'\n",
      "    name = 'lgt20_vl50'; format = 'L'\n",
      "    name = 'lgt20_vl02'; format = 'L'\n",
      "    name = 'lit_z'; format = 'D'\n",
      "    name = 'lit_z_err'; format = 'D'\n",
      "    name = 'lit_ref'; format = '256A'\n",
      "    name = 'lit_note'; format = '256A'\n",
      "    name = 'in_calib_zrange'; format = 'L'\n",
      "    name = 'mag_g'; format = 'E'\n",
      "    name = 'mag_err_g'; format = 'E'\n",
      "    name = 'mag_r'; format = 'E'\n",
      "    name = 'mag_err_r'; format = 'E'\n",
      "    name = 'mag_i'; format = 'D'\n",
      "    name = 'mag_err_i'; format = 'D'\n",
      "    name = 'mag_z'; format = 'E'\n",
      "    name = 'mag_err_z'; format = 'E'\n",
      "    name = 'mag_w1'; format = 'D'\n",
      "    name = 'mag_err_w1'; format = 'D'\n",
      "    name = 'run'; format = '47A'\n",
      "    name = 'in_good_region'; format = 'L'\n",
      "    name = 'extragalactic_pm15_0'; format = 'L'\n",
      "    name = 'has_redshift_in_calib_zrange_in_good_region_extragalactic_pm15_0'; format = 'L'\n",
      "    name = 'extragalactic_pm17_5'; format = 'L'\n",
      "    name = 'has_redshift_in_calib_zrange_in_good_region_extragalactic_pm17_5'; format = 'L'\n",
      "    name = 'extragalactic_pm20_0'; format = 'L'\n",
      "    name = 'has_redshift_in_calib_zrange_in_good_region_extragalactic_pm20_0'; format = 'L'\n",
      "    name = 'extragalactic_pm22_5'; format = 'L'\n",
      "    name = 'has_redshift_in_calib_zrange_in_good_region_extragalactic_pm22_5'; format = 'L'\n",
      "    name = 'legacy_dr9_south_nopsf_grz_z_0.05_0.85_vl0.2_i1'; format = 'L'\n",
      "    name = 'legacy_dr9_south_grzw1_w1_0.05_1.20_vl0.4_i1'; format = 'L'\n",
      "    name = 'legacy_dr9_north_nopsf_grz_z_0.05_0.85_vl0.2_i1'; format = 'L'\n",
      "    name = 'legacy_dr9_north_grzw1_w1_0.05_1.20_vl0.4_i1'; format = 'L'\n",
      "    name = 'des_y1_mof_grz_z_0.05_0.85_vl0.2_i1'; format = 'L'\n",
      "    name = 'kids_dr4.1_grz_z_0.05_0.85_vl0.2_i1'; format = 'L'\n",
      "    name = 'nsc_dr2_grz_z_0.05_0.85_vl0.2_i1'; format = 'L'\n",
      "    name = 'ps1_dr2_gri_z_0.05_0.60_vl0.2_i1'; format = 'L'\n",
      ")\n",
      "data.field\n"
     ]
    }
   ],
   "source": [
    "#path_2_data = 'eromapper_cluster_zscan_kids_dr4.1_grz_z_0.05_0.85_vl0.2_i1_catalog.fit'\n",
    "#path_2_data = 'eromapper_cluster_zscan_des_y1_mof_grz_z_0.05_0.85_vl0.2_i1_catalog.fit'\n",
    "#path_2_data = 'eromapper_cluster_zscan_legacy_dr9_north_grzw1_w1_0.05_1.20_vl0.4_i1_catalog.fit'\n",
    "path_2_data = 'eromapper_cluster_zscan_legacy_dr9_north_nopsf_grz_z_0.05_0.85_vl0.2_i1_catalog.fit'\n",
    "print('opening', path_2_data)\n",
    "my_file=astropy.io.fits.open(path_2_data)\n",
    "print(my_file[1].data.columns)\n",
    "data = my_file[1].data\n",
    "print('data.field')"
   ]
  },
  {
   "cell_type": "code",
   "execution_count": 70,
   "id": "8d51a966",
   "metadata": {},
   "outputs": [
    {
     "data": {
      "text/plain": [
       "array([37736, 79758, 38520, ..., 22158, 87078, 69815])"
      ]
     },
     "execution_count": 70,
     "metadata": {},
     "output_type": "execute_result"
    }
   ],
   "source": [
    "data.field('id_cluster')"
   ]
  },
  {
   "cell_type": "code",
   "execution_count": 71,
   "id": "213bcf57",
   "metadata": {},
   "outputs": [],
   "source": [
    "id_clus=data.field('mem_match_id')"
   ]
  },
  {
   "cell_type": "code",
   "execution_count": 72,
   "id": "b10c5c07",
   "metadata": {},
   "outputs": [],
   "source": [
    "#array([24318,  3304,  1325, 74778,  2996, 90211, 88034, 33844,  1326,90211,88034,1326,33844,\n",
    "       # 3113, 91268,  3049, 24132, 33847,  7042,  1253])"
   ]
  },
  {
   "cell_type": "code",
   "execution_count": 73,
   "id": "31763622",
   "metadata": {},
   "outputs": [
    {
     "data": {
      "text/plain": [
       "array([24128, 24318,  3304, 23884, 73752,  1156,  3299,  1325, 74778,\n",
       "        2996, 90211, 88034, 33844,  1326,  3113, 91268,  3049, 24132,\n",
       "       33847,  7042,  1253])"
      ]
     },
     "execution_count": 73,
     "metadata": {},
     "output_type": "execute_result"
    }
   ],
   "source": [
    "num=(data.field('n_members')) #\n",
    "ma=np.where(num>130)\n",
    "id_clus[ma]"
   ]
  },
  {
   "cell_type": "code",
   "execution_count": 66,
   "id": "dfb26ae8",
   "metadata": {},
   "outputs": [
    {
     "data": {
      "text/plain": [
       "(array([1958., 1961., 1497., 1324.,  761.,   84.,   39.,    8.,    3.,\n",
       "           5.]),\n",
       " array([0.02444346, 0.13966793, 0.2548924 , 0.37011688, 0.48534135,\n",
       "        0.60056583, 0.7157903 , 0.83101478, 0.94623925, 1.06146373,\n",
       "        1.1766882 ]),\n",
       " <BarContainer object of 10 artists>)"
      ]
     },
     "execution_count": 66,
     "metadata": {},
     "output_type": "execute_result"
    },
    {
     "data": {
      "image/png": "[encoded data removed]",
      "text/plain": [
       "<Figure size 432x288 with 1 Axes>"
      ]
     },
     "metadata": {
      "needs_background": "light"
     },
     "output_type": "display_data"
    }
   ],
   "source": [
    "ra=data.field('ra')\n",
    "dec=data.field('dec')\n",
    "z=data.field('spec_z')\n",
    "plt.hist(z)"
   ]
  },
  {
   "cell_type": "code",
   "execution_count": 45,
   "id": "2dc0b992",
   "metadata": {},
   "outputs": [
    {
     "data": {
      "text/plain": [
       "[<matplotlib.lines.Line2D at 0x7f30545c9a90>]"
      ]
     },
     "execution_count": 45,
     "metadata": {},
     "output_type": "execute_result"
    },
    {
     "data": {
      "image/png": "[encoded data removed]",
      "text/plain": [
       "<Figure size 432x288 with 1 Axes>"
      ]
     },
     "metadata": {
      "needs_background": "light"
     },
     "output_type": "display_data"
    }
   ],
   "source": [
    "plt.plot(dec,ra,'.',color='r')"
   ]
  },
  {
   "cell_type": "code",
   "execution_count": 153,
   "id": "a3d2cd09",
   "metadata": {},
   "outputs": [],
   "source": [
    "# From astropy inbuilt module separation\n",
    "coordinates_SubHaloes = SkyCoord( Ra[mask1] , Dec[mask1] , unit='deg', frame='icrs')\n",
    "coordinate_cluster    = SkyCoord( ra_cl , dec_cl, unit='deg', frame='icrs') \n",
    "Angular_separation_Astropy = coordinates_SubHaloes.separation( coordinate_cluster )\n",
    "Angular_separation_Astropy_radian = (Angular_separation_Astropy).to(u.radian)"
   ]
  },
  {
   "cell_type": "code",
   "execution_count": 154,
   "id": "267f59d9",
   "metadata": {},
   "outputs": [
    {
     "name": "stdout",
     "output_type": "stream",
     "text": [
      "Angular diameter distance at the clusters redshift : 1355.2689072212688 Mpc per radian\n",
      "Angular diameter distance at the clusters redshift : 23.653904680916696 Mpc per degree\n",
      "Angular diameter distance at the clusters redshift : 394.231744681945 kpc per arc minute    \n"
     ]
    }
   ],
   "source": [
    "# Angular diameter distance\n",
    "print('Angular diameter distance at the clusters redshift :' , cosmos.angular_diameter_distance(z_cl), 'per radian')\n",
    "print('Angular diameter distance at the clusters redshift :' , cosmos.angular_diameter_distance(z_cl)/(180/np.pi), 'per degree')\n",
    "print('Angular diameter distance at the clusters redshift :' , (cosmos.angular_diameter_distance(z_cl)/(180/np.pi)).to(u.kpc)/60, 'per arc minute    ')"
   ]
  },
  {
   "cell_type": "code",
   "execution_count": 155,
   "id": "7349a97c",
   "metadata": {},
   "outputs": [
    {
     "name": "stdout",
     "output_type": "stream",
     "text": [
      "min, max projected distance :  0.07037302206642465 Mpc 1.9357844801579391 Mpc\n"
     ]
    }
   ],
   "source": [
    "# The angular separation between sub haloes and the cluster converted in Mpc\n",
    "r_proj =  Angular_separation_Astropy_radian * cosmos.angular_diameter_distance(z_cl)/u.radian  # where D is comoving distance\n",
    "print('min, max projected distance : ',r_proj.min(), r_proj.max()) #'compared to the 3D virial radius', r_cl/1000)"
   ]
  },
  {
   "cell_type": "code",
   "execution_count": null,
   "id": "745178c0",
   "metadata": {},
   "outputs": [],
   "source": []
  }
 ],
 "metadata": {
  "kernelspec": {
   "display_name": "Python 3 (ipykernel)",
   "language": "python",
   "name": "python3"
  },
  "language_info": {
   "codemirror_mode": {
    "name": "ipython",
    "version": 3
   },
   "file_extension": ".py",
   "mimetype": "text/x-python",
   "name": "python",
   "nbconvert_exporter": "python",
   "pygments_lexer": "ipython3",
   "version": "3.9.7"
  }
 },
 "nbformat": 4,
 "nbformat_minor": 5
}
