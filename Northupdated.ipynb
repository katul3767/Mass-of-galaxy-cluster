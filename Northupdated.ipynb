{
 "cells": [
  {
   "cell_type": "code",
   "execution_count": 1,
   "id": "f55fa926",
   "metadata": {},
   "outputs": [],
   "source": [
    "import numpy as np\n",
    "import astropy.io.fits\n",
    "import matplotlib.pyplot as plt\n",
    "import scipy as sym \n",
    "import scipy.integrate as integrate\n",
    "from scipy import log,exp,sqrt,stats\n",
    "from astropy import units as u\n",
    "import astropy.constants as const\n",
    "from scipy.optimize import curve_fit\n",
    "from scipy.integrate import quad\n",
    "from astropy.stats import biweight_location, biweight_scale, bootstrap\n",
    "\n",
    "from astropy.cosmology import LambdaCDM\n",
    "from scipy.interpolate import interp1d\n",
    "cosmos = LambdaCDM(H0=67.77* u.km / u.Mpc / u.s, Om0=0.307115, Ode0=0.692885)  # define cosmology\n",
    "c=const.c.value\n",
    "%matplotlib inline"
   ]
  },
  {
   "cell_type": "code",
   "execution_count": 2,
   "id": "9454bebe",
   "metadata": {},
   "outputs": [
    {
     "name": "stdout",
     "output_type": "stream",
     "text": [
      "Filename: northupdated.fit\n",
      "No.    Name      Ver    Type      Cards   Dimensions   Format\n",
      "  0  PRIMARY       1 PrimaryHDU       4   ()      \n",
      "  1                1 BinTableHDU    196   371R x 94C   [J, K, E, D, D, E, E, E, E, E, E, E, E, E, E, E, E, E, E, D, D, D, L, D, D, D, D, 256A, K, K, D, D, D, D, D, D, D, D, D, D, D, D, D, D, D, D, D, D, D, D, D, D, D, D, D, D, D, D, D, D, D, D, D, D, 256A, 256A, L, L, L, L, E, E, E, E, D, D, E, E, D, D, 47A, L, L, L, L, L, L, L, L, L, L, L, L, L]   \n"
     ]
    }
   ],
   "source": [
    "my_file=astropy.io.fits.open('northupdated.fit')\n",
    "my_file.info()\n",
    "data= my_file[1].data\n",
    "#Applying mask\n",
    "vel= data.field('vel')\n",
    "zspec=data.field('zspec')\n",
    "mask=np.where(zspec>0)\n",
    "r=data.field('r')\n",
    "z=(zspec[mask])\n",
    "z_cluster=np.mean(zspec[mask])"
   ]
  },
  {
   "cell_type": "code",
   "execution_count": 3,
   "id": "b4d6cbfa",
   "metadata": {},
   "outputs": [
    {
     "data": {
      "image/png": "[encoded data removed]",
      "text/plain": [
       "<Figure size 432x288 with 1 Axes>"
      ]
     },
     "metadata": {
      "needs_background": "light"
     },
     "output_type": "display_data"
    }
   ],
   "source": [
    "ra=data.field('ra')\n",
    "dec=data.field('dec')\n",
    "plt.plot(dec,ra,color='k', linestyle='None', )\n",
    "plt.scatter(data.dec, data.ra,\n",
    "marker = '^',)        \n",
    "plt.xlabel('Dec')\n",
    "plt.ylabel('RA')\n",
    "plt.show()  "
   ]
  },
  {
   "cell_type": "code",
   "execution_count": 4,
   "id": "74c3bb18",
   "metadata": {},
   "outputs": [
    {
     "name": "stdout",
     "output_type": "stream",
     "text": [
      "DATA SET SIZE 194\n",
      "Pre_r200= 1.9014076970864013\n",
      "Calculating Density w/Mirrored Data\n",
      "Vdisp from galaxies= 1422.9711601912059\n",
      "Combined Vdisp= 1422.9711601912059\n",
      "Calculating initial surface\n",
      "complete\n"
     ]
    }
   ],
   "source": [
    "import causticpy\n",
    "caustic= causticpy.Caustic()\n",
    "cluster_data = caustic.run_caustic(np.vstack((ra[mask],dec[mask],zspec[mask])).T)"
   ]
  },
  {
   "cell_type": "code",
   "execution_count": 5,
   "id": "9943500f",
   "metadata": {},
   "outputs": [
    {
     "data": {
      "text/plain": [
       "(<Quantity 2095.99619914 Mpc>, <Quantity 1356.45322481 Mpc>)"
      ]
     },
     "execution_count": 5,
     "metadata": {},
     "output_type": "execute_result"
    }
   ],
   "source": [
    "\"\"\" This gives the comoving distance and Proper distance from the observer\"\"\"\n",
    "D_comov=cosmos.comoving_distance(z_cluster)\n",
    "D_prop=cosmos.angular_diameter_distance(z_cluster)\n",
    "D_comov,D_prop"
   ]
  },
  {
   "cell_type": "code",
   "execution_count": 6,
   "id": "35995524",
   "metadata": {},
   "outputs": [
    {
     "name": "stdout",
     "output_type": "stream",
     "text": [
      "DATA SET SIZE 194\n",
      "Pre_r200= 1.9014076970864013\n",
      "Calculating Density w/Mirrored Data\n",
      "Vdisp from galaxies= 1422.9711601912059\n",
      "Combined Vdisp= 1422.9711601912059\n",
      "Calculating initial surface\n",
      "complete\n",
      "r200 estimate:  1.7522319397953878\n",
      "M200 estimate:  2091040224997605.8\n"
     ]
    }
   ],
   "source": [
    "good_flag = caustic.run_caustic(np.vstack((ra[mask],dec[mask],zspec[mask])).T,clus_z=0.54520345,gal_r = caustic.r, gal_v = caustic.v)"
   ]
  },
  {
   "cell_type": "code",
   "execution_count": 7,
   "id": "17d21800",
   "metadata": {},
   "outputs": [
    {
     "data": {
      "text/plain": [
       "array([0.06248679, 0.28765276, 0.51281873, 0.7379847 , 0.96315067,\n",
       "       1.18831664, 1.41348261, 1.63864858, 1.86381455, 2.08898052,\n",
       "       2.31414649])"
      ]
     },
     "execution_count": 7,
     "metadata": {},
     "output_type": "execute_result"
    }
   ],
   "source": [
    "# cluster data from the mean of all members\n",
    "dec_cl=np.mean(dec[mask])\n",
    "ra_cl=np.mean(ra[mask])\n",
    "\n",
    "# Actual separation of the of galaxies from the cluster center in degrees\n",
    "d_dec = (dec[mask] - dec_cl)\n",
    "d_ra = (ra[mask] - ra_cl)\n",
    "theta = np.arctan2(d_dec,d_ra) \n",
    "deg = np.sqrt(d_ra ** 2 + d_dec ** 2) * np.pi/180 # in radians\n",
    "\n",
    "# act radius by multiplying with d_prop \n",
    "act_r = D_prop * deg\n",
    "Ns,rs=np.histogram(np.array(act_r))\n",
    "rs"
   ]
  },
  {
   "cell_type": "code",
   "execution_count": 8,
   "id": "c823c218",
   "metadata": {},
   "outputs": [],
   "source": [
    "#changing ra and dec to radian\n",
    "ra=data.field('ra')\n",
    "dec=data.field('dec')\n",
    "\n",
    "#for the cluster  from the cluster file\n",
    "c_ra=(109.38886*np.pi/180)\n",
    "c_dec=(37.75183*np.pi/180)\n",
    "\n",
    "# For clusters members/Galaxies\n",
    "c1=ra[mask]*(np.pi/180)\n",
    "c2=dec[mask]*(np.pi/180)"
   ]
  },
  {
   "cell_type": "code",
   "execution_count": 9,
   "id": "36648ed7",
   "metadata": {},
   "outputs": [],
   "source": [
    "\"\"\"\n",
    " Angular separation \n",
    " Using astropy Module\n",
    "\"\"\"\n",
    "import astropy.units as u\n",
    "from astropy.coordinates import SkyCoord\n",
    "A=(SkyCoord(ra[mask]*u.degree, dec[mask]*u.degree)) #c1 refers to the galaxies coordinates\n",
    "B=(SkyCoord(109.38886*u.degree,37.75183*u.degree)) #c2 refers to the co-ordinates of whole cluster\n",
    "sep = A.separation(B)\n",
    "x=sep.radian"
   ]
  },
  {
   "cell_type": "code",
   "execution_count": 10,
   "id": "5daf34ea",
   "metadata": {},
   "outputs": [
    {
     "data": {
      "text/latex": [
       "$[0.012102254,~0.028350286,~0.10036137,~\\dots,~1.875678,~1.9041024,~1.9217968] \\; \\mathrm{Mpc}$"
      ],
      "text/plain": [
       "<Quantity [0.01210225, 0.02835029, 0.10036137, 0.10263826, 0.1145063 ,\n",
       "           0.15431088, 0.16312841, 0.172     , 0.17293552, 0.19415953,\n",
       "           0.19588294, 0.20445279, 0.21880792, 0.22679762, 0.22760908,\n",
       "           0.2376391 , 0.24586203, 0.24981116, 0.2524638 , 0.2543026 ,\n",
       "           0.26156198, 0.26310967, 0.26383184, 0.26724947, 0.27612851,\n",
       "           0.28909042, 0.29350881, 0.30317959, 0.30874151, 0.31356722,\n",
       "           0.31404439, 0.31841489, 0.32543268, 0.32618552, 0.35920613,\n",
       "           0.35992984, 0.36593288, 0.38515151, 0.3937116 , 0.39682714,\n",
       "           0.39929978, 0.40386601, 0.41264699, 0.41771622, 0.4311503 ,\n",
       "           0.43578715, 0.45400456, 0.4677811 , 0.47444179, 0.48642753,\n",
       "           0.49067607, 0.49086186, 0.50171388, 0.50548569, 0.5220427 ,\n",
       "           0.5268731 , 0.53668103, 0.54919367, 0.55701586, 0.56000231,\n",
       "           0.56052711, 0.56356606, 0.57326685, 0.59187889, 0.59376075,\n",
       "           0.60906285, 0.61047858, 0.61429505, 0.62832678, 0.63757755,\n",
       "           0.64503874, 0.64527996, 0.64710276, 0.65195672, 0.66280254,\n",
       "           0.6666808 , 0.67028737, 0.68429755, 0.69193381, 0.69553692,\n",
       "           0.7219679 , 0.72362347, 0.72404061, 0.72551586, 0.73104509,\n",
       "           0.73391435, 0.73889539, 0.74229758, 0.75655237, 0.7615939 ,\n",
       "           0.76170676, 0.7646402 , 0.78564894, 0.79082376, 0.79398488,\n",
       "           0.79562696, 0.79864058, 0.81427391, 0.81559048, 0.83571169,\n",
       "           0.84591562, 0.84639467, 0.84817398, 0.84990441, 0.8523798 ,\n",
       "           0.86172927, 0.86999774, 0.87191828, 0.88963956, 0.91262554,\n",
       "           0.91563816, 0.92085887, 0.9253612 , 0.92593612, 0.93158219,\n",
       "           0.93364412, 0.93707258, 0.94152047, 0.94732716, 0.94839273,\n",
       "           0.94876204, 0.95162059, 0.95175009, 0.9654182 , 0.98567227,\n",
       "           0.98782769, 0.99040326, 0.99607694, 1.00721046, 1.00830501,\n",
       "           1.01513376, 1.02029579, 1.02762377, 1.0400507 , 1.04069659,\n",
       "           1.04914139, 1.0514445 , 1.0520279 , 1.05669522, 1.06937462,\n",
       "           1.07920747, 1.07946207, 1.09072348, 1.09137573, 1.12286828,\n",
       "           1.14696154, 1.15101731, 1.15478586, 1.16184911, 1.16915262,\n",
       "           1.17521426, 1.17945217, 1.18512945, 1.19008443, 1.19421085,\n",
       "           1.20108896, 1.20208614, 1.20450207, 1.20488087, 1.22062086,\n",
       "           1.23467169, 1.26057442, 1.26114249, 1.26418048, 1.2697611 ,\n",
       "           1.27427648, 1.28452434, 1.29038665, 1.29161669, 1.31517189,\n",
       "           1.3196267 , 1.33290124, 1.35244668, 1.35296993, 1.35338167,\n",
       "           1.35456411, 1.38054633, 1.38158514, 1.38657899, 1.38958037,\n",
       "           1.39622496, 1.39800779, 1.40392358, 1.40609344, 1.40670965,\n",
       "           1.40681721, 1.41180965, 1.44619479, 1.4614658 , 1.46188541,\n",
       "           1.48351312, 1.48643234, 1.50046503, 1.50554311, 1.51100244,\n",
       "           1.51269792, 1.51460112, 1.53601759, 1.54750147, 1.56937977,\n",
       "           1.58960467, 1.60478819, 1.63723978, 1.64118325, 1.66471104,\n",
       "           1.67943033, 1.68012224, 1.68439727, 1.69851608, 1.72227421,\n",
       "           1.73207466, 1.7346361 , 1.75161134, 1.75364467, 1.75904762,\n",
       "           1.75917733, 1.76933503, 1.7804836 , 1.78461325, 1.78468533,\n",
       "           1.78496408, 1.80806298, 1.8086569 , 1.80978159, 1.82187246,\n",
       "           1.85605626, 1.85985037, 1.86464211, 1.87540292, 1.87567799,\n",
       "           1.90410238, 1.92179682] Mpc>"
      ]
     },
     "execution_count": 10,
     "metadata": {},
     "output_type": "execute_result"
    }
   ],
   "source": [
    "#Comoving distance to the center of cluster\n",
    "D_prop1=cosmos.angular_diameter_distance(z_cluster)\n",
    "# Distance to each galaxy member\n",
    "D_prop2=cosmos.angular_diameter_distance(z)\n",
    "\n",
    "# Projected separation from the cluster center\n",
    "proj_r=x*D_prop\n",
    "proj_r"
   ]
  },
  {
   "cell_type": "code",
   "execution_count": 11,
   "id": "04092a15",
   "metadata": {},
   "outputs": [],
   "source": [
    "# same results as above from caustic method\n",
    "#caustic.r\n",
    "#plt.plot(proj_r,caustic.r)"
   ]
  },
  {
   "cell_type": "code",
   "execution_count": 12,
   "id": "80fde4a7",
   "metadata": {},
   "outputs": [],
   "source": [
    "# Actual distance estimation according to simulation for all galaxies\n",
    "# Getting the prop distance \n",
    "d_C = D_prop2\n",
    "dc_mpc = (d_C).value\n",
    "\n",
    "# Interpolation of the galaxies redshift with comoving/prop distance\n",
    "dc_interpolation = interp1d(z, dc_mpc)\n",
    "z_interpolation = interp1d(dc_mpc, z)\n",
    "\n",
    "# the phi and theta between galaxy and the plane\n",
    "phi   = ( ra[mask]   - 180 ) * np.pi / 180.\n",
    "theta = (dec[mask] + 90 ) * np.pi / 180.\n",
    "\n",
    "# The proper distance as a result of interpolation (rr)\n",
    "rr    = dc_interpolation(z)\n",
    "x1 = rr * np.cos( phi) * np.sin( theta )  # x component of the position vector\n",
    "y1 = rr * np.sin( phi) * np.sin( theta )  # y component of the position vector\n",
    "z1 = rr * np.cos( theta )                 # z component of the position vector\n",
    "\n",
    "# this contains the xyz component of the postion of each galaxy "
   ]
  },
  {
   "cell_type": "code",
   "execution_count": null,
   "id": "28e5b05b",
   "metadata": {},
   "outputs": [],
   "source": []
  },
  {
   "cell_type": "code",
   "execution_count": 13,
   "id": "542b6e1d",
   "metadata": {},
   "outputs": [],
   "source": [
    "#  same as above but for the cluster center\n",
    "d_x = D_prop1\n",
    "dx_mpc = (d_x).value\n",
    "\n",
    "phi1   = ( ra_cl   - 180 ) * np.pi / 180.\n",
    "theta1 = (dec_cl + 90 ) * np.pi / 180.\n",
    "r1    = dx_mpc\n",
    "\n",
    "x2 = r1 * np.cos( phi1) * np.sin( theta1 )\n",
    "y2 = r1 * np.sin( phi1) * np.sin( theta1 )\n",
    "z2 = r1 * np.cos( theta1 )"
   ]
  },
  {
   "cell_type": "code",
   "execution_count": 14,
   "id": "4a7183d3",
   "metadata": {},
   "outputs": [
    {
     "data": {
      "text/plain": [
       "371"
      ]
     },
     "execution_count": 14,
     "metadata": {},
     "output_type": "execute_result"
    }
   ],
   "source": [
    "len(dec)"
   ]
  },
  {
   "cell_type": "code",
   "execution_count": 15,
   "id": "6ca8927d",
   "metadata": {},
   "outputs": [
    {
     "data": {
      "text/latex": [
       "$[59.624044,~59.640823,~59.585334,~\\dots,~60.640363,~61.247982,~57.583757] \\; \\mathrm{Mpc}$"
      ],
      "text/plain": [
       "<Quantity [59.62404352, 59.64082291, 59.58533385, 59.58594649, 59.56864666,\n",
       "           59.73958653, 59.78723524, 59.76548822, 59.62281318, 59.53238587,\n",
       "           59.8080847 , 59.5025233 , 59.85257963, 59.41467916, 59.77868412,\n",
       "           59.83184421, 59.46610136, 59.79066561, 59.63277151, 59.42705428,\n",
       "           59.65998665, 59.50375479, 59.31807962, 59.52416409, 59.90361464,\n",
       "           59.93322635, 59.90080638, 59.47574118, 59.37692566, 59.94579153,\n",
       "           59.97118104, 59.61739298, 59.32290099, 59.34033637, 59.41164276,\n",
       "           59.38510988, 59.48392665, 59.8717771 , 60.04688403, 59.45221813,\n",
       "           60.06630423, 59.2117639 , 60.05631342, 59.30591597, 59.42618538,\n",
       "           59.52892863, 60.04334445, 60.0702228 , 59.25185461, 60.09313008,\n",
       "           59.78465061, 59.41161641, 59.05474673, 59.51984115, 59.11451154,\n",
       "           59.0765997 , 59.54223645, 60.23402172, 60.15882975, 59.4593113 ,\n",
       "           59.4350025 , 60.21527389, 59.9507    , 58.95918078, 59.33259461,\n",
       "           59.64580324, 59.7196201 , 60.26305035, 59.72207651, 60.30628141,\n",
       "           58.88453597, 59.66475303, 58.90263744, 60.11741487, 59.84698012,\n",
       "           58.94467064, 59.65080019, 59.03631396, 60.2577724 , 60.2503756 ,\n",
       "           59.39003546, 59.97197134, 59.15424791, 59.01239333, 59.21077528,\n",
       "           60.0352555 , 60.23492669, 59.44914978, 59.01999602, 60.05355582,\n",
       "           60.27339061, 59.19268319, 60.43273085, 58.75290515, 59.14297113,\n",
       "           59.01090395, 59.53527433, 59.8234761 , 59.6013483 , 59.05611826,\n",
       "           59.19876538, 59.12711729, 59.35515002, 59.65089539, 59.08691747,\n",
       "           59.05914144, 59.63086923, 60.58406239, 58.79146256, 59.30127826,\n",
       "           60.29001001, 58.61404849, 58.66373255, 60.63298439, 58.67959016,\n",
       "           58.88448912, 60.43362472, 58.96724313, 59.7109643 , 59.00776665,\n",
       "           58.54745549, 60.4575728 , 59.95000169, 60.28077635, 59.31057401,\n",
       "           58.54122643, 58.96387627, 60.67106144, 58.45264311, 60.06689411,\n",
       "           58.52484294, 59.7383996 , 59.32212955, 59.24235875, 59.9600215 ,\n",
       "           58.57842912, 60.38888842, 58.45200827, 59.13358143, 59.79856333,\n",
       "           60.06860936, 60.55369085, 59.11399808, 58.60327441, 58.64501987,\n",
       "           60.2945075 , 60.87618211, 59.52957808, 60.42898606, 60.05564344,\n",
       "           58.59202101, 60.87753108, 58.99292281, 60.37353318, 60.56632803,\n",
       "           58.71097061, 60.7748734 , 58.60293157, 58.74863727, 59.1676339 ,\n",
       "           58.32224072, 60.84575982, 58.25518364, 60.05214201, 61.02239865,\n",
       "           60.99563251, 60.28354836, 58.62517219, 59.27746665, 60.29961091,\n",
       "           58.35971317, 60.89652453, 58.24422229, 60.58183611, 58.55872826,\n",
       "           59.57109859, 60.55952977, 59.95035819, 58.12429097, 57.98681754,\n",
       "           60.7919051 , 57.9795228 , 59.14872934, 59.79794666, 60.45400174,\n",
       "           60.71359015, 58.00932683, 60.06133424, 57.93252536, 61.12926884,\n",
       "           60.85567492, 61.09306653, 58.50919834, 60.67378243, 61.20732942,\n",
       "           60.96875349, 60.66329668, 60.89422806, 60.63411997, 58.8809364 ,\n",
       "           61.17858224, 60.54514774, 59.85569422, 60.86254976, 60.65256414,\n",
       "           59.86110722, 61.28696017, 59.00531043, 61.47641969, 58.90776141,\n",
       "           57.68620798, 61.44959409, 61.50327758, 60.68209945, 60.57217067,\n",
       "           60.27630508, 59.77844399, 57.61460837, 57.52004115, 60.82328684,\n",
       "           58.74000422, 57.4931698 , 58.54764015, 57.72473469, 57.55194   ,\n",
       "           60.37048414, 61.17631114, 60.59653133, 61.11540626, 60.64036251,\n",
       "           61.24798198, 57.58375685] Mpc>"
      ]
     },
     "execution_count": 15,
     "metadata": {},
     "output_type": "execute_result"
    }
   ],
   "source": [
    "yu=np.arccos(np.sin(dec[mask])*np.sin(dec_cl) + np.cos(dec[mask])*(np.cos(dec_cl)*np.cos(dec[mask] - ra_cl)))*np.pi/180\n",
    "(np.tan(yu))*D_prop\n"
   ]
  },
  {
   "cell_type": "code",
   "execution_count": null,
   "id": "e1b877a5",
   "metadata": {},
   "outputs": [],
   "source": []
  },
  {
   "cell_type": "code",
   "execution_count": 17,
   "id": "74f4f010",
   "metadata": {},
   "outputs": [
    {
     "data": {
      "text/plain": [
       "array([2.10163687e+00, 1.03172894e+01, 2.56651402e+01, 3.61856102e+00,\n",
       "       5.30843835e-01, 1.75331308e+00, 7.63505498e+00, 2.49407866e+00,\n",
       "       9.34353619e+00, 1.13428590e+00, 4.24196496e+00, 1.98438320e+01,\n",
       "       4.49481704e+00, 7.25328607e+00, 5.49446252e+00, 7.03953275e+01,\n",
       "       3.33714396e-01, 1.53598558e+01, 3.84066398e+00, 3.69917084e+01,\n",
       "       1.63809942e+01, 2.00834940e+01, 1.77506712e+02, 5.06941423e+00,\n",
       "       6.04696460e+00, 9.34687310e+00, 1.31118174e+01, 1.38387239e+01,\n",
       "       2.35349788e+01, 7.88495127e+00, 8.01159281e-01, 1.98438362e+01,\n",
       "       7.64014118e+00, 2.37724538e+01, 1.68520884e+01, 1.38326950e+01,\n",
       "       5.92723377e+00, 5.25127431e+00, 5.68343309e+00, 2.15043081e+00,\n",
       "       1.01561678e+01, 1.41938767e+00, 2.26855306e+01, 6.88931691e+00,\n",
       "       5.01541214e+00, 1.68059301e+00, 6.25689244e+00, 3.26643918e+00,\n",
       "       1.61342846e+01, 3.26891642e+00, 5.89206525e+00, 7.89199394e+00,\n",
       "       2.12800823e+01, 1.44540380e+00, 1.78167514e+02, 7.65552243e+00,\n",
       "       2.90719577e+00, 1.86945096e+01, 1.98515337e+01, 6.19476914e+00,\n",
       "       1.34609514e+01, 5.81825842e+00, 8.39821110e+00, 3.05828984e+00,\n",
       "       1.40820235e+00, 3.65719948e+00, 3.65694025e+00, 1.19357772e+01,\n",
       "       2.51966287e+01, 6.81555596e+01, 1.42138237e+01, 2.67304920e+01,\n",
       "       2.14027889e+01, 2.66222103e+00, 2.33355266e+00, 7.12410885e+01,\n",
       "       1.32427130e+02, 7.34938981e+01, 7.41613488e+00, 7.29416825e+00,\n",
       "       7.92390678e-01, 5.10203421e+00, 8.23127719e-01, 1.34942634e+01,\n",
       "       1.46750623e+00, 9.66702394e+00, 7.15589533e+00, 8.28565625e+00,\n",
       "       1.43405484e+01, 1.19485684e+01, 9.17029190e-01, 3.70798726e+00,\n",
       "       5.79511706e+00, 1.80860694e+00, 8.04625674e+00, 1.13197085e+00,\n",
       "       1.72968861e+01, 7.80001837e+00, 3.09029662e+00, 6.59349938e+00,\n",
       "       1.11984052e+01, 3.12537555e+00, 9.68617413e+00, 5.97162346e+00,\n",
       "       8.41679406e+00, 8.72266113e-01, 1.44517892e+00, 1.09401375e+01,\n",
       "       2.99920797e+00, 6.14827950e+01, 8.80172149e+00, 7.02603404e+01,\n",
       "       9.15193114e+00, 9.81204741e+00, 9.27384341e+00, 4.11101977e+00,\n",
       "       6.67896825e+00, 6.85086161e+00, 1.36294358e+01, 1.32961117e+00,\n",
       "       1.34831613e+01, 4.42657675e+00, 7.31717940e+00, 1.14515700e+01,\n",
       "       6.23147288e+01, 1.73587048e+01, 8.82301649e+00, 3.61609545e+00,\n",
       "       1.07809815e+00, 5.20209947e+00, 1.83600650e+00, 1.24669266e+01,\n",
       "       1.31494967e+00, 4.01778380e+00, 4.79121099e+00, 4.22214189e+00,\n",
       "       6.19808234e+00, 1.57150599e+00, 1.71840634e+01, 7.33499729e+00,\n",
       "       2.49168176e+02, 1.89647337e+02, 2.95287137e+00, 1.20963857e+00,\n",
       "       1.28098241e+00, 1.00817230e+01, 9.77489614e+00, 1.42489090e+01,\n",
       "       5.47781853e+00, 1.32389547e+01, 7.83941033e+00, 9.83525506e+00,\n",
       "       1.19623472e+01, 3.78636871e+00, 3.34120790e+00, 1.26252164e+00,\n",
       "       8.21144325e+00, 1.60505272e+00, 5.88016917e+00, 1.30195268e+02,\n",
       "       2.21425173e+01, 5.93123877e+00, 1.55407068e+01, 1.25303190e+02,\n",
       "       1.44925416e+01, 2.25255892e+00, 1.04736407e+01, 3.37231856e+00,\n",
       "       1.48807102e+00, 6.49121206e+00, 2.08434752e+01, 3.48259772e+00,\n",
       "       3.05701891e+00, 6.25304380e+00, 3.99744126e+00, 1.16065529e+01,\n",
       "       9.10888871e+00, 8.11251230e+00, 2.14167462e+02, 6.85866727e+01,\n",
       "       1.80056692e+00, 1.46623767e+01, 1.32624753e+01, 8.98799651e+00,\n",
       "       5.89737990e+00, 7.12586185e+00, 7.16733569e+01, 1.81008324e+01,\n",
       "       4.49108008e+00, 2.05620224e+00, 5.06898596e+00, 2.98275326e+00,\n",
       "       9.95451397e+00, 7.51461841e+00, 6.34411549e+00, 5.75538817e+00,\n",
       "       9.37769800e+00, 3.58683895e+01, 6.34085709e+00, 2.59136332e+02,\n",
       "       2.14309369e+00, 1.30572113e+02, 1.69646377e+01, 1.05210306e+01,\n",
       "       6.03817104e+00, 1.78173269e+02, 5.69231686e+01, 1.16719758e+02,\n",
       "       6.26999603e+00, 1.68959121e+00, 1.34328438e+01, 2.44164022e+00,\n",
       "       1.30481105e+02, 6.27410032e+00, 1.30480946e+02, 1.21676640e+01,\n",
       "       1.71741324e+01, 1.31874333e+01, 1.45773944e+01, 1.40605165e+01,\n",
       "       9.40517959e+00, 7.59959354e+00, 4.86281210e+00, 3.69422312e+02,\n",
       "       7.26677000e+00, 2.09729734e+02, 6.65018637e+01, 2.26361081e+00,\n",
       "       2.77748864e+00, 2.21229701e+00, 3.64636825e+01, 8.23229011e+00])"
      ]
     },
     "execution_count": 17,
     "metadata": {},
     "output_type": "execute_result"
    }
   ],
   "source": [
    "dis =np.sqrt((x2-x1)**2 + (y2-y1)**2 + (z2-z1)**2)\n",
    "dis"
   ]
  },
  {
   "cell_type": "code",
   "execution_count": 18,
   "id": "4e19f9f4",
   "metadata": {},
   "outputs": [],
   "source": [
    "bb=np.sqrt(np.sort(rr**2+r1**2-(2*rr*r1)*(np.sin(theta)*np.sin(theta1)*np.cos(phi-phi1)+np.cos(theta)*np.cos(theta1))))\n"
   ]
  },
  {
   "cell_type": "code",
   "execution_count": 19,
   "id": "5605ae64",
   "metadata": {},
   "outputs": [],
   "source": [
    "zs=np.array(rr**2+r1**2)-(2*rr*r1)*[np.sin(theta)*np.sin(theta1)*np.cos(phi)*np.cos(phi1)+np.sin(theta)*np.sin(theta1)*np.sin(phi)*np.sin(phi1)+np.cos(theta)*np.cos(theta1)]\n"
   ]
  },
  {
   "cell_type": "code",
   "execution_count": 20,
   "id": "ff229910",
   "metadata": {},
   "outputs": [
    {
     "data": {
      "text/plain": [
       "[<matplotlib.lines.Line2D at 0x7fcf8f763f70>]"
      ]
     },
     "execution_count": 20,
     "metadata": {},
     "output_type": "execute_result"
    },
    {
     "data": {
      "image/png": "[encoded data removed]",
      "text/plain": [
       "<Figure size 432x288 with 1 Axes>"
      ]
     },
     "metadata": {
      "needs_background": "light"
     },
     "output_type": "display_data"
    }
   ],
   "source": [
    "distance=np.sqrt(rr**2+r1**2-2*rr*r1*np.cos(theta-theta1)-2*rr*r1*np.sin(theta)*np.sin(theta1)*(np.cos(phi-phi1)-1))\n",
    "plt.plot(np.sort(distance),(bb))"
   ]
  },
  {
   "cell_type": "code",
   "execution_count": null,
   "id": "7e2e227f",
   "metadata": {},
   "outputs": [],
   "source": []
  },
  {
   "cell_type": "code",
   "execution_count": 24,
   "id": "6f8c7aae",
   "metadata": {},
   "outputs": [
    {
     "data": {
      "text/plain": [
       "array([-0.01223208, -0.01221411, -0.01229676, -0.01218501, -0.01218669,\n",
       "       -0.01212579, -0.01213697, -0.01223909, -0.01232531, -0.01236217,\n",
       "       -0.01221712, -0.01216884, -0.01211121, -0.01238591, -0.01227179,\n",
       "       -0.01207388, -0.01216495, -0.01227873, -0.01208078, -0.01218694,\n",
       "       -0.01235943, -0.01213101, -0.0123011 , -0.01211758, -0.01206765,\n",
       "       -0.01207838, -0.01204379, -0.01212182, -0.01218529, -0.01204799,\n",
       "       -0.01211391, -0.01240744, -0.0124514 , -0.01220226, -0.01212473,\n",
       "       -0.01248053, -0.0124711 , -0.0123144 , -0.01213652, -0.01207633,\n",
       "       -0.01209376, -0.01249132, -0.01199608, -0.01215865, -0.01206937,\n",
       "       -0.01201425, -0.01222217, -0.01220639, -0.01215828, -0.01219981,\n",
       "       -0.01189975, -0.01255633, -0.0125113 , -0.01253952, -0.01257479,\n",
       "       -0.01228456, -0.01254986, -0.01197921, -0.01187555, -0.01197183,\n",
       "       -0.01198374, -0.01212995, -0.01238486, -0.01236919, -0.01201961,\n",
       "       -0.01255351, -0.01252509, -0.01213102, -0.01253365, -0.012094  ,\n",
       "       -0.01241523, -0.01256558, -0.01260554, -0.01232077, -0.01177942,\n",
       "       -0.01265827, -0.01258404, -0.01269669, -0.01222798, -0.01223892,\n",
       "       -0.01190609, -0.01246365, -0.01204762, -0.01215903, -0.01200428,\n",
       "       -0.01243238, -0.01229064, -0.01268555, -0.01212688, -0.01168994,\n",
       "       -0.01171139, -0.01199312, -0.01176611, -0.0126983 , -0.01200599,\n",
       "       -0.01210332, -0.01179168, -0.01168853, -0.01175539, -0.01203778,\n",
       "       -0.0119342 , -0.01198009, -0.0118443 , -0.01267778, -0.0120035 ,\n",
       "       -0.01281787, -0.01171112, -0.01198133, -0.01282281, -0.01281138,\n",
       "       -0.01237874, -0.0127793 , -0.01233324, -0.01175639, -0.01230571,\n",
       "       -0.0120982 , -0.01227669, -0.01202573, -0.01163621, -0.01199063,\n",
       "       -0.01248476, -0.01158718, -0.01157389, -0.01241941, -0.01284799,\n",
       "       -0.01242505, -0.01199184, -0.01205624, -0.01257701, -0.01257544,\n",
       "       -0.01240929, -0.01273231, -0.01174644, -0.01178055, -0.01264712,\n",
       "       -0.0122949 , -0.01240042, -0.01247119, -0.01183218, -0.0115331 ,\n",
       "       -0.01261411, -0.0122868 , -0.01182103, -0.01222336, -0.01215216,\n",
       "       -0.01252558, -0.01164567, -0.01157103, -0.01244671, -0.01266973,\n",
       "       -0.01302067, -0.01199837, -0.01183225, -0.01250229, -0.01139279,\n",
       "       -0.01202763, -0.01146134, -0.01211932, -0.01199398, -0.0117025 ,\n",
       "       -0.01300179, -0.01143344, -0.01246133, -0.01134785, -0.01163586,\n",
       "       -0.01156192, -0.0126131 , -0.0120271 , -0.01159724, -0.01262156,\n",
       "       -0.012256  , -0.01217357, -0.01309568, -0.01246653, -0.01203196,\n",
       "       -0.01295865, -0.01250015, -0.01282859, -0.01307687, -0.01284226,\n",
       "       -0.0112656 , -0.01279984, -0.01309971, -0.0129028 , -0.01258437,\n",
       "       -0.012406  , -0.01264372, -0.01281241, -0.01300945, -0.01202235,\n",
       "       -0.01234768, -0.01210559, -0.01195315, -0.01250303, -0.01138703,\n",
       "       -0.01121305, -0.01251616, -0.01116346, -0.01255659, -0.01323704,\n",
       "       -0.01211676, -0.01264648, -0.01299306, -0.01245831, -0.01101648,\n",
       "       -0.01301126, -0.01208372, -0.01147771, -0.01143188, -0.0133093 ,\n",
       "       -0.01324777, -0.01128624, -0.01182668, -0.01265146, -0.01271907,\n",
       "       -0.01287242, -0.01308494, -0.01326151, -0.01308573, -0.01258061,\n",
       "       -0.01156835, -0.01310484, -0.01168297, -0.01336983, -0.0127418 ,\n",
       "       -0.01287674, -0.0109406 , -0.0127642 , -0.01242953, -0.01085243,\n",
       "       -0.01092232, -0.01343141])"
      ]
     },
     "execution_count": 24,
     "metadata": {},
     "output_type": "execute_result"
    }
   ],
   "source": [
    "\n",
    "#    R=1\n",
    "#    \n",
    "#    x1 = R* FLRW.comoving_distance(qso.z)*math.sin(toRad(qso.DEC))*math.cos(toRad(qso.RA))\n",
    "#    y1 = R* FLRW.comoving_distance(qso.z)*math.sin(toRad(qso.DEC))*math.sin(toRad(qso.RA))\n",
    "#    z1 = R* FLRW.comoving_distance(qso.z)*math.cos(toRad(qso.DEC))\n",
    "#    \n",
    "#    x2 = R* FLRW.comoving_distance(eachCluster.z)*math.sin(toRad(eachCluster.DEC))*math.cos(toRad(eachCluster.RA))\n",
    "#    y2 = R* FLRW.comoving_distance(eachCluster.z)*math.sin(toRad(eachCluster.DEC))*math.sin(toRad(eachCluster.RA))\n",
    "#    z2 = R* FLRW.comoving_distance(eachCluster.z)*math.cos(toRad(eachCluster.DEC))    \n",
    "#    \n",
    "#    dis = math.sqrt((x1-x2)**2 + (y1-y2)**2 + (z1-z2)**2)\n",
    "#    return dis\n",
    "\n",
    "ra1 = ra[mask]\n",
    "ra2 = c_ra\n",
    "dec1 = dec[mask]   \n",
    "dec2 = c_dec\n",
    "\n",
    "radiff  = ra2-ra1\n",
    "angle1 = np.arctan2(np.sin(radiff),np.cos(dec1)*np.tan(dec2)-np.sin(dec1)*np.cos(radiff))\n",
    "angle1*(np.pi/180)"
   ]
  },
  {
   "cell_type": "code",
   "execution_count": 25,
   "id": "881f71b6",
   "metadata": {},
   "outputs": [
    {
     "data": {
      "text/plain": [
       "array([0.05128033, 0.06775581, 0.07158301, 0.16282267, 0.17579602,\n",
       "       0.17868873, 0.16375537, 0.11527804, 0.12192887, 0.16384723,\n",
       "       0.14484227, 0.26651224, 0.21182926, 0.22519906, 0.16632927,\n",
       "       0.25082065, 0.30800658, 0.18829807, 0.30528853, 0.31596313,\n",
       "       0.20541854, 0.32444948, 0.31143141, 0.32775877, 0.27400837,\n",
       "       0.27714316, 0.29953629, 0.36479114, 0.37007568, 0.30926809,\n",
       "       0.28391354, 0.26681883, 0.32260467, 0.38653522, 0.42130897,\n",
       "       0.33800794, 0.3286753 , 0.32324954, 0.35139635, 0.45802175,\n",
       "       0.36545478, 0.40929945, 0.40462136, 0.47930784, 0.49258263,\n",
       "       0.49405246, 0.39846193, 0.41373159, 0.53577265, 0.43289984,\n",
       "       0.53339513, 0.45542038, 0.52160965, 0.46004265, 0.52247561,\n",
       "       0.58139802, 0.48914751, 0.52592114, 0.55970989, 0.61952844,\n",
       "       0.62066859, 0.51641119, 0.51112316, 0.64003999, 0.65546222,\n",
       "       0.55532566, 0.55361132, 0.56601495, 0.57146818, 0.59265407,\n",
       "       0.69002548, 0.59076266, 0.66340649, 0.59116467, 0.70488187,\n",
       "       0.67090367, 0.61640113, 0.67419634, 0.63550192, 0.63848174,\n",
       "       0.78194289, 0.66180473, 0.78615452, 0.78588987, 0.79311578,\n",
       "       0.67178169, 0.67949073, 0.69766387, 0.81759237, 0.79283885,\n",
       "       0.7738334 , 0.82670889, 0.77914598, 0.80480958, 0.85612692,\n",
       "       0.85698828, 0.85470293, 0.85977153, 0.86963157, 0.89772915,\n",
       "       0.90771342, 0.90851719, 0.90805383, 0.79619068, 0.91451755,\n",
       "       0.83745621, 0.92307817, 0.83205149, 0.88536838, 0.87275254,\n",
       "       0.85435245, 0.93388531, 0.97936748, 0.90825762, 0.98678718,\n",
       "       0.99472921, 0.87861552, 1.00344761, 0.99795041, 1.0104985 ,\n",
       "       0.99480929, 0.96132048, 0.99331397, 0.90365044, 0.94420271,\n",
       "       1.03786978, 1.05246217, 0.94840391, 1.04816851, 0.94682405,\n",
       "       1.06622286, 0.96442934, 1.0871613 , 1.10060462, 0.98062407,\n",
       "       1.10505991, 0.99014663, 1.10038732, 1.11823342, 1.11765217,\n",
       "       1.01799398, 1.02089506, 1.15228972, 1.14947996, 1.18258261,\n",
       "       1.08481702, 1.13280826, 1.21013019, 1.10017814, 1.10843785,\n",
       "       1.16568274, 1.13322893, 1.24709331, 1.12802296, 1.21053826,\n",
       "       1.26251757, 1.20331892, 1.26468773, 1.26660896, 1.28126309,\n",
       "       1.24165597, 1.26035541, 1.31197369, 1.3057425 , 1.24699501,\n",
       "       1.25813986, 1.22254173, 1.35166087, 1.35074819, 1.25318832,\n",
       "       1.37696773, 1.27809589, 1.35546268, 1.29144239, 1.41449663,\n",
       "       1.30282721, 1.31874767, 1.32299234, 1.39667747, 1.42280049,\n",
       "       1.40851062, 1.43423708, 1.36311652, 1.34991873, 1.34456692,\n",
       "       1.34621296, 1.45657993, 1.38644135, 1.48436312, 1.41238266,\n",
       "       1.42410113, 1.43369387, 1.56205077, 1.44391175, 1.4993271 ,\n",
       "       1.52018585, 1.45287148, 1.54888421, 1.48554232, 1.53466389,\n",
       "       1.53626508, 1.54264599, 1.5806382 , 1.58026385, 1.69203049,\n",
       "       1.6228352 , 1.62763604, 1.74496281, 1.67629677, 1.68477935,\n",
       "       1.74690613, 1.72126302, 1.70807752, 1.69151626, 1.69696775,\n",
       "       1.69844287, 1.71404091, 1.79683592, 1.8144399 , 1.7228513 ,\n",
       "       1.84673146, 1.83745339, 1.87079381, 1.81536525, 1.86778475,\n",
       "       1.79495027, 1.8716196 , 1.80262318, 1.81523994, 1.90721988,\n",
       "       1.91422608, 1.92864598])"
      ]
     },
     "execution_count": 25,
     "metadata": {},
     "output_type": "execute_result"
    }
   ],
   "source": [
    "caustic.r"
   ]
  },
  {
   "cell_type": "code",
   "execution_count": null,
   "id": "81a28495",
   "metadata": {},
   "outputs": [],
   "source": []
  },
  {
   "cell_type": "code",
   "execution_count": null,
   "id": "689e7bd3",
   "metadata": {},
   "outputs": [],
   "source": []
  },
  {
   "cell_type": "code",
   "execution_count": 26,
   "id": "839194e2",
   "metadata": {},
   "outputs": [
    {
     "data": {
      "text/plain": [
       "(array([11, 28, 24, 29, 32, 24, 24, 26, 12, 22]),\n",
       " array([0.00814648, 0.13607198, 0.26399747, 0.39192298, 0.51984847,\n",
       "        0.647774  , 0.77569944, 0.90362495, 1.0315504 , 1.1594759 ,\n",
       "        1.2874014 ], dtype=float32))"
      ]
     },
     "execution_count": 26,
     "metadata": {},
     "output_type": "execute_result"
    }
   ],
   "source": [
    "np.histogram(r[mask])"
   ]
  },
  {
   "cell_type": "code",
   "execution_count": 27,
   "id": "43690253",
   "metadata": {},
   "outputs": [
    {
     "data": {
      "text/plain": [
       "array([11, 28, 24, 29, 32, 24, 24, 26, 12, 22])"
      ]
     },
     "execution_count": 27,
     "metadata": {},
     "output_type": "execute_result"
    }
   ],
   "source": [
    "r_act=r[mask]\n",
    "N,r_3d=np.histogram(r_act)\n",
    "##n=N/(np.pi*(( rout[1:]**2-rout[:-1]**2)))\n",
    "#n \n",
    "N"
   ]
  },
  {
   "cell_type": "code",
   "execution_count": null,
   "id": "1db4608d",
   "metadata": {
    "scrolled": true
   },
   "outputs": [],
   "source": []
  },
  {
   "cell_type": "code",
   "execution_count": 28,
   "id": "2bbc8249",
   "metadata": {},
   "outputs": [
    {
     "data": {
      "text/plain": [
       "array([85.20972741, 78.16058601, 40.85938154, 35.5164093 , 30.6024602 ,\n",
       "       18.82631801, 15.9579272 , 15.00203418,  6.11545401, 10.0393109 ])"
      ]
     },
     "execution_count": 28,
     "metadata": {},
     "output_type": "execute_result"
    },
    {
     "data": {
      "image/png": "[encoded data removed]",
      "text/plain": [
       "<Figure size 432x288 with 1 Axes>"
      ]
     },
     "metadata": {
      "needs_background": "light"
     },
     "output_type": "display_data"
    }
   ],
   "source": [
    "#act_N,rs=np.histogram(r[mask])\n",
    "N,R=np.histogram(np.array(proj_r))\n",
    "\n",
    "#Getting the number density profile in 2D \n",
    "n=N/(np.pi*(( R[1:]**2-R[:-1]**2)))\n",
    "\n",
    "# central point of each separation \n",
    "R_proj = (R[1:] + R[:-1])/2\n",
    "plt.plot(R_proj,n, color='black', linestyle='dashed', linewidth = 2, marker='o', markerfacecolor='green', markersize=12)\n",
    "#plt.yscale('log')\n",
    "#plt.xscale('log')\n",
    "plt.xlabel('projected separation(Mpc)')\n",
    "plt.ylabel('number density (Mpc^-2)')  \n",
    "plt.show()\n",
    "n"
   ]
  },
  {
   "cell_type": "code",
   "execution_count": 29,
   "id": "806386e8",
   "metadata": {},
   "outputs": [],
   "source": [
    "R_proj = (R[1:] + R[:-1])/2"
   ]
  },
  {
   "cell_type": "code",
   "execution_count": 30,
   "id": "1a3b12b9",
   "metadata": {},
   "outputs": [
    {
     "data": {
      "text/plain": [
       "array([0.06248679, 0.28765276, 0.51281873, 0.7379847 , 0.96315067,\n",
       "       1.18831664, 1.41348261, 1.63864858, 1.86381455, 2.08898052,\n",
       "       2.31414649])"
      ]
     },
     "execution_count": 30,
     "metadata": {},
     "output_type": "execute_result"
    }
   ],
   "source": [
    "rs"
   ]
  },
  {
   "cell_type": "code",
   "execution_count": 31,
   "id": "0bf615bf",
   "metadata": {
    "scrolled": true
   },
   "outputs": [
    {
     "data": {
      "text/plain": [
       "' the derivative of number density / the slop of the function n\\n '"
      ]
     },
     "execution_count": 31,
     "metadata": {},
     "output_type": "execute_result"
    }
   ],
   "source": [
    "\"\"\" the derivative of number density / the slop of the function n\n",
    " \"\"\"\n",
    "#dndr=np.array(np.gradient(n)/np.gradient(R_proj))\n",
    "#dndr"
   ]
  },
  {
   "cell_type": "code",
   "execution_count": 32,
   "id": "67053194",
   "metadata": {},
   "outputs": [
    {
     "data": {
      "text/plain": [
       "(10,)"
      ]
     },
     "execution_count": 32,
     "metadata": {},
     "output_type": "execute_result"
    }
   ],
   "source": [
    "dndR=np.array(np.gradient(n,R_proj))\n",
    "dndR.shape"
   ]
  },
  {
   "cell_type": "code",
   "execution_count": 33,
   "id": "2074f1a7",
   "metadata": {},
   "outputs": [
    {
     "data": {
      "text/plain": [
       "array([0.10758698, 0.29855644, 0.4895259 , 0.68049535, 0.87146481,\n",
       "       1.06243427, 1.25340372, 1.44437318, 1.63534264, 1.8263121 ])"
      ]
     },
     "execution_count": 33,
     "metadata": {},
     "output_type": "execute_result"
    }
   ],
   "source": [
    "R_proj"
   ]
  },
  {
   "cell_type": "code",
   "execution_count": 34,
   "id": "f6bdb396",
   "metadata": {},
   "outputs": [
    {
     "data": {
      "text/plain": [
       "(10,)"
      ]
     },
     "execution_count": 34,
     "metadata": {},
     "output_type": "execute_result"
    }
   ],
   "source": [
    "np.array(R_proj).shape"
   ]
  },
  {
   "cell_type": "code",
   "execution_count": 35,
   "id": "314806c2",
   "metadata": {},
   "outputs": [],
   "source": [
    " #? np.hstack"
   ]
  },
  {
   "cell_type": "code",
   "execution_count": 36,
   "id": "3db66cb9",
   "metadata": {},
   "outputs": [
    {
     "data": {
      "text/plain": [
       "<scipy.interpolate.interpolate.interp1d at 0x7fcf8f16f4a0>"
      ]
     },
     "execution_count": 36,
     "metadata": {},
     "output_type": "execute_result"
    }
   ],
   "source": [
    "interp1d(np.array(R_proj),np.array(dndR))"
   ]
  },
  {
   "cell_type": "code",
   "execution_count": 37,
   "id": "230f484a",
   "metadata": {},
   "outputs": [
    {
     "data": {
      "text/plain": [
       "array([0.        , 0.10758698, 0.29855644, 0.4895259 , 0.68049535,\n",
       "       0.87146481, 1.06243427, 1.25340372, 1.44437318, 1.63534264,\n",
       "       1.8263121 ])"
      ]
     },
     "execution_count": 37,
     "metadata": {},
     "output_type": "execute_result"
    }
   ],
   "source": [
    "xx=np.hstack((np.array([0]),np.array(R_proj)))\n",
    "xx"
   ]
  },
  {
   "cell_type": "code",
   "execution_count": 38,
   "id": "de5a33f7",
   "metadata": {},
   "outputs": [
    {
     "data": {
      "text/plain": [
       "array([ -36.9124022 ,  -36.9124022 , -116.11895059, -111.65182483,\n",
       "        -26.85487383,  -43.69832631,  -38.34260523,  -10.01281538,\n",
       "        -25.76975749,  -12.99349998,   20.54703909])"
      ]
     },
     "execution_count": 38,
     "metadata": {},
     "output_type": "execute_result"
    }
   ],
   "source": [
    "yy=np.hstack((np.array(dndR[0]),np.array(dndR)))\n",
    "yy"
   ]
  },
  {
   "cell_type": "code",
   "execution_count": 39,
   "id": "40a63b80",
   "metadata": {},
   "outputs": [
    {
     "data": {
      "text/plain": [
       "array([ -36.9124022 ,  -36.9124022 , -116.11895059, -111.65182483,\n",
       "        -26.85487383,  -43.69832631,  -38.34260523,  -10.01281538,\n",
       "        -25.76975749,  -12.99349998,   20.54703909])"
      ]
     },
     "execution_count": 39,
     "metadata": {},
     "output_type": "execute_result"
    }
   ],
   "source": [
    "yy"
   ]
  },
  {
   "cell_type": "code",
   "execution_count": 40,
   "id": "f0e2a42d",
   "metadata": {},
   "outputs": [],
   "source": [
    "#inter1=interp1d(xx,yy)"
   ]
  },
  {
   "cell_type": "code",
   "execution_count": 41,
   "id": "4776efa7",
   "metadata": {},
   "outputs": [],
   "source": [
    "inter1=interp1d(xx, yy, bounds_error=False, fill_value=-10.)"
   ]
  },
  {
   "cell_type": "code",
   "execution_count": 42,
   "id": "ce04c23e",
   "metadata": {},
   "outputs": [
    {
     "data": {
      "text/plain": [
       "71.53573064718636"
      ]
     },
     "execution_count": 42,
     "metadata": {},
     "output_type": "execute_result"
    }
   ],
   "source": [
    "\n",
    "def nu(R,rs):\n",
    "    return (-1/np.pi)*(inter1(R)/((R**2 - rs**2)**0.5))\n",
    "\n",
    "integrate.quad(nu, rs[0], 1.82,args=(rs[0]))[0]\n"
   ]
  },
  {
   "cell_type": "code",
   "execution_count": 43,
   "id": "9aafc283",
   "metadata": {},
   "outputs": [
    {
     "data": {
      "text/plain": [
       "58.14951950064835"
      ]
     },
     "execution_count": 43,
     "metadata": {},
     "output_type": "execute_result"
    }
   ],
   "source": [
    "\n",
    "def nu(R,rs):\n",
    "    return (-1/np.pi)*(inter1(R)/((R**2 - rs**2)**0.5))\n",
    "\n",
    "integrate.quad(nu, rs[1], 1.82,args=(rs[1]))[0]\n"
   ]
  },
  {
   "cell_type": "code",
   "execution_count": 44,
   "id": "b3473663",
   "metadata": {},
   "outputs": [
    {
     "data": {
      "text/plain": [
       "29.1071057053129"
      ]
     },
     "execution_count": 44,
     "metadata": {},
     "output_type": "execute_result"
    }
   ],
   "source": [
    "\n",
    "def nu(R,rs):\n",
    "    return (-1/np.pi)*(inter1(R)/((R**2 - rs**2)**0.5))\n",
    "\n",
    "integrate.quad(nu, rs[2], 1.82,args=(rs[2]))[0]\n"
   ]
  },
  {
   "cell_type": "code",
   "execution_count": 45,
   "id": "eafe684d",
   "metadata": {},
   "outputs": [
    {
     "data": {
      "text/plain": [
       "14.304156911300737"
      ]
     },
     "execution_count": 45,
     "metadata": {},
     "output_type": "execute_result"
    }
   ],
   "source": [
    "\n",
    "def nu(R,rs):\n",
    "    return (-1/np.pi)*(inter1(R)/((R**2 - rs**2)**0.5))\n",
    "\n",
    "integrate.quad(nu, rs[3], 1.82,args=(rs[3]))[0]\n"
   ]
  },
  {
   "cell_type": "code",
   "execution_count": 46,
   "id": "f2e70d91",
   "metadata": {},
   "outputs": [
    {
     "data": {
      "text/plain": [
       "10.280384249129977"
      ]
     },
     "execution_count": 46,
     "metadata": {},
     "output_type": "execute_result"
    }
   ],
   "source": [
    "def nu(R,rs):\n",
    "    return (-1/np.pi)*(inter1(R)/((R**2 - rs**2)**0.5))\n",
    "\n",
    "integrate.quad(nu, rs[4], 1.82,args=(rs[4]))[0]\n"
   ]
  },
  {
   "cell_type": "code",
   "execution_count": 47,
   "id": "02905567",
   "metadata": {},
   "outputs": [
    {
     "data": {
      "text/plain": [
       "0.27783498176667776"
      ]
     },
     "execution_count": 47,
     "metadata": {},
     "output_type": "execute_result"
    }
   ],
   "source": [
    "\n",
    "def nu(R,rs):\n",
    "    return (-1/np.pi)*(inter1(R)/((R**2 - rs**2)**0.5))\n",
    "\n",
    "integrate.quad(nu, rs[7], 1.82,args=(rs[7]))[0]\n"
   ]
  },
  {
   "cell_type": "code",
   "execution_count": 48,
   "id": "6a23fdb9",
   "metadata": {},
   "outputs": [
    {
     "data": {
      "text/plain": [
       "4.543345901215525"
      ]
     },
     "execution_count": 48,
     "metadata": {},
     "output_type": "execute_result"
    }
   ],
   "source": [
    "\n",
    "def nu(R,rs):\n",
    "    return (-1/np.pi)*(inter1(R)/((R**2 - rs**2)**0.5))\n",
    "\n",
    "integrate.quad(nu, rs[5], 1.82,args=(rs[5]))[0]\n"
   ]
  },
  {
   "cell_type": "code",
   "execution_count": 49,
   "id": "2e8a8e2d",
   "metadata": {},
   "outputs": [
    {
     "data": {
      "text/plain": [
       "0.27783498176667776"
      ]
     },
     "execution_count": 49,
     "metadata": {},
     "output_type": "execute_result"
    }
   ],
   "source": [
    "\n",
    "def nu(R,rs):\n",
    "    return (-1/np.pi)*(inter1(R)/((R**2 - rs**2)**0.5))\n",
    "\n",
    "integrate.quad(nu, rs[7], 1.82,args=(rs[7]))[0]\n"
   ]
  },
  {
   "cell_type": "code",
   "execution_count": 50,
   "id": "87fb2e02",
   "metadata": {},
   "outputs": [
    {
     "data": {
      "text/plain": [
       "0.5329502489875821"
      ]
     },
     "execution_count": 50,
     "metadata": {},
     "output_type": "execute_result"
    }
   ],
   "source": [
    "\n",
    "def nu(R,rs):\n",
    "    return (-1/np.pi)*(inter1(R)/((R**2 - rs**2)**0.5))\n",
    "\n",
    "integrate.quad(nu, rs[8], 1.89,args=(rs[8]))[0]\n"
   ]
  },
  {
   "cell_type": "code",
   "execution_count": null,
   "id": "76a9726f",
   "metadata": {},
   "outputs": [],
   "source": []
  },
  {
   "cell_type": "code",
   "execution_count": 51,
   "id": "e4bea8a8",
   "metadata": {},
   "outputs": [
    {
     "data": {
      "text/plain": [
       "[71.53573064718636,\n",
       " 58.14951950064835,\n",
       " 29.1071057053129,\n",
       " 14.304156911300737,\n",
       " 10.280384249129977,\n",
       " 4.543345901215525,\n",
       " 3.6951743208768253,\n",
       " 0.27783498176667776,\n",
       " nan,\n",
       " nan,\n",
       " nan]"
      ]
     },
     "execution_count": 51,
     "metadata": {},
     "output_type": "execute_result"
    }
   ],
   "source": [
    "\n",
    "def nu(R,rs):\n",
    "    return (-1/np.pi)*(inter1(R)/((R**2 - rs**2)**0.5))\n",
    "\n",
    "nu_all=[integrate.quad(nu, rs_i, 1.82,args=(rs_i))[0] for rs_i in rs]\n",
    "nu_all"
   ]
  },
  {
   "cell_type": "code",
   "execution_count": 52,
   "id": "b6ec4805",
   "metadata": {},
   "outputs": [
    {
     "data": {
      "text/plain": [
       "[<matplotlib.lines.Line2D at 0x7fcf8efec5e0>]"
      ]
     },
     "execution_count": 52,
     "metadata": {},
     "output_type": "execute_result"
    },
    {
     "data": {
      "image/png": "[encoded data removed]",
      "text/plain": [
       "<Figure size 432x288 with 1 Axes>"
      ]
     },
     "metadata": {
      "needs_background": "light"
     },
     "output_type": "display_data"
    }
   ],
   "source": [
    "plt.plot(rs,nu_all, color='black', linestyle='dashed', linewidth = 2, marker='o', markerfacecolor='green', markersize=12)"
   ]
  },
  {
   "cell_type": "code",
   "execution_count": null,
   "id": "f1764d39",
   "metadata": {},
   "outputs": [],
   "source": []
  },
  {
   "cell_type": "code",
   "execution_count": null,
   "id": "c09ec51b",
   "metadata": {},
   "outputs": [],
   "source": []
  },
  {
   "cell_type": "code",
   "execution_count": null,
   "id": "d7b675c8",
   "metadata": {},
   "outputs": [],
   "source": []
  },
  {
   "cell_type": "code",
   "execution_count": 53,
   "id": "167a40f5",
   "metadata": {},
   "outputs": [
    {
     "data": {
      "text/plain": [
       "71.53573064718636"
      ]
     },
     "execution_count": 53,
     "metadata": {},
     "output_type": "execute_result"
    }
   ],
   "source": [
    "\n",
    "def nu(R,rs):\n",
    "    return (-1/np.pi)*(inter1(R)/((R**2 - rs**2)**0.5))\n",
    "\n",
    "integrate.quad(nu, rs[0], 1.82,args=(rs[0]))[0]\n"
   ]
  },
  {
   "cell_type": "code",
   "execution_count": 54,
   "id": "56a01364",
   "metadata": {},
   "outputs": [
    {
     "data": {
      "text/plain": [
       "array([0.06248679, 0.28765276, 0.51281873, 0.7379847 , 0.96315067,\n",
       "       1.18831664, 1.41348261, 1.63864858, 1.86381455, 2.08898052,\n",
       "       2.31414649])"
      ]
     },
     "execution_count": 54,
     "metadata": {},
     "output_type": "execute_result"
    }
   ],
   "source": [
    "rs"
   ]
  },
  {
   "cell_type": "code",
   "execution_count": null,
   "id": "4f3ec451",
   "metadata": {},
   "outputs": [],
   "source": []
  },
  {
   "cell_type": "code",
   "execution_count": 55,
   "id": "405457ff",
   "metadata": {},
   "outputs": [],
   "source": [
    "z_mask=zspec[mask]"
   ]
  },
  {
   "cell_type": "code",
   "execution_count": 56,
   "id": "ea0279ef",
   "metadata": {},
   "outputs": [
    {
     "data": {
      "image/png": "[encoded data removed]",
      "text/plain": [
       "<Figure size 432x288 with 1 Axes>"
      ]
     },
     "metadata": {
      "needs_background": "light"
     },
     "output_type": "display_data"
    }
   ],
   "source": [
    "# Peculiar velocities of a members from there spectrosocpic\n",
    "# redshift and mean redshift of a cluster\n",
    "#%matplotlib\n",
    "c = const.c.to(\"km/s\")\n",
    "\n",
    "def v_los(z_mask, z_cl=0.54520345):\n",
    "    return (c * z_mask - c * z_cl) / (1 + z_cl)\n",
    "los_v =np.array(v_los(z_mask)) \n",
    "\n",
    "#Plot\n",
    "#Plotting velocity of line of sights for all the candidates\n",
    "\n",
    "plt.plot(proj_r,los_v , color='black', linestyle='None', linewidth = 1, marker='.',\n",
    "         markerfacecolor='green', markersize=12)\n",
    "plt.xlabel('Projected Separation (Mpc)')\n",
    "plt.ylabel('line of sight velocities(Km/sec)')\n",
    "plt.show()\n"
   ]
  },
  {
   "cell_type": "code",
   "execution_count": 57,
   "id": "f585021e",
   "metadata": {},
   "outputs": [
    {
     "data": {
      "text/plain": [
       "(1790.1090210650664, 108.35808434067306)"
      ]
     },
     "execution_count": 57,
     "metadata": {},
     "output_type": "execute_result"
    }
   ],
   "source": [
    "val= biweight_scale(los_v, 9)\n",
    "val_err = 0.92 * val / (np.sqrt(los_v.size - 1))\n",
    "val,val_err\n"
   ]
  },
  {
   "cell_type": "code",
   "execution_count": 58,
   "id": "c1167a8e",
   "metadata": {},
   "outputs": [
    {
     "data": {
      "text/plain": [
       "<matplotlib.legend.Legend at 0x7fcf8eed7970>"
      ]
     },
     "execution_count": 58,
     "metadata": {},
     "output_type": "execute_result"
    },
    {
     "data": {
      "image/png": "[encoded data removed]",
      "text/plain": [
       "<Figure size 720x576 with 1 Axes>"
      ]
     },
     "metadata": {
      "needs_background": "light"
     },
     "output_type": "display_data"
    }
   ],
   "source": [
    "import scipy.stats as stats\n",
    "from astropy.stats import sigma_clip\n",
    "filtered_data = sigma_clip(los_v, sigma=2.5, maxiters=10000)\n",
    "\n",
    "#clipped=sigma_clipped_stats(los_v, sigma=3, maxiters=1000)\n",
    "\n",
    "\n",
    "# plot the original and rejected data\n",
    "plt.figure(figsize=(10,8))\n",
    "\n",
    "plt.plot(proj_r,los_v, '+', color='#1f77b4', label=\"original data\")\n",
    "plt.plot(proj_r[filtered_data.mask], los_v[filtered_data.mask], 'x',color='#d62728', label=\"rejected data\")\n",
    "plt.xlabel('Projected distance')\n",
    "plt.ylabel('Rest frame velocities')\n",
    "plt.legend(loc=1, numpoints=1)\n"
   ]
  },
  {
   "cell_type": "code",
   "execution_count": 59,
   "id": "2dee339b",
   "metadata": {},
   "outputs": [
    {
     "data": {
      "text/plain": [
       "array([ -3919.771 ,   3161.7803, -10341.65  ,   5994.397 ,   3200.5798,\n",
       "       -23980.898 ,   3763.2283,   3161.7803,   3802.0378,   3394.5974,\n",
       "       -24058.502 ,   4034.845 , -10031.233 ,   4287.077 ,   3414.0022,\n",
       "       -10458.068 ,  23824.361 , -10768.485 ,  -9099.965 , -10322.245 ,\n",
       "        -9216.363 , -32013.12  ,  36745.758 ,  23358.736 ,   3530.401 ,\n",
       "        22349.848 ,   3316.9985,  42993.035 , -10089.438 , -10516.273 ,\n",
       "         5800.389 ,  55933.836 ,  23436.336 , -24058.502 ,   9409.057 ,\n",
       "       -16511.326 ,  23416.93  ,  23416.93  , -43983.832 , -27686.584 ,\n",
       "        -9798.406 ,   5897.393 ], dtype=float32)"
      ]
     },
     "execution_count": 59,
     "metadata": {},
     "output_type": "execute_result"
    }
   ],
   "source": [
    "(filtered_data.data[filtered_data.mask])"
   ]
  },
  {
   "cell_type": "code",
   "execution_count": 60,
   "id": "b76ec28d",
   "metadata": {},
   "outputs": [
    {
     "data": {
      "text/plain": [
       "(array([ 3.,  8., 18., 31., 34., 38., 21., 21.,  7.,  9.]),\n",
       " array([-3473.5312 , -2839.1023 , -2204.6733 , -1570.2443 ,  -935.81525,\n",
       "         -301.38623,   333.0428 ,   967.4718 ,  1601.9008 ,  2236.3298 ,\n",
       "         2870.7588 ], dtype=float32),\n",
       " <BarContainer object of 10 artists>)"
      ]
     },
     "execution_count": 60,
     "metadata": {},
     "output_type": "execute_result"
    },
    {
     "data": {
      "image/png": "[encoded data removed]",
      "text/plain": [
       "<Figure size 432x288 with 1 Axes>"
      ]
     },
     "metadata": {
      "needs_background": "light"
     },
     "output_type": "display_data"
    }
   ],
   "source": [
    "import matplotlib.pyplot as plt\n",
    "import numpy as np\n",
    "%matplotlib inline\n",
    "plt.hist(filtered_data)\n"
   ]
  },
  {
   "cell_type": "code",
   "execution_count": null,
   "id": "99996159",
   "metadata": {},
   "outputs": [],
   "source": []
  },
  {
   "cell_type": "code",
   "execution_count": null,
   "id": "b83fe88c",
   "metadata": {},
   "outputs": [],
   "source": []
  },
  {
   "cell_type": "code",
   "execution_count": 61,
   "id": "af741b1b",
   "metadata": {},
   "outputs": [
    {
     "data": {
      "text/plain": [
       "(1344.231631102274, 81.3684321694094)"
      ]
     },
     "execution_count": 61,
     "metadata": {},
     "output_type": "execute_result"
    }
   ],
   "source": [
    "val= biweight_scale(filtered_data, 9)\n",
    "val_err = 0.92 * val / (np.sqrt(filtered_data.size - 1))\n",
    "val,val_err\n"
   ]
  },
  {
   "cell_type": "code",
   "execution_count": 62,
   "id": "125d3c33",
   "metadata": {},
   "outputs": [],
   "source": [
    "vv=np.array([1286,1048,1225,1250,1129,1181,1134,1358])"
   ]
  },
  {
   "cell_type": "markdown",
   "id": "b16b4741",
   "metadata": {},
   "source": [
    "# 3-Sigma clipped velocities analysis"
   ]
  },
  {
   "cell_type": "code",
   "execution_count": null,
   "id": "23604b2b",
   "metadata": {},
   "outputs": [],
   "source": []
  },
  {
   "cell_type": "code",
   "execution_count": 63,
   "id": "ecb950f2",
   "metadata": {},
   "outputs": [
    {
     "data": {
      "text/plain": [
       "1.6813163898968162"
      ]
     },
     "execution_count": 63,
     "metadata": {},
     "output_type": "execute_result"
    }
   ],
   "source": [
    "\"\"\" \n",
    "    The  r200/virial radius of the cluster determined using\n",
    "    the velocity dispersion of the cluster\n",
    "+\n",
    "\"\"\"\n",
    "\n",
    "from astLib import astCoords as aco\n",
    "from astLib import astStats as ast\n",
    "from astLib import astCalc as aca\n",
    "\n",
    "\n",
    "# aardvark simulation cosmology\n",
    "aca.H0 = 100\n",
    "aca.OMEGA_M0 = 0.23\n",
    "aca.OMEGA_L0 = 0.77\n",
    "\n",
    "vd= 1235.1418404862216#1480.6518927150462 km/s\n",
    "# getting r200 using Saro 2013 \n",
    "\n",
    "r200 = np.sqrt(3)* vd /(10*aca.H0 * aca.Ez(0.54520345))\n",
    "r200"
   ]
  },
  {
   "cell_type": "code",
   "execution_count": 64,
   "id": "d7b2f9af",
   "metadata": {},
   "outputs": [
    {
     "data": {
      "text/plain": [
       "0.54520345"
      ]
     },
     "execution_count": 64,
     "metadata": {},
     "output_type": "execute_result"
    }
   ],
   "source": [
    "np.mean(zspec[mask])"
   ]
  },
  {
   "cell_type": "code",
   "execution_count": 65,
   "id": "88722c84",
   "metadata": {},
   "outputs": [
    {
     "data": {
      "text/latex": [
       "$9.5790439 \\times 10^{14} \\; \\mathrm{\\frac{s^{2}\\,kg}{m^{3}}}$"
      ],
      "text/plain": [
       "<Quantity 9.57904392e+14 kg s2 / m3>"
      ]
     },
     "execution_count": 65,
     "metadata": {},
     "output_type": "execute_result"
    }
   ],
   "source": [
    "from astropy.constants import M_sun\n",
    "    #evaluate cluster mass\n",
    "vel_disp=9.13e5 # 913 kms                                     1490 Km/sec^-1  the biweight estimates\n",
    "radius=3.394e22    # 1.1 Mpc    # maximum distance from the cluster's centre\n",
    "M=-(vel_disp**2)*radius/(const.G)*5.0279e-31*(-4.494567052739397) #converted into solar masses unless the unit remains the sane\n",
    "M"
   ]
  },
  {
   "cell_type": "code",
   "execution_count": 66,
   "id": "9e7185c0",
   "metadata": {},
   "outputs": [
    {
     "name": "stdout",
     "output_type": "stream",
     "text": [
      "DATA SET SIZE 194\n",
      "Pre_r200= 1.9014076970864013\n",
      "Calculating Density w/Mirrored Data\n",
      "Vdisp from galaxies= 1422.9711601912059\n",
      "Combined Vdisp= 1422.9711601912059\n",
      "Calculating initial surface\n",
      "complete\n"
     ]
    }
   ],
   "source": [
    "import causticpy\n",
    "caustic= causticpy.Caustic()\n",
    "cluster_data = caustic.run_caustic(np.vstack((ra[mask],dec[mask],zspec[mask])).T)"
   ]
  },
  {
   "cell_type": "code",
   "execution_count": 67,
   "id": "e1765368",
   "metadata": {},
   "outputs": [
    {
     "name": "stdout",
     "output_type": "stream",
     "text": [
      "DATA SET SIZE 194\n",
      "Pre_r200= 1.9014076970864013\n",
      "Calculating Density w/Mirrored Data\n",
      "Vdisp from galaxies= 1422.9711601912059\n",
      "Combined Vdisp= 1422.9711601912059\n",
      "Calculating initial surface\n",
      "complete\n"
     ]
    },
    {
     "data": {
      "text/plain": [
       "1"
      ]
     },
     "execution_count": 67,
     "metadata": {},
     "output_type": "execute_result"
    }
   ],
   "source": [
    "caustic.run_caustic(np.vstack((ra[mask],dec[mask],zspec[mask])).T)"
   ]
  },
  {
   "cell_type": "code",
   "execution_count": 68,
   "id": "17e2fb2f",
   "metadata": {},
   "outputs": [
    {
     "data": {
      "text/plain": [
       "0.54520345"
      ]
     },
     "execution_count": 68,
     "metadata": {},
     "output_type": "execute_result"
    }
   ],
   "source": [
    "np.mean(zspec[mask])"
   ]
  },
  {
   "cell_type": "code",
   "execution_count": 69,
   "id": "5cc4c880",
   "metadata": {},
   "outputs": [
    {
     "name": "stdout",
     "output_type": "stream",
     "text": [
      "DATA SET SIZE 194\n",
      "Pre_r200= 1.9002550930451485\n",
      "Calculating Density w/Mirrored Data\n",
      "Vdisp from galaxies= 1421.9867879378185\n",
      "Combined Vdisp= 1421.9867879378185\n",
      "Calculating initial surface\n",
      "complete\n",
      "r200 estimate:  1.7536386470752543\n",
      "M200 estimate:  2095915829303498.2\n"
     ]
    }
   ],
   "source": [
    "good_flag = caustic.run_caustic(np.vstack((ra[mask],dec[mask],zspec[mask])).T,clus_z=0.54520345,gal_r = np.array(caustic.r), gal_v = np.array((los_v)))"
   ]
  },
  {
   "cell_type": "code",
   "execution_count": 70,
   "id": "703676bf",
   "metadata": {},
   "outputs": [
    {
     "data": {
      "text/plain": [
       "(1283.3068749866507, array(2.16998601e+15), array(1.77439012))"
      ]
     },
     "execution_count": 70,
     "metadata": {},
     "output_type": "execute_result"
    }
   ],
   "source": [
    "caustic.vdisp_gal,caustic.M200_est,caustic.r200_est"
   ]
  },
  {
   "cell_type": "code",
   "execution_count": 71,
   "id": "73e6bcc0",
   "metadata": {},
   "outputs": [
    {
     "data": {
      "text/plain": [
       "array(1.77439012)"
      ]
     },
     "execution_count": 71,
     "metadata": {},
     "output_type": "execute_result"
    }
   ],
   "source": [
    "caustic.r200_est"
   ]
  },
  {
   "cell_type": "code",
   "execution_count": 72,
   "id": "dcc758c5",
   "metadata": {},
   "outputs": [
    {
     "data": {
      "text/plain": [
       "<function matplotlib.pyplot.show(close=None, block=None)>"
      ]
     },
     "execution_count": 72,
     "metadata": {},
     "output_type": "execute_result"
    },
    {
     "data": {
      "image/png": "[encoded data removed]",
      "text/plain": [
       "<Figure size 432x288 with 1 Axes>"
      ]
     },
     "metadata": {
      "needs_background": "light"
     },
     "output_type": "display_data"
    }
   ],
   "source": [
    "caustic_profile=caustic.caustic_profile\n",
    "caustic_radii=caustic.x_range\n",
    "plt.plot(caustic_radii, caustic_profile, color='indigo')\n",
    "plt.plot(caustic_radii, -1*caustic_profile, color='indigo')  # assumes caustic\n",
    "plt.show"
   ]
  },
  {
   "cell_type": "code",
   "execution_count": null,
   "id": "746c5165",
   "metadata": {},
   "outputs": [],
   "source": []
  },
  {
   "cell_type": "code",
   "execution_count": 73,
   "id": "c3fee5c2",
   "metadata": {},
   "outputs": [
    {
     "data": {
      "text/plain": [
       "(0.6783567969466753, 1.1890426686018382e-08)"
      ]
     },
     "execution_count": 73,
     "metadata": {},
     "output_type": "execute_result"
    }
   ],
   "source": [
    "from  scipy.integrate import dblquad\n",
    "\n",
    "def func(u2, u3, gamma):\n",
    "    return (1-1/(1+gamma-u3-u2))*(1/(1+u2)**2)*(1/(1+u3)**2)\n",
    "\n",
    "\n",
    "gamma = 10\n",
    "\n",
    "def gfun(u3):\n",
    "    return 0\n",
    "\n",
    "def hfun(u3):\n",
    "    return gamma-u3\n",
    "\n",
    "dblquad(func, 0, gamma, gfun, hfun, args=(gamma,))\n"
   ]
  },
  {
   "cell_type": "code",
   "execution_count": 74,
   "id": "dc411170",
   "metadata": {},
   "outputs": [
    {
     "data": {
      "text/plain": [
       "<function matplotlib.pyplot.imshow(X, cmap=None, norm=None, aspect=None, interpolation=None, alpha=None, vmin=None, vmax=None, origin=None, extent=None, *, filternorm=True, filterrad=4.0, resample=None, url=None, data=None, **kwargs)>"
      ]
     },
     "execution_count": 74,
     "metadata": {},
     "output_type": "execute_result"
    },
    {
     "data": {
      "image/png": "[encoded data removed]",
      "text/plain": [
       "<Figure size 576x576 with 1 Axes>"
      ]
     },
     "metadata": {
      "needs_background": "light"
     },
     "output_type": "display_data"
    }
   ],
   "source": [
    "#%matplotlib notebook\n",
    "projected_radius=np.array(caustic.r)\n",
    "peculiar_velocity=np.array(los_v)\n",
    "cluster_redshift=np.mean(zspec[mask])\n",
    "cluster_RA=np.mean(ra[mask])\n",
    "cluster_DEC=np.mean(dec[mask])\n",
    "#dispersion_velocity=1410\n",
    "caustic_profile=caustic.caustic_profile\n",
    "\n",
    "caustic_mask = np.array([x==1 for x in caustic.memflag])\n",
    "cut_radius = np.transpose(caustic.data_set)[0]\n",
    "cut_velocity = np.transpose(caustic.data_set)[1]\n",
    "cut_RA = np.transpose(caustic.data_set)[2]\n",
    "cut_DEC = np.transpose(caustic.data_set)[3]\n",
    "cut_z = np.transpose(caustic.data_set)[4]\n",
    "trimmed_radius = cut_radius[caustic_mask]\n",
    "trimmed_velocity = cut_velocity[caustic_mask]\n",
    "\n",
    "# plot the original and rejected data\n",
    "plt.figure(figsize=(8,8))\n",
    "\n",
    "plt.plot(caustic_radii, caustic_profile, color='indigo')\n",
    "plt.plot(caustic_radii, -1*caustic_profile, color='indigo')\n",
    "plt.plot(trimmed_radius,trimmed_velocity,'*',color='blue',)\n",
    "plt.plot(caustic.r,los_v, '+', color='red', label=\"original data\")\n",
    "\n",
    "\n",
    "\n",
    "#plt.plot(p[filtered_data.mask], los_v[filtered_data.mask], 'x',color='#d62728', label=\"rejected data\")\n",
    "plt.xlabel('Projected distance')\n",
    "plt.ylabel('Rest frame velocities')\n",
    "plt.legend(loc=1, numpoints=1)\n",
    "plt.imshow\n"
   ]
  },
  {
   "cell_type": "code",
   "execution_count": 75,
   "id": "77012782",
   "metadata": {},
   "outputs": [
    {
     "name": "stderr",
     "output_type": "stream",
     "text": [
      "No handles with labels found to put in legend.\n"
     ]
    },
    {
     "data": {
      "text/plain": [
       "<matplotlib.legend.Legend at 0x7fcf8f057bb0>"
      ]
     },
     "execution_count": 75,
     "metadata": {},
     "output_type": "execute_result"
    },
    {
     "data": {
      "image/png": "[encoded data removed]",
      "text/plain": [
       "<Figure size 504x504 with 1 Axes>"
      ]
     },
     "metadata": {
      "needs_background": "light"
     },
     "output_type": "display_data"
    }
   ],
   "source": [
    "import scipy.stats as stats\n",
    "\n",
    "#c = stats.bernoulli.rvs(200, size=p.shape)\n",
    "#los_v += (np.random.normal(0., 100, p.shape) +  c*np.random.normal(1000, 6000, p.shape))\n",
    "\n",
    "from astropy.stats import sigma_clip\n",
    "#filtered_data = sigma_clip(y, sigma=3, maxiters=10)\n",
    "\n",
    "clipped_velocities = sigma_clip(los_v, sigma=2.7, maxiters=10000)\n",
    "# plot the original and rejected data\n",
    "plt.figure(figsize=(7,7))\n",
    "plt.plot(caustic.r,los_v, '+', color='#1f77b4')\n",
    "plt.plot(caustic.r[filtered_data.mask], los_v[filtered_data.mask], 'x',color='#d62728')\n",
    "plt.plot(caustic_radii, caustic_profile, color='indigo')\n",
    "plt.plot(caustic_radii, -1*caustic_profile, color='indigo')\n",
    "\n",
    "plt.legend(loc=2, numpoints=1)"
   ]
  },
  {
   "cell_type": "code",
   "execution_count": 76,
   "id": "0c01f816",
   "metadata": {},
   "outputs": [
    {
     "data": {
      "text/plain": [
       "<function matplotlib.pyplot.imshow(X, cmap=None, norm=None, aspect=None, interpolation=None, alpha=None, vmin=None, vmax=None, origin=None, extent=None, *, filternorm=True, filterrad=4.0, resample=None, url=None, data=None, **kwargs)>"
      ]
     },
     "execution_count": 76,
     "metadata": {},
     "output_type": "execute_result"
    },
    {
     "data": {
      "image/png": "[encoded data removed]",
      "text/plain": [
       "<Figure size 576x576 with 1 Axes>"
      ]
     },
     "metadata": {
      "needs_background": "light"
     },
     "output_type": "display_data"
    }
   ],
   "source": [
    "# plot the original and rejected data\n",
    "plt.figure(figsize=(8,8))\n",
    "plt.plot(caustic_radii, caustic_profile, color='indigo')\n",
    "plt.plot(caustic_radii, -1*caustic_profile, color='indigo')\n",
    "plt.plot(cut_radius,cut_velocity,'*',color='blue',)\n",
    "plt.plot(caustic.r,los_v, '+', color='red', label=\"original data\")\n",
    "plt.plot(caustic.r[filtered_data.mask], los_v[filtered_data.mask], 'x',color='#d62728', label=\"rejected data\")\n",
    "plt.xlabel('Projected distance')\n",
    "plt.ylabel('Rest frame velocities')\n",
    "plt.legend(loc=1, numpoints=1)\n",
    "plt.imshow\n"
   ]
  },
  {
   "cell_type": "code",
   "execution_count": 77,
   "id": "10c9d596",
   "metadata": {},
   "outputs": [
    {
     "data": {
      "text/plain": [
       "[<matplotlib.lines.Line2D at 0x7fcf8eca6b50>]"
      ]
     },
     "execution_count": 77,
     "metadata": {},
     "output_type": "execute_result"
    },
    {
     "data": {
      "image/png": "[encoded data removed]",
      "text/plain": [
       "<Figure size 432x288 with 1 Axes>"
      ]
     },
     "metadata": {
      "needs_background": "light"
     },
     "output_type": "display_data"
    }
   ],
   "source": [
    "plt.plot(cut_radius, cut_velocity, '+', color='red')\n",
    "plt.plot(cut_radius[caustic_mask], cut_velocity[caustic_mask], '.')\n"
   ]
  },
  {
   "cell_type": "code",
   "execution_count": 78,
   "id": "74a052e8",
   "metadata": {},
   "outputs": [
    {
     "data": {
      "text/plain": [
       "<function matplotlib.pyplot.imshow(X, cmap=None, norm=None, aspect=None, interpolation=None, alpha=None, vmin=None, vmax=None, origin=None, extent=None, *, filternorm=True, filterrad=4.0, resample=None, url=None, data=None, **kwargs)>"
      ]
     },
     "execution_count": 78,
     "metadata": {},
     "output_type": "execute_result"
    },
    {
     "data": {
      "image/png": "[encoded data removed]",
      "text/plain": [
       "<Figure size 432x288 with 1 Axes>"
      ]
     },
     "metadata": {
      "needs_background": "light"
     },
     "output_type": "display_data"
    }
   ],
   "source": [
    "# plot the original and rejected data\n",
    "\n",
    "\n",
    "#%matplotlib inline# Caustic envelope\n",
    "plt.plot(caustic_radii, caustic_profile, color='indigo')\n",
    "plt.plot(caustic_radii, -1*caustic_profile, color='indigo')\n",
    "# plot the original and rejected data\n",
    "\n",
    "plt.plot(caustic.r,los_v, '+', color='#1f77b4', label=\"original data\")\n",
    "plt.plot(caustic.r[filtered_data.mask], los_v[filtered_data.mask], 'x',color='#d62728', label=\"rejected data\")\n",
    "plt.xlabel('Projected distance')\n",
    "plt.ylabel('Rest frame velocities')\n",
    "plt.legend(loc=1, numpoints=1)\n",
    "plt.imshow"
   ]
  },
  {
   "cell_type": "code",
   "execution_count": 79,
   "id": "05addff9",
   "metadata": {},
   "outputs": [
    {
     "data": {
      "text/plain": [
       "[<matplotlib.lines.Line2D at 0x7fcf8eba3b80>]"
      ]
     },
     "execution_count": 79,
     "metadata": {},
     "output_type": "execute_result"
    },
    {
     "data": {
      "image/png": "[encoded data removed]",
      "text/plain": [
       "<Figure size 720x576 with 1 Axes>"
      ]
     },
     "metadata": {
      "needs_background": "light"
     },
     "output_type": "display_data"
    }
   ],
   "source": [
    "import scipy.stats as stats\n",
    "from astropy.stats import sigma_clip\n",
    "clipped_data = sigma_clip(los_v, sigma=2.3, maxiters=1000000)\n",
    "\n",
    "#clipped=sigma_clipped_stats(los_v, sigma=3, maxiters=1000)\n",
    "\n",
    "\n",
    "# plot the original and rejected data\n",
    "plt.figure(figsize=(10,8))\n",
    "\n",
    "plt.plot(caustic.r,los_v, '+', color='#1f77b4', label=\"original data\")\n",
    "plt.plot(caustic.r[filtered_data.mask], los_v[filtered_data.mask], 'x',color='#d62728', label=\"rejected data\")\n",
    "plt.plot(caustic_radii, caustic_profile, color='indigo')\n",
    "plt.plot(caustic_radii, -1*caustic_profile, color='indigo')"
   ]
  },
  {
   "cell_type": "code",
   "execution_count": 80,
   "id": "089fe889",
   "metadata": {},
   "outputs": [
    {
     "data": {
      "text/plain": [
       "186"
      ]
     },
     "execution_count": 80,
     "metadata": {},
     "output_type": "execute_result"
    }
   ],
   "source": [
    "len(trimmed_velocity)"
   ]
  },
  {
   "cell_type": "code",
   "execution_count": 81,
   "id": "cc447be7",
   "metadata": {},
   "outputs": [
    {
     "data": {
      "text/plain": [
       "(array([ 5., 17., 29., 36., 33., 17., 26., 10.,  9.,  4.]),\n",
       " array([-2872.08325195, -2264.81694336, -1657.55063477, -1050.28432617,\n",
       "         -443.01801758,   164.24829102,   771.51459961,  1378.7809082 ,\n",
       "         1986.0472168 ,  2593.31352539,  3200.57983398]),\n",
       " <BarContainer object of 10 artists>)"
      ]
     },
     "execution_count": 81,
     "metadata": {},
     "output_type": "execute_result"
    },
    {
     "data": {
      "image/png": "[encoded data removed]",
      "text/plain": [
       "<Figure size 432x288 with 1 Axes>"
      ]
     },
     "metadata": {
      "needs_background": "light"
     },
     "output_type": "display_data"
    }
   ],
   "source": [
    "import numpy as np\n",
    "import matplotlib.pyplot as plt\n",
    "plt.hist(trimmed_velocity)\n"
   ]
  },
  {
   "cell_type": "code",
   "execution_count": 82,
   "id": "c995665e",
   "metadata": {},
   "outputs": [],
   "source": [
    "def zdistance(clus_z,H0=100.0):\n",
    "        \"\"\"\n",
    "        Finds the angular diameter distance for an array of cluster center redshifts.\n",
    "        Instead, use angular distance file precalculated and upload.\n",
    "        \"\"\"\n",
    "        cosmo = {'omega_M_0':0.25,'omega_lambda_0':0.75,'h':H0/100.0}\n",
    "        cosmo = cd.set_omega_k_0(cosmo)\n",
    "        ang_d = cd.angular_diameter_distance(clus_z,**cosmo)\n",
    "        lum_d = cd.luminosity_distance(clus_z,**cosmo)\n",
    "        return ang_d,lum_d\n"
   ]
  },
  {
   "cell_type": "code",
   "execution_count": 83,
   "id": "51fb35f0",
   "metadata": {},
   "outputs": [
    {
     "ename": "NameError",
     "evalue": "name 'cosmo' is not defined",
     "output_type": "error",
     "traceback": [
      "\u001b[0;31m---------------------------------------------------------------------------\u001b[0m",
      "\u001b[0;31mNameError\u001b[0m                                 Traceback (most recent call last)",
      "\u001b[0;32m/tmp/ipykernel_5141/789669281.py\u001b[0m in \u001b[0;36m<module>\u001b[0;34m\u001b[0m\n\u001b[0;32m----> 1\u001b[0;31m \u001b[0mcosmo\u001b[0m\u001b[0;34m\u001b[0m\u001b[0;34m\u001b[0m\u001b[0m\n\u001b[0m",
      "\u001b[0;31mNameError\u001b[0m: name 'cosmo' is not defined"
     ]
    }
   ],
   "source": [
    "cosmo"
   ]
  },
  {
   "cell_type": "code",
   "execution_count": null,
   "id": "0c01ec46",
   "metadata": {},
   "outputs": [],
   "source": [
    "caustic.ang_d"
   ]
  },
  {
   "cell_type": "code",
   "execution_count": null,
   "id": "c20aae91",
   "metadata": {},
   "outputs": [],
   "source": []
  },
  {
   "cell_type": "code",
   "execution_count": null,
   "id": "94ef58c9",
   "metadata": {},
   "outputs": [],
   "source": []
  },
  {
   "cell_type": "code",
   "execution_count": null,
   "id": "ef07bd1e",
   "metadata": {},
   "outputs": [],
   "source": [
    "c_ra=np.mean(ra[mask])\n",
    "c_dec=np.mean(dec[mask])"
   ]
  },
  {
   "cell_type": "code",
   "execution_count": null,
   "id": "0b900f48",
   "metadata": {},
   "outputs": [],
   "source": [
    "angularSep = np.arccos(np.sin(dec[mask])*np.sin(c_dec)  +  np.cos(dec[mask]) *np.cos(c_dec)*np.cos(ra[mask]-c_ra))\n",
    "angularSep*np.pi/180"
   ]
  },
  {
   "cell_type": "code",
   "execution_count": null,
   "id": "a4d221e4",
   "metadata": {},
   "outputs": [],
   "source": []
  },
  {
   "cell_type": "code",
   "execution_count": null,
   "id": "76c9c981",
   "metadata": {},
   "outputs": [],
   "source": [
    "\n",
    "#    R=1\n",
    "#    \n",
    "#    x1 = R* FLRW.comoving_distance(qso.z)*math.sin(toRad(qso.DEC))*math.cos(toRad(qso.RA))\n",
    "#    y1 = R* FLRW.comoving_distance(qso.z)*math.sin(toRad(qso.DEC))*math.sin(toRad(qso.RA))\n",
    "#    z1 = R* FLRW.comoving_distance(qso.z)*math.cos(toRad(qso.DEC))\n",
    "#    \n",
    "#    x2 = R* FLRW.comoving_distance(eachCluster.z)*math.sin(toRad(eachCluster.DEC))*math.cos(toRad(eachCluster.RA))\n",
    "#    y2 = R* FLRW.comoving_distance(eachCluster.z)*math.sin(toRad(eachCluster.DEC))*math.sin(toRad(eachCluster.RA))\n",
    "#    z2 = R* FLRW.comoving_distance(eachCluster.z)*math.cos(toRad(eachCluster.DEC))    \n",
    "#    \n",
    "#    dis = math.sqrt((x1-x2)**2 + (y1-y2)**2 + (z1-z2)**2)\n",
    "#    return dis"
   ]
  },
  {
   "cell_type": "code",
   "execution_count": null,
   "id": "15cda816",
   "metadata": {},
   "outputs": [],
   "source": [
    "def RDZtoXYZ(r,d,rs):\n",
    "\n",
    "\n",
    "    #convert inputs to floats\n",
    "    rs = float(rs)    \n",
    "    d = float(d)\n",
    "    r = float(r)\n",
    "\n",
    "\n",
    "    #constants\n",
    "    H_0 = 67.80;\n",
    "    SpeedOfLight = 2.997e5 #km/s\n",
    "    \n",
    "    #calculations\n",
    "    v_here = (SpeedOfLight*((1+rs)**2 - 1))/(1+(1+rs)**2)\n",
    "    dis = (v_here)/(H_0)    #TODO: take into account cosmological redshift\n",
    "                            #TODO: take into account FRW Metric\n",
    "\n",
    "    #coordinate transformation\n",
    "    x = dis*math.sin(toRad(d))*math.cos(toRad(r))\n",
    "    y = dis*math.sin(toRad(d))*math.sin(toRad(r))\n",
    "    z = dis*math.cos(toRad(d))\n",
    "    return [x,y,z]\n",
    "caustic.v/67.77"
   ]
  },
  {
   "cell_type": "code",
   "execution_count": 84,
   "id": "7a19095e",
   "metadata": {},
   "outputs": [
    {
     "ename": "IndentationError",
     "evalue": "unexpected indent (2040199045.py, line 2)",
     "output_type": "error",
     "traceback": [
      "\u001b[0;36m  File \u001b[0;32m\"/tmp/ipykernel_5141/2040199045.py\"\u001b[0;36m, line \u001b[0;32m2\u001b[0m\n\u001b[0;31m    if angle < 0:\u001b[0m\n\u001b[0m    ^\u001b[0m\n\u001b[0;31mIndentationError\u001b[0m\u001b[0;31m:\u001b[0m unexpected indent\n"
     ]
    }
   ],
   "source": [
    "#print angle\n",
    "    if angle < 0:\n",
    "        angle = angle+360\n",
    "    return angle"
   ]
  },
  {
   "cell_type": "code",
   "execution_count": null,
   "id": "c2b59613",
   "metadata": {},
   "outputs": [],
   "source": []
  },
  {
   "cell_type": "code",
   "execution_count": null,
   "id": "3d2ca9f2",
   "metadata": {},
   "outputs": [],
   "source": []
  },
  {
   "cell_type": "code",
   "execution_count": null,
   "id": "7cbb325d",
   "metadata": {},
   "outputs": [],
   "source": []
  },
  {
   "cell_type": "code",
   "execution_count": null,
   "id": "3943b6c3",
   "metadata": {},
   "outputs": [],
   "source": []
  },
  {
   "cell_type": "code",
   "execution_count": null,
   "id": "c5930379",
   "metadata": {},
   "outputs": [],
   "source": []
  },
  {
   "cell_type": "code",
   "execution_count": null,
   "id": "a9d014bd",
   "metadata": {},
   "outputs": [],
   "source": [
    "caustic.img_tot"
   ]
  },
  {
   "cell_type": "code",
   "execution_count": null,
   "id": "615a82b9",
   "metadata": {},
   "outputs": [],
   "source": [
    "caustic.caustic_profile"
   ]
  },
  {
   "cell_type": "code",
   "execution_count": null,
   "id": "09c69211",
   "metadata": {},
   "outputs": [],
   "source": [
    "caustic.memflag[True]"
   ]
  },
  {
   "cell_type": "code",
   "execution_count": null,
   "id": "ccee5480",
   "metadata": {},
   "outputs": [],
   "source": [
    "caustic.vdisp_gal"
   ]
  },
  {
   "cell_type": "code",
   "execution_count": null,
   "id": "bbc8237f",
   "metadata": {},
   "outputs": [],
   "source": [
    "#calculate H(z)\n",
    "        self.Hz = H0*np.sqrt(0.25*(1+z)**3 + 0.75)\n",
    "        self.hz = self.Hz / 100.0  #little h(z)"
   ]
  },
  {
   "cell_type": "code",
   "execution_count": null,
   "id": "bbba9136",
   "metadata": {},
   "outputs": [],
   "source": [
    "self.r =angle*ang_d"
   ]
  },
  {
   "cell_type": "code",
   "execution_count": null,
   "id": "2cb0fa9e",
   "metadata": {},
   "outputs": [],
   "source": []
  },
  {
   "cell_type": "code",
   "execution_count": null,
   "id": "c3009ac8",
   "metadata": {},
   "outputs": [],
   "source": [
    "caustic.r"
   ]
  },
  {
   "cell_type": "code",
   "execution_count": null,
   "id": "b005b232",
   "metadata": {},
   "outputs": [],
   "source": [
    "caustic.v"
   ]
  },
  {
   "cell_type": "code",
   "execution_count": null,
   "id": "32e1b236",
   "metadata": {},
   "outputs": [],
   "source": [
    "r[mask]"
   ]
  },
  {
   "cell_type": "code",
   "execution_count": null,
   "id": "e76e7665",
   "metadata": {},
   "outputs": [],
   "source": [
    "plt.plot(caustic.r,r[mask], color='black', linestyle='none', linewidth = 2, marker='o', markerfacecolor='green', markersize=12)\n",
    "plt.show()"
   ]
  },
  {
   "cell_type": "code",
   "execution_count": null,
   "id": "8da92dc4",
   "metadata": {},
   "outputs": [],
   "source": []
  },
  {
   "cell_type": "code",
   "execution_count": null,
   "id": "45afb057",
   "metadata": {},
   "outputs": [],
   "source": []
  },
  {
   "cell_type": "code",
   "execution_count": null,
   "id": "ead96edd",
   "metadata": {},
   "outputs": [],
   "source": []
  },
  {
   "cell_type": "code",
   "execution_count": null,
   "id": "dffdffe4",
   "metadata": {},
   "outputs": [],
   "source": []
  },
  {
   "cell_type": "code",
   "execution_count": null,
   "id": "faeb85fb",
   "metadata": {},
   "outputs": [],
   "source": []
  }
 ],
 "metadata": {
  "kernelspec": {
   "display_name": "Python 3 (ipykernel)",
   "language": "python",
   "name": "python3"
  },
  "language_info": {
   "codemirror_mode": {
    "name": "ipython",
    "version": 3
   },
   "file_extension": ".py",
   "mimetype": "text/x-python",
   "name": "python",
   "nbconvert_exporter": "python",
   "pygments_lexer": "ipython3",
   "version": "3.9.7"
  }
 },
 "nbformat": 4,
 "nbformat_minor": 5
}
