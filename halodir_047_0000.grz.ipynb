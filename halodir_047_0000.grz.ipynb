{
 "cells": [
  {
   "cell_type": "code",
   "execution_count": 1,
   "id": "3b89fe0b",
   "metadata": {},
   "outputs": [],
   "source": [
    "import numpy as np\n",
    "import astropy.io.fits\n",
    "import matplotlib.pyplot as plt\n",
    "import scipy as sym \n",
    "import scipy.integrate as integrate\n",
    "from scipy import log,exp,sqrt,stats\n",
    "from astropy import units as u\n",
    "import astropy.constants as const\n",
    "from scipy.optimize import curve_fit\n",
    "from astropy.stats import biweight_location, biweight_scale, bootstrap\n",
    "from astropy.cosmology import LambdaCDM\n",
    "import astropy.units as u\n",
    "from astropy.coordinates import SkyCoord\n",
    "from scipy.interpolate import interp1d\n",
    "import scipy.stats as stats\n",
    "from astropy.stats import sigma_clip\n",
    "c=const.c.to(\"km/s\")\n",
    "%matplotlib inline\n",
    "cosmos = LambdaCDM(H0=67.77* u.km / u.Mpc / u.s, Om0=0.307115, Ode0=0.692885)  # define cosmology on the basis of simulation"
   ]
  },
  {
   "cell_type": "code",
   "execution_count": 2,
   "id": "ef968086",
   "metadata": {},
   "outputs": [
    {
     "name": "stdout",
     "output_type": "stream",
     "text": [
      "opening halodir_047_0000.fit\n",
      "<Table length=19174>\n",
      "        name         dtype       unit     \n",
      "------------------- ------- --------------\n",
      "              M200c float64               \n",
      "              M500c float64               \n",
      "               Macc float64               \n",
      "              Mpeak float64               \n",
      "        Mpeak_Scale float64               \n",
      "               Mvir float64               \n",
      "           Mvir_all float64               \n",
      "          Rs_Klypin float64               \n",
      "               Rvir float64               \n",
      "               Spin float64               \n",
      "       Spin_Bullock float64               \n",
      "                T_U float64               \n",
      "         Vmax_Mpeak float64               \n",
      "               Voff float64               \n",
      "              Vpeak float64               \n",
      "               Xoff float64               \n",
      "             b_to_a float64               \n",
      "        b_to_a_500c float64               \n",
      "             c_to_a float64               \n",
      "        c_to_a_500c float64               \n",
      "                 id   int64               \n",
      "                pid   int64               \n",
      "                 rs float64               \n",
      "   scale_of_last_MM float64               \n",
      "               vmax float64               \n",
      "               vrms float64               \n",
      "                 vx float64               \n",
      "                 vy float64               \n",
      "                 vz float64               \n",
      "                  x float64            Mpc\n",
      "                  y float64            Mpc\n",
      "                  z float64            Mpc\n",
      "                 RA float64            deg\n",
      "                DEC float64            deg\n",
      "              g_lat float64            deg\n",
      "              g_lon float64            deg\n",
      "            ecl_lat float64            deg\n",
      "            ecl_lon float64            deg\n",
      "         redshift_R float64               \n",
      "         redshift_S float64               \n",
      "                 dL float64             cm\n",
      "                 nH float64        1 / cm2\n",
      "                ebv float64            mag\n",
      "         SMHMR_mass float64    log10(Msun)\n",
      "star_formation_rate float64 log10(Msun/yr)\n",
      "       is_quiescent    bool               \n",
      "            LX_hard float64   log10(erg/s)\n",
      "          mag_abs_r float64            mag\n",
      "              mag_r float64            mag\n",
      "None\n"
     ]
    }
   ],
   "source": [
    "from astropy.table import Column, Table\n",
    "\n",
    "path_2_data = 'halodir_047_0000.fit'\n",
    "print('opening', path_2_data)\n",
    "my_file=Table.read(path_2_data)\n",
    "print(my_file.info()) #[1].data.columns)\n",
    "data = my_file#[1].data"
   ]
  },
  {
   "cell_type": "code",
   "execution_count": 3,
   "id": "2b83306a",
   "metadata": {},
   "outputs": [
    {
     "name": "stdout",
     "output_type": "stream",
     "text": [
      "3673 subhaloes\n"
     ]
    }
   ],
   "source": [
    "# Clusters ra , dec  and z\n",
    "subhaloes = data.field('pid')>=0\n",
    "z   = data.field('redshift_R')[subhaloes] # \n",
    "ra  = data.field('RA')        [subhaloes] #* (np.pi/180) # degrees\n",
    "dec = data.field('DEC')       [subhaloes] # * (np.pi/180) # degrees\n",
    "\"R_cl the virial radius of the cluster\"\n",
    "print(len(z), 'subhaloes')"
   ]
  },
  {
   "cell_type": "code",
   "execution_count": 4,
   "id": "f25ff9a1",
   "metadata": {},
   "outputs": [
    {
     "data": {
      "text/plain": [
       "(0.06886010747978265, 0.11635218029319655)"
      ]
     },
     "execution_count": 4,
     "metadata": {},
     "output_type": "execute_result"
    }
   ],
   "source": [
    "z.min(),z.max()"
   ]
  },
  {
   "cell_type": "code",
   "execution_count": 5,
   "id": "4c99c51d",
   "metadata": {},
   "outputs": [],
   "source": [
    "D_cl=cosmos.comoving_distance(z)\n",
    "d_C = D_cl\n",
    "dc_mpc = (d_C).value\n",
    "dc_interpolation = interp1d(z, dc_mpc)\n",
    "z_interpolation = interp1d(dc_mpc, z)\n",
    "def get_x_y_z(ra_radian, dec_radian, rr):\n",
    "    phi   = ( ra_radian   - 180 ) * np.pi / 180.\n",
    "    theta = (dec_radian + 90 ) * np.pi / 180.\n",
    "    xx = rr * np.cos( phi) * np.sin( theta )\n",
    "    yy = rr * np.sin( phi) * np.sin( theta )\n",
    "    zz = rr * np.cos( theta )\n",
    "    return xx, yy, zz\n",
    "\n",
    "xx, yy, zz = get_x_y_z(ra, dec, dc_interpolation(z))\n"
   ]
  },
  {
   "cell_type": "code",
   "execution_count": 6,
   "id": "64f05405",
   "metadata": {},
   "outputs": [
    {
     "name": "stdout",
     "output_type": "stream",
     "text": [
      "[False False False ... False False False] 21 [ 5720  5737  5755  5756  5761  5765  9774  9779  9956 10020 10027 10031]\n"
     ]
    }
   ],
   "source": [
    "#Applying the mask\"mask =np.where(data.RA<42.50)\n",
    "sel_clusters = (data.field('M200c')>1e13 ) & ( data.field('M200c')<1e15) & (data.field('pid')==-1)\n",
    "id_clusters = np.hstack(( np.argwhere( (data.field('M200c')>2e13 ) & ( data.field('M200c')<1e15) & (data.field('pid')==-1) ) ))\n",
    "print(sel_clusters, len(sel_clusters.nonzero()[0]), id_clusters)\n",
    "# Cluster ra and dec\n",
    "#print(z_cl, r_cl)\n"
   ]
  },
  {
   "cell_type": "raw",
   "id": "5588ea9c",
   "metadata": {},
   "source": []
  },
  {
   "cell_type": "code",
   "execution_count": 7,
   "id": "79a485b2",
   "metadata": {},
   "outputs": [
    {
     "name": "stdout",
     "output_type": "stream",
     "text": [
      "1013 [  35   36   60 ... 1908 2579 3107]\n"
     ]
    }
   ],
   "source": [
    "distances, angular_distances, id_galaxies, distinct_z, distinct_r = [], [], [], [], []\n",
    "for id_cluster in np.arange(len(data))[sel_clusters]:\n",
    "    ra_cl=data.field('RA')[id_cluster]\n",
    "    dec_cl=data.field('DEC')[id_cluster]\n",
    "    z_cl=data.field('redshift_R')[id_cluster]\n",
    "    r_cl= data.field('Rvir')[id_cluster]\n",
    "    # get 3D Cartesian positions of the sub haloes\n",
    "    #print('x mean, std',np.mean(data.field('x[mask]')-xx), np.std(data.field('x[mask]')-xx))\n",
    "    ##print('x mean, std',np.mean(data.field('y')-yy), np.std(data.field('y')-yy))\n",
    "    #print('x mean, std',np.mean(data.field('z')-zz), np.std(data.field('z')-zz))\n",
    "    # get 3D Cartesian positions of the cluster\n",
    "    xx_cl, yy_cl, zz_cl = get_x_y_z(ra_cl, dec_cl, dc_interpolation(z_cl))\n",
    "    #print('ra,dec,z=',ra_cl, dec_cl, z_cl, '\\n x,y,z=',xx_cl, yy_cl, zz_cl)\n",
    "    # array of distances between sub haloes and the cluster : \n",
    "    DX = np.sqrt((xx_cl-xx)**2 + (yy_cl-yy)**2 + (zz_cl-zz)**2)\n",
    "    withinR = DX <= r_cl/1000.\n",
    "    id_galaxies .append( np.arange(len(ra))[withinR] )\n",
    "    distances .append( DX[withinR]/(r_cl/1000.) )\n",
    "    # angular distances\n",
    "    coordinates_SubHaloes = SkyCoord( ra, dec, unit='deg', frame='icrs') \n",
    "    coordinate_cluster    = SkyCoord( ra_cl , dec_cl, unit='deg', frame='icrs') \n",
    "    Angular_separation_Astropy = coordinates_SubHaloes.separation( coordinate_cluster )\n",
    "    Angular_separation_Astropy_radian = (Angular_separation_Astropy).to(u.radian)[withinR]\n",
    "    angular_distances.append(Angular_separation_Astropy_radian)  \n",
    "    distinct_z.append( z_cl*np.ones_like(Angular_separation_Astropy_radian) )\n",
    "    distinct_r.append( r_cl*np.ones_like(Angular_separation_Astropy_radian) )\n",
    "    #print(distances)\n",
    "distances = np.hstack(( distances ))\n",
    "angular_distances = np.hstack(( angular_distances ))\n",
    "id_galaxies = np.hstack(( id_galaxies ))\n",
    "distinct_z = np.hstack(( distinct_z ))\n",
    "distinct_r = np.hstack(( distinct_r ))\n",
    "print(len(distances), id_galaxies)\n"
   ]
  },
  {
   "cell_type": "code",
   "execution_count": 8,
   "id": "c2c4d518",
   "metadata": {},
   "outputs": [
    {
     "data": {
      "text/plain": [
       "[<matplotlib.lines.Line2D at 0x7f6549c6f940>]"
      ]
     },
     "execution_count": 8,
     "metadata": {},
     "output_type": "execute_result"
    },
    {
     "data": {
      "image/png": "[encoded data removed]",
      "text/plain": [
       "<Figure size 432x288 with 1 Axes>"
      ]
     },
     "metadata": {
      "needs_background": "light"
     },
     "output_type": "display_data"
    }
   ],
   "source": [
    "plt.plot(dec[id_galaxies].value,ra[id_galaxies].value,linestyle='dashed', linewidth = 2)\n",
    "plt.plot(dec_cl,ra_cl,c='k',linestyle='dashed', linewidth = 2, marker='+', markerfacecolor='green', )"
   ]
  },
  {
   "cell_type": "code",
   "execution_count": 9,
   "id": "c837f4ff",
   "metadata": {},
   "outputs": [
    {
     "data": {
      "text/plain": [
       "[<matplotlib.lines.Line2D at 0x7f6549b60ca0>]"
      ]
     },
     "execution_count": 9,
     "metadata": {},
     "output_type": "execute_result"
    },
    {
     "data": {
      "image/png": "[encoded data removed]",
      "text/plain": [
       "<Figure size 432x288 with 1 Axes>"
      ]
     },
     "metadata": {
      "needs_background": "light"
     },
     "output_type": "display_data"
    }
   ],
   "source": [
    "plt.plot(dec_cl,ra_cl,color='red')"
   ]
  },
  {
   "cell_type": "code",
   "execution_count": 10,
   "id": "e8af29f4",
   "metadata": {},
   "outputs": [
    {
     "name": "stdout",
     "output_type": "stream",
     "text": [
      "0.0 2.0307962796494587 1.74958\n",
      "[0.52895084 0.22317102 0.00229973 ... 0.41624694 0.38453369 0.31678606] [0.85035279 0.59754743 0.05059407 ... 0.68731822 0.96012857 0.5901352 ] [ True  True  True ...  True  True  True] [583.388 583.388 583.388 ... 502.64  502.64  502.64 ]\n"
     ]
    }
   ],
   "source": [
    "distinct_r = np.hstack(( distinct_r ))\n",
    "\n",
    "r_3d = np.array(distances)/(distinct_r.value/1000.)\n",
    "print(r_3d.min(), r_3d.max(), distinct_r.max().value/1000.)\n",
    "\n",
    "r_proj = (angular_distances * cosmos.angular_diameter_distance(distinct_z)/u.radian  ).value * r_3d\n",
    "print(r_proj, distances, r_proj< distances, distinct_r.value)\n",
    "N_subhaloes = len(r_proj)"
   ]
  },
  {
   "cell_type": "code",
   "execution_count": 11,
   "id": "aa2ea231",
   "metadata": {},
   "outputs": [
    {
     "data": {
      "text/plain": [
       "(0.9984266542268178, 0.9225479035220675)"
      ]
     },
     "execution_count": 11,
     "metadata": {},
     "output_type": "execute_result"
    }
   ],
   "source": [
    "distances.max(),r_proj.max()"
   ]
  },
  {
   "cell_type": "code",
   "execution_count": 12,
   "id": "e0ecbdf8",
   "metadata": {},
   "outputs": [],
   "source": [
    "# create histogram of distances in Mpc\n",
    "\n",
    "def get_bins(r_proj, N_per_bin=20):\n",
    "    dR=0.0001\n",
    "    r_bins_fine = np.arange(0., 2.5, dR)\n",
    "    # Projected distance\n",
    "    N_2D_fine, bins_2D_fine = np.histogram(np.array(r_proj), bins = r_bins_fine)\n",
    "    R_2D_fine = (bins_2D_fine[1:] + bins_2D_fine[:-1])/2.\n",
    "    #rint( np.cumsum( N_2D_fine) )\n",
    "    itp_bins = interp1d(np.cumsum( N_2D_fine), R_2D_fine )\n",
    "    #rint(itp_bins(np.arange(N_per_bin, N_subhaloes, N_per_bin)))\n",
    "    bins_2D = np.hstack((0., itp_bins(np.arange(N_per_bin, N_subhaloes, N_per_bin)), 2.5 ))\n",
    "    #rint(bins_2D)\n",
    "    return bins_2D\n",
    "    # Three D distance\n",
    "    #N_3D, bins_3D = np.histogram(np.array(distances[mask]), bins = r_bins)\n"
   ]
  },
  {
   "cell_type": "code",
   "execution_count": 13,
   "id": "92dcb304",
   "metadata": {},
   "outputs": [
    {
     "data": {
      "image/png": "[encoded data removed]",
      "text/plain": [
       "<Figure size 432x288 with 1 Axes>"
      ]
     },
     "metadata": {
      "needs_background": "light"
     },
     "output_type": "display_data"
    }
   ],
   "source": [
    "bins_2D = get_bins(r_proj, N_per_bin=50)\n",
    "\n",
    "#dR=0.1\n",
    "#r_bins = np.arange(0., r_cl/1000.+dR,dR)\n",
    "# Projected distance\n",
    "N_2D, bins_2D = np.histogram(np.array(r_proj), bins = bins_2D)\n",
    "\n",
    "#Getting the number density profile in 2D \n",
    "R_2D = (bins_2D[1:] + bins_2D[:-1])/2.\n",
    "n_2D = N_2D /(np.pi*( ( bins_2D[1:]**2 - bins_2D[:-1]**2) ) )\n",
    "dR_2D = [ bins_2D[1:] - R_2D, R_2D - bins_2D[:-1] ]\n",
    "# central point of each separation \n",
    "\n",
    "#plt.plot(R_2D, n_2D, color='black', linestyle='dashed', linewidth = 2, marker='o', markerfacecolor='green', markersize=12)\n",
    "plt.errorbar(R_2D, n_2D, yerr=n_2D*N_2D**-0.5, xerr=dR_2D, ls='')\n",
    "plt.yscale('log')\n",
    "plt.xscale('log')\n",
    "plt.title('Number density of sub haloes around the host cluster')\n",
    "plt.xlabel('Cluster-centric Separation  [Mpc]',fontsize=18)\n",
    "plt.ylabel(r'number density [Mpc$^{-2}$]',fontsize=18) \n",
    "plt.axvline(x=r_cl/1000.,linestyle='dashed',label = 'Rvir')\n",
    "plt.legend(loc=1, numpoints=1)\n",
    "plt.show()"
   ]
  },
  {
   "cell_type": "code",
   "execution_count": 14,
   "id": "ca63b9e1",
   "metadata": {},
   "outputs": [
    {
     "data": {
      "image/png": "[encoded data removed]",
      "text/plain": [
       "<Figure size 720x720 with 1 Axes>"
      ]
     },
     "metadata": {
      "needs_background": "light"
     },
     "output_type": "display_data"
    }
   ],
   "source": [
    "# Three D distance\n",
    "bins_3D = get_bins(r_3d, N_per_bin=50)\n",
    "N_3D, bins_3D = np.histogram(r_3d, bins = bins_3D)\n",
    "\n",
    "R_3D = (bins_3D[1:] + bins_3D[:-1])/2.\n",
    "dR_3D = [ bins_3D[1:] - R_3D, R_3D - bins_3D[:-1] ]\n",
    "\n",
    "#Ns,rs=np.histogram(r)\n",
    "number_density = N_3D/(np.pi*( 4* ( bins_3D[1:]**3-bins_3D[:-1]**3) / 3))\n",
    "\n",
    "r_act = (bins_3D[1:] + bins_3D[:-1])/2.\n",
    "#plt.xscale('log')\n",
    "#plt.yscale('log')\n",
    "plt.figure(0, (10, 10))\n",
    "\n",
    "plt.errorbar(r_act, number_density, xerr=dR_3D, ls='', yerr=number_density * N_3D**-0.5, label='direct estimate')\n",
    "#plt.plot(r_act, number_density, color='black', linestyle='dashed', linewidth = 2, marker='o', markerfacecolor='green', markersize=12)\n",
    "plt.xlabel('Separation / R vir')\n",
    "plt.ylabel(r'number density [Mpc$^{-3}$]')\n",
    "plt.yscale('log')\n",
    "plt.xscale('log')\n",
    "plt.show()"
   ]
  },
  {
   "cell_type": "code",
   "execution_count": 15,
   "id": "a8421d29",
   "metadata": {},
   "outputs": [
    {
     "data": {
      "text/plain": [
       "array([0.  , 0.01, 0.02, 0.03, 0.04, 0.05, 0.06, 0.07, 0.08, 0.09, 0.1 ,\n",
       "       0.11, 0.12, 0.13, 0.14, 0.15, 0.16, 0.17, 0.18, 0.19, 0.2 , 0.21,\n",
       "       0.22, 0.23, 0.24, 0.25, 0.26, 0.27, 0.28, 0.29, 0.3 , 0.31, 0.32,\n",
       "       0.33, 0.34, 0.35, 0.36, 0.37, 0.38, 0.39, 0.4 , 0.41, 0.42, 0.43,\n",
       "       0.44, 0.45, 0.46, 0.47, 0.48, 0.49, 0.5 , 0.51, 0.52, 0.53, 0.54,\n",
       "       0.55, 0.56, 0.57, 0.58, 0.59, 0.6 , 0.61, 0.62, 0.63, 0.64, 0.65,\n",
       "       0.66, 0.67, 0.68, 0.69, 0.7 , 0.71, 0.72, 0.73, 0.74, 0.75, 0.76,\n",
       "       0.77, 0.78, 0.79, 0.8 , 0.81, 0.82, 0.83, 0.84, 0.85, 0.86, 0.87,\n",
       "       0.88, 0.89, 0.9 , 0.91, 0.92, 0.93, 0.94, 0.95, 0.96, 0.97, 0.98,\n",
       "       0.99])"
      ]
     },
     "execution_count": 15,
     "metadata": {},
     "output_type": "execute_result"
    }
   ],
   "source": [
    "r_array=np.arange(distances.min(),distances.max(),0.01)\n",
    "r_array"
   ]
  },
  {
   "cell_type": "code",
   "execution_count": 16,
   "id": "125c6eb2",
   "metadata": {},
   "outputs": [
    {
     "name": "stderr",
     "output_type": "stream",
     "text": [
      "/tmp/ipykernel_11845/329480443.py:32: IntegrationWarning: The maximum number of subdivisions (50) has been achieved.\n",
      "  If increasing the limit yields no improvement it is advised to analyze \n",
      "  the integrand in order to determine the difficulties.  If the position of a \n",
      "  local difficulty can be determined (singularity, discontinuity) one will \n",
      "  probably gain from splitting up the interval and calling the integrator \n",
      "  on the subranges.  Perhaps a special-purpose integrator should be used.\n",
      "  nu_all=[integrate.quad(nu, r_i, 10, args=(r_i))[0] for r_i in r_array]\n",
      "/tmp/ipykernel_11845/329480443.py:32: IntegrationWarning: The occurrence of roundoff error is detected, which prevents \n",
      "  the requested tolerance from being achieved.  The error may be \n",
      "  underestimated.\n",
      "  nu_all=[integrate.quad(nu, r_i, 10, args=(r_i))[0] for r_i in r_array]\n"
     ]
    }
   ],
   "source": [
    "\"\"\"\n",
    "The interplation of dndR for solving the integral first of all \n",
    "Stacking the Proj and dndR\n",
    "\n",
    "\"\"\" \n",
    "#Getting the derivative term of n wrt R_proj  ie dndR\n",
    "dndR = np.array(np.gradient(n_2D,R_2D))\n",
    "n_2D_no0 = N_2D\n",
    "n_2D_no0[N_2D==0] = 1\n",
    "\n",
    "dndR_up = np.array(np.gradient( n_2D + n_2D * n_2D_no0**-0.5, R_2D ))\n",
    "dndR_low = np.array(np.gradient( n_2D - n_2D * n_2D_no0**-0.5, R_2D ))\n",
    "\n",
    "def get_nu_all(dndR):\n",
    "    xx = np.hstack((np.array([0]),np.array(R_2D), np.array([10.]) ))\n",
    "    yy = np.hstack((np.array(dndR[0]),np.array(dndR), np.array([0.]) ))\n",
    "\n",
    "    # getting the interpolation\n",
    "    inter1 = interp1d(xx, yy, bounds_error=True)\n",
    "\n",
    "    # De-projection of the number density profile from \n",
    "    # 2D to 3D using the Abel inversion equation\n",
    "\n",
    "    def nu(R_2D, r):\n",
    "        \"\"\"\n",
    "        Latex equation\n",
    "        Reference to the article it comes from\n",
    "        \"\"\"\n",
    "        \n",
    "        return (-1/(np.pi))*(inter1(R_2D)/((R_2D**2 - r**2)**0.5))\n",
    "\n",
    "    nu_all=[integrate.quad(nu, r_i, 10, args=(r_i))[0] for r_i in r_array]\n",
    "    return nu_all\n",
    "\n",
    "nu_all = get_nu_all(dndR)\n",
    "nu_all_up = get_nu_all(dndR_up)\n",
    "nu_all_low = get_nu_all(dndR_low)\n",
    "\n"
   ]
  },
  {
   "cell_type": "code",
   "execution_count": null,
   "id": "46c27322",
   "metadata": {},
   "outputs": [],
   "source": []
  },
  {
   "cell_type": "code",
   "execution_count": 17,
   "id": "1b22ae3f",
   "metadata": {},
   "outputs": [
    {
     "data": {
      "text/plain": [
       "444.016"
      ]
     },
     "execution_count": 17,
     "metadata": {},
     "output_type": "execute_result"
    }
   ],
   "source": [
    "data.field('rs').max()"
   ]
  },
  {
   "cell_type": "code",
   "execution_count": 18,
   "id": "728078b3",
   "metadata": {},
   "outputs": [
    {
     "name": "stderr",
     "output_type": "stream",
     "text": [
      "/home/atul/anaconda3/lib/python3.9/site-packages/colossus/halo/profile_nfw.py:188: RuntimeWarning: divide by zero encountered in true_divide\n",
      "  return rhos / x / (1.0 + x)**2\n",
      "/home/atul/anaconda3/lib/python3.9/site-packages/colossus/halo/profile_nfw.py:188: RuntimeWarning: divide by zero encountered in true_divide\n",
      "  return rhos / x / (1.0 + x)**2\n"
     ]
    },
    {
     "data": {
      "text/plain": [
       "<matplotlib.legend.Legend at 0x7f65492a9d30>"
      ]
     },
     "execution_count": 18,
     "metadata": {},
     "output_type": "execute_result"
    },
    {
     "data": {
      "image/png": "[encoded data removed]",
      "text/plain": [
       "<Figure size 720x720 with 1 Axes>"
      ]
     },
     "metadata": {
      "needs_background": "light"
     },
     "output_type": "display_data"
    }
   ],
   "source": [
    "# plotting the de-projected number density wrt actual distance from the cluster center\n",
    "\n",
    "\n",
    "# Nfw parameters modelling \n",
    "from colossus.halo import profile_nfw\n",
    "# Parameters\n",
    "Rs=0.444\n",
    "rhos = 2500.0\n",
    "# Nfw as function of actual radius of the cluster\n",
    "p_nfw = profile_nfw.NFWProfile(rhos , Rs)\n",
    "\n",
    "rho_nfw = p_nfw.density(r_array)\n",
    "# Plotting the function \n",
    "plt.figure(0, (10, 10))\n",
    "\n",
    "# Plotting  the de-projected number density\n",
    "plt.plot(r_array, nu_all, label='deprojection mean', c='k',linestyle='dashed', linewidth = 2, marker='+', markerfacecolor='green', markersize=12)\n",
    "plt.fill_between(r_array, y1=nu_all_low, y2=nu_all_up, alpha=0.3, color='k')\n",
    "\n",
    "# Direct estimate error bars / Actual density\n",
    "plt.errorbar(r_act, number_density, xerr=0.01/1.059, ls='', yerr=number_density * N_3D**-0.5, label='direct estimate')\n",
    "#plt.errorbar(r_act, number_density*2*np.pi, xerr=0.01/1.059, ls='', yerr=number_density * N_3D**-0.5)\n",
    "\n",
    "# Modelling with NFW\n",
    "plt.plot(r_array,rho_nfw , label = 'NFW');\n",
    "rho_nfw = p_nfw.density(r_array)\n",
    "# axis\n",
    "plt.xlabel('Separation [Mpc/h]',fontsize=18)\n",
    "plt.ylabel(r'number density [Mpc$^{-3}$]',fontsize=18)\n",
    "\n",
    "# r200\n",
    "plt.axvline(x=1.059,linestyle='dashed',label = 'R200')\n",
    "\n",
    "# Log scale\n",
    "#plt.ylim((1e2, 1e6))\n",
    "plt.yscale('log')\n",
    "plt.xscale('log')\n",
    "plt.legend(loc=1, numpoints=1)"
   ]
  },
  {
   "cell_type": "code",
   "execution_count": 19,
   "id": "07231fb7",
   "metadata": {},
   "outputs": [
    {
     "data": {
      "text/latex": [
       "$[20643.741,~20653.647,~20675.336,~\\dots,~34875.99,~34880.228,~34881.506] \\; \\mathrm{\\frac{km}{s}}$"
      ],
      "text/plain": [
       "<Quantity [20643.74087951, 20653.64692719, 20675.33620242, ...,\n",
       "           34875.9898815 , 34880.22802778, 34881.50612376] km / s>"
      ]
     },
     "execution_count": 19,
     "metadata": {},
     "output_type": "execute_result"
    }
   ],
   "source": [
    "np.sort(c*z)"
   ]
  },
  {
   "cell_type": "code",
   "execution_count": null,
   "id": "687ec6c4",
   "metadata": {},
   "outputs": [],
   "source": []
  },
  {
   "cell_type": "code",
   "execution_count": null,
   "id": "09d9b342",
   "metadata": {},
   "outputs": [],
   "source": []
  },
  {
   "cell_type": "code",
   "execution_count": null,
   "id": "db5ab7f9",
   "metadata": {},
   "outputs": [],
   "source": []
  },
  {
   "cell_type": "code",
   "execution_count": null,
   "id": "ee68f96c",
   "metadata": {},
   "outputs": [],
   "source": []
  },
  {
   "cell_type": "code",
   "execution_count": 20,
   "id": "bcf63bfc",
   "metadata": {},
   "outputs": [
    {
     "data": {
      "text/latex": [
       "$[1863.4901,~2099.3295,~6867.0614,~\\dots,~-6294.4297,~-5361.7601,~-5418.9373] \\; \\mathrm{\\frac{km}{s}}$"
      ],
      "text/plain": [
       "<Quantity [ 1863.49005936,  2099.32952721,  6867.06136092, ...,\n",
       "           -6294.42973295, -5361.76009066, -5418.93734911] km / s>"
      ]
     },
     "execution_count": 20,
     "metadata": {},
     "output_type": "execute_result"
    }
   ],
   "source": [
    "(c*z)-c*z_cl"
   ]
  },
  {
   "cell_type": "code",
   "execution_count": null,
   "id": "a0ddbf63",
   "metadata": {},
   "outputs": [],
   "source": []
  },
  {
   "cell_type": "code",
   "execution_count": null,
   "id": "68b48205",
   "metadata": {},
   "outputs": [],
   "source": []
  }
 ],
 "metadata": {
  "kernelspec": {
   "display_name": "Python 3 (ipykernel)",
   "language": "python",
   "name": "python3"
  },
  "language_info": {
   "codemirror_mode": {
    "name": "ipython",
    "version": 3
   },
   "file_extension": ".py",
   "mimetype": "text/x-python",
   "name": "python",
   "nbconvert_exporter": "python",
   "pygments_lexer": "ipython3",
   "version": "3.9.7"
  }
 },
 "nbformat": 4,
 "nbformat_minor": 5
}
