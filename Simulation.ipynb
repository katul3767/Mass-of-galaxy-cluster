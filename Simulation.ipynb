{
 "cells": [
  {
   "cell_type": "code",
   "execution_count": 26,
   "id": "acec3238",
   "metadata": {},
   "outputs": [],
   "source": [
    "import numpy as np\n",
    "import astropy.io.fits\n",
    "import matplotlib.pyplot as plt\n",
    "import scipy as sym \n",
    "import scipy.integrate as integrate\n",
    "from scipy import log,exp,sqrt,stats\n",
    "from astropy import units as u\n",
    "import astropy.constants as const\n",
    "from scipy.optimize import curve_fit\n",
    "from astropy.stats import biweight_location, biweight_scale, bootstrap\n",
    "from astropy.cosmology import LambdaCDM\n",
    "c=const.c.to(\"km/s\")\n",
    "%matplotlib inline\n",
    "\n",
    "cosmos = LambdaCDM(H0=67.77* u.km / u.Mpc / u.s, Om0=0.307115, Ode0=0.692885)  # define cosmology on the basis of simulation"
   ]
  },
  {
   "cell_type": "code",
   "execution_count": 2,
   "id": "54eb2a60",
   "metadata": {},
   "outputs": [
    {
     "name": "stdout",
     "output_type": "stream",
     "text": [
      "Filename: Most_massive_MD04.fits\n",
      "No.    Name      Ver    Type      Cards   Dimensions   Format\n",
      "  0  PRIMARY       1 PrimaryHDU      16   (5429,)   uint8   \n",
      "  1  Joined        1 BinTableHDU    191   478R x 87C   [E, E, E, E, E, E, E, E, E, E, E, E, E, E, E, E, E, E, E, E, E, E, K, K, E, E, E, E, E, E, E, E, E, E, E, E, E, E, E, E, E, E, E, E, E, E, E, E, E, E, E, E, E, E, E, E, E, E, E, E, E, E, E, E, K, K, E, E, E, E, E, E, E, E, E, E, E, E, E, E, E, E, E, E, J, J, D]   \n"
     ]
    }
   ],
   "source": [
    "my_file=astropy.io.fits.open('Most_massive_MD04.fits')\n",
    "my_file.info()"
   ]
  },
  {
   "cell_type": "code",
   "execution_count": 3,
   "id": "c48da8d6",
   "metadata": {},
   "outputs": [],
   "source": [
    "data= my_file[1].data"
   ]
  },
  {
   "cell_type": "code",
   "execution_count": 4,
   "id": "42d295fe",
   "metadata": {},
   "outputs": [],
   "source": [
    "r=data.field('separation')"
   ]
  },
  {
   "cell_type": "code",
   "execution_count": 5,
   "id": "70c19f7c",
   "metadata": {},
   "outputs": [],
   "source": [
    "t=data.field('HALO_x_2')+data.field('HALO_y_2')+data.field('HALO_z_2')"
   ]
  },
  {
   "cell_type": "code",
   "execution_count": 6,
   "id": "8d5f31da",
   "metadata": {},
   "outputs": [],
   "source": [
    "ra=data.field('RA_2')\n",
    "dec=data.field('DEC_2')\n",
    "c1=ra*(np.pi/180)\n",
    "c2=dec*(np.pi/180)\n",
    "ra_cl=data.field('RA_1')[0]*np.pi/180\n",
    "dec_cl=data.field('DEC_1')[0]*np.pi/180 #    -4.63883*np.pi/180"
   ]
  },
  {
   "cell_type": "code",
   "execution_count": 7,
   "id": "6828bc7e",
   "metadata": {},
   "outputs": [
    {
     "data": {
      "text/plain": [
       "-4.6388335"
      ]
     },
     "execution_count": 7,
     "metadata": {},
     "output_type": "execute_result"
    }
   ],
   "source": [
    "data.field('RA_1')[0]\n",
    "data.field('DEC_1')[0]"
   ]
  },
  {
   "cell_type": "code",
   "execution_count": 8,
   "id": "5a666cf7",
   "metadata": {},
   "outputs": [],
   "source": [
    "xy=np.sin(data.field('DEC_2'))*np.sin(data.field('DEC_1')[0])\n"
   ]
  },
  {
   "cell_type": "code",
   "execution_count": 9,
   "id": "4ee82fb1",
   "metadata": {},
   "outputs": [],
   "source": [
    "yz=np.cos(data.field('DEC_2'))*np.cos(data.field('DEC_1')[0])\n"
   ]
  },
  {
   "cell_type": "code",
   "execution_count": 10,
   "id": "20bff3ed",
   "metadata": {},
   "outputs": [],
   "source": [
    "zx=np.cos(data.field('DEC_2')-data.field('RA_1')[0])\n"
   ]
  },
  {
   "cell_type": "code",
   "execution_count": null,
   "id": "a5f01a73",
   "metadata": {},
   "outputs": [],
   "source": []
  },
  {
   "cell_type": "code",
   "execution_count": 11,
   "id": "b33bf445",
   "metadata": {},
   "outputs": [],
   "source": [
    "# Angular separation between two galaxy members inside the cluster. by using haversine method one can get the \n",
    "#separation between galaxies from their ra and dec.\n",
    "ra_gal = c1     # ra odf the the galaxies in radian\n",
    "dec_gal = np.pi/2. -c2  #dec of a galaxies in radian\n",
    "ra_cl = ra_cl\n",
    "dec_cl = np.pi/2. - (dec_cl)\n",
    "y = 2*np.arcsin(np.sqrt(np.sin((dec_cl-dec_gal)/2.0)**2.0 +np.sin(dec_cl)*np.sin(dec_gal)*np.sin((ra_cl-ra_gal)/2.0)**2.0))"
   ]
  },
  {
   "cell_type": "code",
   "execution_count": 12,
   "id": "1e577ca7",
   "metadata": {},
   "outputs": [],
   "source": [
    "import astropy.units as u\n",
    "from astropy.coordinates import SkyCoord\n",
    "A=(SkyCoord(data.field('RA_2')*u.degree, data.field('DEC_2')*u.degree)) #c1 refers to the galaxies coordinates\n",
    "B=(SkyCoord(data.field('RA_1')[0]*u.degree,data.field('DEC_1')[0]*u.degree)) #c2 refers to the co-ordinates of whole cluster\n",
    "sep = A.separation(B)\n",
    "x=sep.radian"
   ]
  },
  {
   "cell_type": "code",
   "execution_count": 13,
   "id": "d4cf3f36",
   "metadata": {},
   "outputs": [
    {
     "data": {
      "text/plain": [
       "[<matplotlib.lines.Line2D at 0x7faed185d4f0>]"
      ]
     },
     "execution_count": 13,
     "metadata": {},
     "output_type": "execute_result"
    },
    {
     "data": {
      "image/png": "[encoded data removed]",
      "text/plain": [
       "<Figure size 432x288 with 1 Axes>"
      ]
     },
     "metadata": {
      "needs_background": "light"
     },
     "output_type": "display_data"
    }
   ],
   "source": [
    "plt.plot(x,y)"
   ]
  },
  {
   "cell_type": "code",
   "execution_count": 14,
   "id": "493a1006",
   "metadata": {},
   "outputs": [
    {
     "data": {
      "text/plain": [
       "0.33398816"
      ]
     },
     "execution_count": 14,
     "metadata": {},
     "output_type": "execute_result"
    }
   ],
   "source": [
    "# Redshift at the center of the cluster\n",
    "data.redshift_R_1[0]"
   ]
  },
  {
   "cell_type": "code",
   "execution_count": 15,
   "id": "95629c70",
   "metadata": {},
   "outputs": [
    {
     "data": {
      "text/latex": [
       "$1359.1182 \\; \\mathrm{Mpc}$"
      ],
      "text/plain": [
       "<Quantity 1359.11821884 Mpc>"
      ]
     },
     "execution_count": 15,
     "metadata": {},
     "output_type": "execute_result"
    }
   ],
   "source": [
    "D=cosmos.comoving_distance(0.33398816) #angular diameter distance\n",
    "D"
   ]
  },
  {
   "cell_type": "code",
   "execution_count": 16,
   "id": "17e0b4c3",
   "metadata": {},
   "outputs": [
    {
     "data": {
      "text/latex": [
       "$1018.8383 \\; \\mathrm{Mpc}$"
      ],
      "text/plain": [
       "<Quantity 1018.83829227 Mpc>"
      ]
     },
     "execution_count": 16,
     "metadata": {},
     "output_type": "execute_result"
    }
   ],
   "source": [
    "cosmos.angular_diameter_distance(0.33398816)\n"
   ]
  },
  {
   "cell_type": "code",
   "execution_count": 17,
   "id": "983b0a8b",
   "metadata": {},
   "outputs": [
    {
     "data": {
      "text/latex": [
       "$[0,~0.053056736,~0.07227543,~\\dots,~1.8646662,~1.8710852,~1.8885409] \\; \\mathrm{Mpc}$"
      ],
      "text/plain": [
       "<Quantity [0.        , 0.05305674, 0.07227543, 0.09736433, 0.14582372,\n",
       "           0.16453621, 0.16720255, 0.17600578, 0.17627111, 0.17811893,\n",
       "           0.20756218, 0.21089102, 0.22413562, 0.22453074, 0.23864916,\n",
       "           0.25696567, 0.2606871 , 0.2763704 , 0.27685624, 0.28069547,\n",
       "           0.2853689 , 0.28679523, 0.29565755, 0.29963657, 0.30833665,\n",
       "           0.32112038, 0.3221009 , 0.32463846, 0.32593134, 0.32953507,\n",
       "           0.33959126, 0.3415112 , 0.3466112 , 0.34910312, 0.35158154,\n",
       "           0.3553817 , 0.36774474, 0.36816698, 0.36870998, 0.374034  ,\n",
       "           0.3818032 , 0.3819669 , 0.3833779 , 0.3883209 , 0.39075586,\n",
       "           0.397048  , 0.3979052 , 0.40161815, 0.40335953, 0.40494925,\n",
       "           0.40737718, 0.4193176 , 0.4301999 , 0.4333061 , 0.43832323,\n",
       "           0.4388141 , 0.45070285, 0.45296374, 0.45710102, 0.45748496,\n",
       "           0.46132076, 0.46453795, 0.46495086, 0.47221568, 0.47857875,\n",
       "           0.48072016, 0.48208594, 0.49698797, 0.49824885, 0.50111866,\n",
       "           0.5030633 , 0.50567865, 0.5074925 , 0.50771445, 0.5099843 ,\n",
       "           0.51663345, 0.5183848 , 0.51878834, 0.5267196 , 0.54146236,\n",
       "           0.546165  , 0.55840176, 0.5621374 , 0.5695408 , 0.5726298 ,\n",
       "           0.5792119 , 0.5793561 , 0.58176273, 0.58458906, 0.58595765,\n",
       "           0.5888133 , 0.59316826, 0.59700567, 0.60222703, 0.6038953 ,\n",
       "           0.6054182 , 0.6067716 , 0.6169533 , 0.6225392 , 0.62627274,\n",
       "           0.63011885, 0.63432825, 0.6372157 , 0.6436494 , 0.653907  ,\n",
       "           0.6549678 , 0.6563074 , 0.6573277 , 0.6585629 , 0.6609068 ,\n",
       "           0.6639931 , 0.6704759 , 0.67263937, 0.6739774 , 0.6744599 ,\n",
       "           0.6744662 , 0.6788465 , 0.679716  , 0.67976135, 0.6845702 ,\n",
       "           0.6874174 , 0.6925234 , 0.6927226 , 0.6941128 , 0.6945616 ,\n",
       "           0.6950451 , 0.7006727 , 0.70555264, 0.70705765, 0.70879734,\n",
       "           0.7126326 , 0.7141339 , 0.71507794, 0.7183636 , 0.7261688 ,\n",
       "           0.7291533 , 0.73029643, 0.7343631 , 0.7364302 , 0.7381513 ,\n",
       "           0.7424164 , 0.7425705 , 0.7433225 , 0.75006783, 0.75346994,\n",
       "           0.7570015 , 0.76140624, 0.7722335 , 0.7787094 , 0.78190243,\n",
       "           0.7831432 , 0.78579485, 0.788091  , 0.7881607 , 0.7909547 ,\n",
       "           0.79372716, 0.79491407, 0.7959861 , 0.798211  , 0.7983294 ,\n",
       "           0.799066  , 0.8066024 , 0.8123119 , 0.81617415, 0.82240903,\n",
       "           0.8263294 , 0.8270322 , 0.83132416, 0.8338878 , 0.8404359 ,\n",
       "           0.84067637, 0.84106416, 0.8563481 , 0.85652494, 0.85713536,\n",
       "           0.85729486, 0.8597092 , 0.8610575 , 0.8674342 , 0.8704458 ,\n",
       "           0.8735555 , 0.8744047 , 0.8795186 , 0.88294464, 0.8836924 ,\n",
       "           0.88916045, 0.8918164 , 0.89314   , 0.8936766 , 0.8949635 ,\n",
       "           0.9032538 , 0.90595114, 0.9068446 , 0.90832245, 0.91126275,\n",
       "           0.91260177, 0.91787934, 0.9214192 , 0.9241465 , 0.9274602 ,\n",
       "           0.9286103 , 0.92908704, 0.92934215, 0.9299071 , 0.93886155,\n",
       "           0.93975914, 0.9407256 , 0.94521624, 0.9473955 , 0.9512022 ,\n",
       "           0.9648653 , 0.9717763 , 0.97365683, 0.9738435 , 0.97387344,\n",
       "           0.9783932 , 0.9822806 , 0.98448575, 0.9867135 , 0.9887972 ,\n",
       "           0.9923316 , 1.002745  , 1.0035336 , 1.0111445 , 1.0163535 ,\n",
       "           1.0166501 , 1.0194163 , 1.0235777 , 1.0244399 , 1.0252737 ,\n",
       "           1.0261248 , 1.0289016 , 1.0292071 , 1.0299355 , 1.0331818 ,\n",
       "           1.0344144 , 1.038624  , 1.0391116 , 1.0398264 , 1.041893  ,\n",
       "           1.0503577 , 1.0557948 , 1.0592827 , 1.0618176 , 1.0646098 ,\n",
       "           1.0647882 , 1.0673639 , 1.0699413 , 1.070673  , 1.0709598 ,\n",
       "           1.0729353 , 1.0760084 , 1.0827781 , 1.0852704 , 1.0864514 ,\n",
       "           1.0886916 , 1.0902879 , 1.0992813 , 1.1021138 , 1.1045346 ,\n",
       "           1.1091995 , 1.1242964 , 1.1355232 , 1.137205  , 1.1409733 ,\n",
       "           1.1411197 , 1.1414393 , 1.1444511 , 1.1502004 , 1.1528383 ,\n",
       "           1.153795  , 1.1590581 , 1.161312  , 1.1621956 , 1.1694522 ,\n",
       "           1.1703159 , 1.1737306 , 1.1737852 , 1.1747183 , 1.1749095 ,\n",
       "           1.1780642 , 1.1787282 , 1.1790397 , 1.1805164 , 1.1846956 ,\n",
       "           1.1852044 , 1.1922524 , 1.1936992 , 1.1974686 , 1.1975664 ,\n",
       "           1.1985285 , 1.1993016 , 1.2001107 , 1.2006277 , 1.2030772 ,\n",
       "           1.2041368 , 1.2042643 , 1.2046216 , 1.2056932 , 1.2063663 ,\n",
       "           1.2070649 , 1.2105215 , 1.2138364 , 1.2159883 , 1.2200326 ,\n",
       "           1.2204531 , 1.2236651 , 1.2254835 , 1.225579  , 1.2300595 ,\n",
       "           1.2346277 , 1.2407881 , 1.2408639 , 1.244623  , 1.2475604 ,\n",
       "           1.2485904 , 1.2486905 , 1.2489028 , 1.2570262 , 1.2575157 ,\n",
       "           1.2608962 , 1.2636255 , 1.2688593 , 1.2694514 , 1.2722664 ,\n",
       "           1.2778949 , 1.2818806 , 1.2854207 , 1.2907445 , 1.2911407 ,\n",
       "           1.2919011 , 1.2925273 , 1.3041899 , 1.3203397 , 1.3241959 ,\n",
       "           1.3281848 , 1.3302591 , 1.3317235 , 1.3412327 , 1.344557  ,\n",
       "           1.3524923 , 1.3538477 , 1.3545563 , 1.3668004 , 1.3686943 ,\n",
       "           1.3692197 , 1.3693067 , 1.3709275 , 1.3714365 , 1.374461  ,\n",
       "           1.3788997 , 1.3872527 , 1.3883096 , 1.3936104 , 1.3951187 ,\n",
       "           1.3965582 , 1.3996369 , 1.4018846 , 1.4026862 , 1.4029592 ,\n",
       "           1.4064186 , 1.4169648 , 1.4257118 , 1.4379779 , 1.4413174 ,\n",
       "           1.4428948 , 1.4451457 , 1.4478693 , 1.4513451 , 1.4534093 ,\n",
       "           1.4568411 , 1.4610902 , 1.463997  , 1.4700799 , 1.4727507 ,\n",
       "           1.4746443 , 1.4799417 , 1.4824718 , 1.4832829 , 1.4836072 ,\n",
       "           1.4846822 , 1.4847102 , 1.4963443 , 1.4977801 , 1.5020458 ,\n",
       "           1.5044308 , 1.5106051 , 1.5134281 , 1.5171868 , 1.517663  ,\n",
       "           1.519311  , 1.5194196 , 1.5239317 , 1.5243944 , 1.5281813 ,\n",
       "           1.5289645 , 1.5472358 , 1.554063  , 1.5573186 , 1.5588175 ,\n",
       "           1.5591549 , 1.5621895 , 1.563261  , 1.5652575 , 1.5661124 ,\n",
       "           1.5662351 , 1.5664824 , 1.5673395 , 1.5864115 , 1.5878342 ,\n",
       "           1.5879343 , 1.5882739 , 1.5932801 , 1.5946808 , 1.5949033 ,\n",
       "           1.5966954 , 1.5990419 , 1.6056135 , 1.6155725 , 1.616608  ,\n",
       "           1.6214244 , 1.6281198 , 1.6305327 , 1.631307  , 1.6331606 ,\n",
       "           1.6334409 , 1.6352568 , 1.6404153 , 1.6409783 , 1.646952  ,\n",
       "           1.6514883 , 1.6518196 , 1.652357  , 1.652392  , 1.6531113 ,\n",
       "           1.6611623 , 1.6821291 , 1.6828448 , 1.683352  , 1.6910967 ,\n",
       "           1.6927248 , 1.6976216 , 1.6992959 , 1.7004349 , 1.7149888 ,\n",
       "           1.7172108 , 1.721738  , 1.7265967 , 1.7363769 , 1.7378784 ,\n",
       "           1.7398868 , 1.7455565 , 1.7464088 , 1.7479122 , 1.7487006 ,\n",
       "           1.7532973 , 1.757934  , 1.7594011 , 1.7621192 , 1.7708293 ,\n",
       "           1.7772617 , 1.8087431 , 1.8100588 , 1.8143185 , 1.8183786 ,\n",
       "           1.8241476 , 1.8281839 , 1.8319576 , 1.8346014 , 1.8394263 ,\n",
       "           1.8473994 , 1.8563795 , 1.8574827 , 1.8592194 , 1.861762  ,\n",
       "           1.8646662 , 1.8710852 , 1.8885409 ] Mpc>"
      ]
     },
     "execution_count": 17,
     "metadata": {},
     "output_type": "execute_result"
    }
   ],
   "source": [
    "np.sort(x*D)"
   ]
  },
  {
   "cell_type": "code",
   "execution_count": 18,
   "id": "ba0f7541",
   "metadata": {},
   "outputs": [],
   "source": [
    "z=data.redshift_R_2"
   ]
  },
  {
   "cell_type": "code",
   "execution_count": 19,
   "id": "9830d78c",
   "metadata": {},
   "outputs": [],
   "source": [
    "import causticpy\n",
    "from __future__ import division\n",
    "caustic=causticpy.Caustic()\n"
   ]
  },
  {
   "cell_type": "code",
   "execution_count": 20,
   "id": "f850c807",
   "metadata": {},
   "outputs": [],
   "source": [
    "import numpy as np\n",
    "from scipy import integrate\n",
    "\n",
    "# speed of light\n",
    "C = 299792.458  # km/s\n",
    "class Cosmology(object):\n",
    "    \"\"\"   using  Hogg, D., 1999. arXiv:astro-ph/9905116v4\n",
    "    \"\"\"\n",
    "    def __init__(self, OmegaM=0.307115, h=0.6777):\n",
    "        # for now, we'll implement only\n",
    "        # a flat cosmology for simplicity\n",
    "        self.OmegaK = 0.0\n",
    "        self.OmegaM = OmegaM\n",
    "        self.OmegaL = 1. - OmegaM\n",
    "\n",
    "        # Hubble constant, km/s/Mpc\n",
    "        self.H0 = h * 100\n",
    "\n",
    "        # Hubble Distance, Mpc\n",
    "        self.DH = C / self.H0\n",
    "\n",
    "    def Energy_den(self, z):\n",
    "        #energy density eqn 14\n",
    "        return 1.0/np.sqrt(self.OmegaM*(1.0+z)**3.0 + self.OmegaK \\\n",
    "                        *(1.0+z)**2.0 + self.OmegaL)\n",
    "\n",
    "    def DC(self, z): # line of sight comoving distance\n",
    "        \n",
    "        # Compute the comoving distance in Mpc using scipy.integrate.quad\n",
    "        # following Eqn 15\n",
    "        return self.DH * integrate.quad(self.Energy_den,0,z)[0]\n",
    "\n",
    "    def DM(self, z):\n",
    "                # Compute the transverse comoving distance in Mpc (Eqn 16)\n",
    "        if self.OmegaK > 0.0:\n",
    "            return self.DH / np.sqrt(self.OmegaK) * \\\n",
    "                    np.sinh(np.sqrt(self.OmegaK)*self.DC(z)/self.DH)\n",
    "        elif self.OmegaK == 0.0:\n",
    "            return self.DC(z)\n",
    "        elif self.OmegaK < 0.0:\n",
    "            return self.DH / np.sqrt(np.abs(self.OmegaK)) * \\\n",
    "                    np.sin(np.sqrt(np.abs(self.OmegaK))*self.DC(z)/self.DH)\n",
    "\n",
    "    def DA(self, z):\n",
    "        \n",
    "        # Compute the Angular Diameter distance in Mpc (Eqn 18)\n",
    "        return self.DM(z) / (1.0+z)\n",
    "    \n",
    "cosmo = Cosmology()"
   ]
  },
  {
   "cell_type": "code",
   "execution_count": 21,
   "id": "0586fce5",
   "metadata": {},
   "outputs": [
    {
     "data": {
      "text/plain": [
       "1018.8382922708196"
      ]
     },
     "execution_count": 21,
     "metadata": {},
     "output_type": "execute_result"
    }
   ],
   "source": [
    "cosmo.DA(0.33398816) #angular diameter distance"
   ]
  },
  {
   "cell_type": "code",
   "execution_count": 22,
   "id": "85f0623f",
   "metadata": {},
   "outputs": [
    {
     "data": {
      "text/plain": [
       "1359.1182184541597"
      ]
     },
     "execution_count": 22,
     "metadata": {},
     "output_type": "execute_result"
    }
   ],
   "source": [
    "cosmo.DM(data.redshift_R_1[0]) # transverse comoving distance"
   ]
  },
  {
   "cell_type": "code",
   "execution_count": 23,
   "id": "0e780f6d",
   "metadata": {},
   "outputs": [
    {
     "data": {
      "text/plain": [
       "1359.118218843893"
      ]
     },
     "execution_count": 23,
     "metadata": {},
     "output_type": "execute_result"
    }
   ],
   "source": [
    "cosmo.DC(0.33398816)"
   ]
  },
  {
   "cell_type": "code",
   "execution_count": 24,
   "id": "9f9a2451",
   "metadata": {},
   "outputs": [
    {
     "data": {
      "text/latex": [
       "$[0,~0.053056736,~0.07227543,~\\dots,~1.8646662,~1.8710852,~1.8885409] \\; \\mathrm{Mpc}$"
      ],
      "text/plain": [
       "<Quantity [0.        , 0.05305674, 0.07227543, 0.09736433, 0.14582372,\n",
       "           0.16453621, 0.16720255, 0.17600578, 0.17627111, 0.17811893,\n",
       "           0.20756218, 0.21089102, 0.22413562, 0.22453074, 0.23864916,\n",
       "           0.25696567, 0.2606871 , 0.2763704 , 0.27685624, 0.28069547,\n",
       "           0.2853689 , 0.28679523, 0.29565755, 0.29963657, 0.30833665,\n",
       "           0.32112038, 0.3221009 , 0.32463846, 0.32593134, 0.32953507,\n",
       "           0.33959126, 0.3415112 , 0.3466112 , 0.34910312, 0.35158154,\n",
       "           0.3553817 , 0.36774474, 0.36816698, 0.36870998, 0.374034  ,\n",
       "           0.3818032 , 0.3819669 , 0.3833779 , 0.3883209 , 0.39075586,\n",
       "           0.397048  , 0.3979052 , 0.40161815, 0.40335953, 0.40494925,\n",
       "           0.40737718, 0.4193176 , 0.4301999 , 0.4333061 , 0.43832323,\n",
       "           0.4388141 , 0.45070285, 0.45296374, 0.45710102, 0.45748496,\n",
       "           0.46132076, 0.46453795, 0.46495086, 0.47221568, 0.47857875,\n",
       "           0.48072016, 0.48208594, 0.49698797, 0.49824885, 0.50111866,\n",
       "           0.5030633 , 0.50567865, 0.5074925 , 0.50771445, 0.5099843 ,\n",
       "           0.51663345, 0.5183848 , 0.51878834, 0.5267196 , 0.54146236,\n",
       "           0.546165  , 0.55840176, 0.5621374 , 0.5695408 , 0.5726298 ,\n",
       "           0.5792119 , 0.5793561 , 0.58176273, 0.58458906, 0.58595765,\n",
       "           0.5888133 , 0.59316826, 0.59700567, 0.60222703, 0.6038953 ,\n",
       "           0.6054182 , 0.6067716 , 0.6169533 , 0.6225392 , 0.62627274,\n",
       "           0.63011885, 0.63432825, 0.6372157 , 0.6436494 , 0.653907  ,\n",
       "           0.6549678 , 0.6563074 , 0.6573277 , 0.6585629 , 0.6609068 ,\n",
       "           0.6639931 , 0.6704759 , 0.67263937, 0.6739774 , 0.6744599 ,\n",
       "           0.6744662 , 0.6788465 , 0.679716  , 0.67976135, 0.6845702 ,\n",
       "           0.6874174 , 0.6925234 , 0.6927226 , 0.6941128 , 0.6945616 ,\n",
       "           0.6950451 , 0.7006727 , 0.70555264, 0.70705765, 0.70879734,\n",
       "           0.7126326 , 0.7141339 , 0.71507794, 0.7183636 , 0.7261688 ,\n",
       "           0.7291533 , 0.73029643, 0.7343631 , 0.7364302 , 0.7381513 ,\n",
       "           0.7424164 , 0.7425705 , 0.7433225 , 0.75006783, 0.75346994,\n",
       "           0.7570015 , 0.76140624, 0.7722335 , 0.7787094 , 0.78190243,\n",
       "           0.7831432 , 0.78579485, 0.788091  , 0.7881607 , 0.7909547 ,\n",
       "           0.79372716, 0.79491407, 0.7959861 , 0.798211  , 0.7983294 ,\n",
       "           0.799066  , 0.8066024 , 0.8123119 , 0.81617415, 0.82240903,\n",
       "           0.8263294 , 0.8270322 , 0.83132416, 0.8338878 , 0.8404359 ,\n",
       "           0.84067637, 0.84106416, 0.8563481 , 0.85652494, 0.85713536,\n",
       "           0.85729486, 0.8597092 , 0.8610575 , 0.8674342 , 0.8704458 ,\n",
       "           0.8735555 , 0.8744047 , 0.8795186 , 0.88294464, 0.8836924 ,\n",
       "           0.88916045, 0.8918164 , 0.89314   , 0.8936766 , 0.8949635 ,\n",
       "           0.9032538 , 0.90595114, 0.9068446 , 0.90832245, 0.91126275,\n",
       "           0.91260177, 0.91787934, 0.9214192 , 0.9241465 , 0.9274602 ,\n",
       "           0.9286103 , 0.92908704, 0.92934215, 0.9299071 , 0.93886155,\n",
       "           0.93975914, 0.9407256 , 0.94521624, 0.9473955 , 0.9512022 ,\n",
       "           0.9648653 , 0.9717763 , 0.97365683, 0.9738435 , 0.97387344,\n",
       "           0.9783932 , 0.9822806 , 0.98448575, 0.9867135 , 0.9887972 ,\n",
       "           0.9923316 , 1.002745  , 1.0035336 , 1.0111445 , 1.0163535 ,\n",
       "           1.0166501 , 1.0194163 , 1.0235777 , 1.0244399 , 1.0252737 ,\n",
       "           1.0261248 , 1.0289016 , 1.0292071 , 1.0299355 , 1.0331818 ,\n",
       "           1.0344144 , 1.038624  , 1.0391116 , 1.0398264 , 1.041893  ,\n",
       "           1.0503577 , 1.0557948 , 1.0592827 , 1.0618176 , 1.0646098 ,\n",
       "           1.0647882 , 1.0673639 , 1.0699413 , 1.070673  , 1.0709598 ,\n",
       "           1.0729353 , 1.0760084 , 1.0827781 , 1.0852704 , 1.0864514 ,\n",
       "           1.0886916 , 1.0902879 , 1.0992813 , 1.1021138 , 1.1045346 ,\n",
       "           1.1091995 , 1.1242964 , 1.1355232 , 1.137205  , 1.1409733 ,\n",
       "           1.1411197 , 1.1414393 , 1.1444511 , 1.1502004 , 1.1528383 ,\n",
       "           1.153795  , 1.1590581 , 1.161312  , 1.1621956 , 1.1694522 ,\n",
       "           1.1703159 , 1.1737306 , 1.1737852 , 1.1747183 , 1.1749095 ,\n",
       "           1.1780642 , 1.1787282 , 1.1790397 , 1.1805164 , 1.1846956 ,\n",
       "           1.1852044 , 1.1922524 , 1.1936992 , 1.1974686 , 1.1975664 ,\n",
       "           1.1985285 , 1.1993016 , 1.2001107 , 1.2006277 , 1.2030772 ,\n",
       "           1.2041368 , 1.2042643 , 1.2046216 , 1.2056932 , 1.2063663 ,\n",
       "           1.2070649 , 1.2105215 , 1.2138364 , 1.2159883 , 1.2200326 ,\n",
       "           1.2204531 , 1.2236651 , 1.2254835 , 1.225579  , 1.2300595 ,\n",
       "           1.2346277 , 1.2407881 , 1.2408639 , 1.244623  , 1.2475604 ,\n",
       "           1.2485904 , 1.2486905 , 1.2489028 , 1.2570262 , 1.2575157 ,\n",
       "           1.2608962 , 1.2636255 , 1.2688593 , 1.2694514 , 1.2722664 ,\n",
       "           1.2778949 , 1.2818806 , 1.2854207 , 1.2907445 , 1.2911407 ,\n",
       "           1.2919011 , 1.2925273 , 1.3041899 , 1.3203397 , 1.3241959 ,\n",
       "           1.3281848 , 1.3302591 , 1.3317235 , 1.3412327 , 1.344557  ,\n",
       "           1.3524923 , 1.3538477 , 1.3545563 , 1.3668004 , 1.3686943 ,\n",
       "           1.3692197 , 1.3693067 , 1.3709275 , 1.3714365 , 1.374461  ,\n",
       "           1.3788997 , 1.3872527 , 1.3883096 , 1.3936104 , 1.3951187 ,\n",
       "           1.3965582 , 1.3996369 , 1.4018846 , 1.4026862 , 1.4029592 ,\n",
       "           1.4064186 , 1.4169648 , 1.4257118 , 1.4379779 , 1.4413174 ,\n",
       "           1.4428948 , 1.4451457 , 1.4478693 , 1.4513451 , 1.4534093 ,\n",
       "           1.4568411 , 1.4610902 , 1.463997  , 1.4700799 , 1.4727507 ,\n",
       "           1.4746443 , 1.4799417 , 1.4824718 , 1.4832829 , 1.4836072 ,\n",
       "           1.4846822 , 1.4847102 , 1.4963443 , 1.4977801 , 1.5020458 ,\n",
       "           1.5044308 , 1.5106051 , 1.5134281 , 1.5171868 , 1.517663  ,\n",
       "           1.519311  , 1.5194196 , 1.5239317 , 1.5243944 , 1.5281813 ,\n",
       "           1.5289645 , 1.5472358 , 1.554063  , 1.5573186 , 1.5588175 ,\n",
       "           1.5591549 , 1.5621895 , 1.563261  , 1.5652575 , 1.5661124 ,\n",
       "           1.5662351 , 1.5664824 , 1.5673395 , 1.5864115 , 1.5878342 ,\n",
       "           1.5879343 , 1.5882739 , 1.5932801 , 1.5946808 , 1.5949033 ,\n",
       "           1.5966954 , 1.5990419 , 1.6056135 , 1.6155725 , 1.616608  ,\n",
       "           1.6214244 , 1.6281198 , 1.6305327 , 1.631307  , 1.6331606 ,\n",
       "           1.6334409 , 1.6352568 , 1.6404153 , 1.6409783 , 1.646952  ,\n",
       "           1.6514883 , 1.6518196 , 1.652357  , 1.652392  , 1.6531113 ,\n",
       "           1.6611623 , 1.6821291 , 1.6828448 , 1.683352  , 1.6910967 ,\n",
       "           1.6927248 , 1.6976216 , 1.6992959 , 1.7004349 , 1.7149888 ,\n",
       "           1.7172108 , 1.721738  , 1.7265967 , 1.7363769 , 1.7378784 ,\n",
       "           1.7398868 , 1.7455565 , 1.7464088 , 1.7479122 , 1.7487006 ,\n",
       "           1.7532973 , 1.757934  , 1.7594011 , 1.7621192 , 1.7708293 ,\n",
       "           1.7772617 , 1.8087431 , 1.8100588 , 1.8143185 , 1.8183786 ,\n",
       "           1.8241476 , 1.8281839 , 1.8319576 , 1.8346014 , 1.8394263 ,\n",
       "           1.8473994 , 1.8563795 , 1.8574827 , 1.8592194 , 1.861762  ,\n",
       "           1.8646662 , 1.8710852 , 1.8885409 ] Mpc>"
      ]
     },
     "execution_count": 24,
     "metadata": {},
     "output_type": "execute_result"
    }
   ],
   "source": [
    "r_proj=(x*D)\n",
    "np.sort(r_proj)"
   ]
  },
  {
   "cell_type": "code",
   "execution_count": 43,
   "id": "6ed2dc4f",
   "metadata": {},
   "outputs": [],
   "source": [
    "z_cluster=np.mean(z)\n"
   ]
  },
  {
   "cell_type": "code",
   "execution_count": 44,
   "id": "6550cf23",
   "metadata": {},
   "outputs": [
    {
     "data": {
      "text/plain": [
       "array([0.00000000e+00, 2.40562978e-04, 3.41891602e-04, 4.93420172e-04,\n",
       "       4.24464582e-04, 1.01672696e-04, 2.47946562e-04, 1.90854757e-04,\n",
       "       6.79631543e-04, 6.43031672e-04, 4.56495938e-04, 6.07891183e-04,\n",
       "       3.74010939e-04, 2.70161603e-04, 1.24930739e-04, 2.73124286e-04,\n",
       "       2.06802273e-04, 3.78630473e-04, 1.82834716e-04, 4.41693643e-04,\n",
       "       3.25097702e-04, 2.13083724e-04, 4.79792652e-04, 6.01587351e-04,\n",
       "       1.25637045e-04, 2.92437442e-04, 2.40953217e-04, 5.35950880e-04,\n",
       "       4.48832376e-04, 5.96498663e-04, 1.61433389e-04, 6.84915402e-04,\n",
       "       3.93615977e-04, 2.10662256e-04, 3.21368483e-04, 6.07558701e-04,\n",
       "       4.04409773e-04, 1.47749539e-04, 2.09525853e-04, 3.33615084e-04,\n",
       "       4.50872845e-04, 4.67012840e-04, 1.49868196e-04, 4.62621887e-04,\n",
       "       5.10350277e-04, 2.73457641e-04, 5.94726764e-04, 5.58972533e-04,\n",
       "       3.68895446e-04, 6.40079204e-04, 2.70922086e-04, 5.45678427e-04,\n",
       "       4.34294954e-04, 5.24498813e-04, 2.21550654e-04, 2.13136766e-04,\n",
       "       4.68048471e-04, 4.18361364e-04, 3.16274643e-04, 4.50168765e-04,\n",
       "       6.74923358e-04, 2.80110398e-04, 2.87650648e-04, 6.55273907e-05,\n",
       "       2.46658426e-04, 5.13773644e-04, 1.35443333e-04, 4.40921373e-04,\n",
       "       6.65410480e-04, 4.75271780e-04, 2.89082614e-04, 3.41199251e-04,\n",
       "       3.20224470e-04, 4.47344530e-04, 5.41803776e-04, 5.76195249e-04,\n",
       "       3.41622363e-04, 5.37514046e-04, 2.36789347e-04, 5.83617890e-04,\n",
       "       2.75939150e-04, 1.93772561e-04, 3.15038138e-04, 9.45339707e-05,\n",
       "       7.63591379e-05, 2.57767388e-04, 4.27229970e-04, 2.67147057e-04,\n",
       "       1.48974999e-04, 3.93990689e-04, 1.19429809e-04, 6.11117634e-04,\n",
       "       6.05889887e-04, 3.61366896e-04, 3.95848008e-04, 2.60116329e-04,\n",
       "       3.39980179e-04, 4.31798573e-04, 2.96737417e-04, 2.98837840e-04,\n",
       "       3.15386424e-04, 5.86660055e-04, 5.58151165e-04, 5.34688355e-04,\n",
       "       4.33751731e-04, 5.51011704e-04, 1.27513267e-04, 4.52521170e-04,\n",
       "       2.41446032e-04, 1.86031888e-04, 4.89383179e-04, 3.69185553e-04,\n",
       "       5.16128493e-04, 5.04344469e-04, 2.92000797e-04, 1.86780831e-04,\n",
       "       5.10739104e-04, 5.60802699e-04, 1.35287992e-04, 5.84178080e-04,\n",
       "       5.73466474e-04, 4.30224609e-04, 6.00816216e-04, 5.29011362e-04,\n",
       "       3.76559503e-04, 2.14022133e-04, 6.94766932e-04, 4.13612463e-04,\n",
       "       3.33286385e-04, 6.07680588e-04, 6.65894535e-04, 6.76698401e-04,\n",
       "       1.76850022e-04, 4.59338393e-04, 2.42275812e-04, 6.38787984e-04,\n",
       "       4.41503420e-04, 3.41797742e-04, 6.15114113e-05, 6.47499910e-05,\n",
       "       3.15103185e-04, 2.31811646e-04, 3.59936763e-04, 2.92831828e-04,\n",
       "       6.22130057e-04, 2.77190731e-04, 4.88620077e-04, 6.42478582e-04,\n",
       "       3.35240446e-04, 3.78518074e-04, 2.59562657e-04, 3.09415394e-04,\n",
       "       6.33402553e-04, 1.08768152e-04, 2.60756322e-04, 2.63066875e-04,\n",
       "       3.80546175e-04, 6.24530483e-04, 3.57502518e-04, 1.76062225e-04,\n",
       "       4.43162920e-04, 1.01851423e-04, 3.54960066e-04, 1.86699166e-04,\n",
       "       8.24562667e-05, 3.58194317e-04, 4.19747666e-04, 1.68302126e-04,\n",
       "       4.06342384e-04, 4.19801509e-04, 2.71555240e-04, 1.48390158e-04,\n",
       "       5.86144743e-04, 8.77955899e-05, 1.68160885e-04, 4.54201741e-04,\n",
       "       2.62719579e-04, 4.42594755e-04, 3.19116545e-04, 6.72562455e-04,\n",
       "       6.73950766e-04, 2.84093578e-04, 9.59030294e-05, 5.76150138e-04,\n",
       "       3.93885188e-04, 1.42857665e-04, 4.70119092e-04, 6.45012769e-04,\n",
       "       4.59453324e-04, 6.46718545e-04, 5.36464468e-05, 2.68665550e-04,\n",
       "       5.33928978e-04, 3.21680913e-04, 3.02552449e-04, 6.48476052e-05,\n",
       "       4.59375238e-04, 5.73590572e-04, 1.90706298e-04, 3.32294061e-04,\n",
       "       3.62997700e-04, 4.39144758e-04, 2.44273513e-04, 4.89921891e-04,\n",
       "       5.58932603e-04, 1.46383594e-04, 4.32232278e-04, 4.30542335e-04,\n",
       "       5.12689177e-04, 3.80092679e-04, 1.18496289e-04, 6.67461602e-04,\n",
       "       5.62195841e-04, 2.34422478e-04, 4.94643173e-04, 5.75101178e-04,\n",
       "       3.65064509e-04, 5.02826180e-04, 3.06775328e-04, 4.36019647e-04,\n",
       "       3.71985487e-04, 5.30239951e-04, 3.75028583e-04, 6.25565473e-04,\n",
       "       5.03748190e-04, 2.43138085e-04, 6.19280909e-04, 1.70896819e-04,\n",
       "       3.89694818e-04, 6.48258196e-04, 3.82274215e-04, 1.30739805e-04,\n",
       "       1.95188095e-05, 5.15733147e-04, 2.41821399e-04, 1.77352471e-04,\n",
       "       3.47731431e-04, 2.15565378e-04, 3.82094819e-04, 2.52890954e-04,\n",
       "       2.48126395e-04, 5.04531723e-04, 2.50074401e-04, 2.89952965e-04,\n",
       "       6.30919647e-04, 6.18831022e-04, 4.64869605e-04, 6.85983803e-04,\n",
       "       3.73901799e-04, 5.44449256e-04, 2.18218061e-04, 2.90980854e-04,\n",
       "       1.35643088e-04, 3.42099433e-04, 2.50057725e-04, 6.42165018e-04,\n",
       "       2.29023208e-04, 6.05305031e-05, 5.84141293e-04, 5.42500406e-04,\n",
       "       4.33637120e-04, 4.43804776e-04, 1.61252799e-04, 1.73721346e-04,\n",
       "       2.26968230e-04, 4.40567412e-04, 1.99196205e-04, 5.46193216e-04,\n",
       "       4.43031488e-04, 5.55729843e-04, 4.58959490e-04, 1.03263825e-04,\n",
       "       1.41039214e-04, 5.16028085e-04, 3.03994690e-04, 4.33392881e-04,\n",
       "       6.00919302e-04, 3.23562243e-04, 5.30820224e-04, 4.87152545e-04,\n",
       "       3.62178136e-04, 5.88264433e-04, 3.76876706e-04, 5.14906249e-04,\n",
       "       2.55519204e-04, 3.83297418e-04, 5.03716175e-04, 3.58189354e-05,\n",
       "       1.84354343e-04, 4.56468028e-04, 3.63764237e-04, 5.52580983e-04,\n",
       "       4.98061068e-04, 3.92667775e-04, 5.53458405e-04, 2.15061897e-04,\n",
       "       3.77183431e-04, 6.68955210e-04, 5.94345795e-04, 2.54842686e-04,\n",
       "       3.99255368e-04, 6.03692257e-04, 2.64275615e-04, 3.00258718e-04,\n",
       "       3.49933602e-04, 1.37601717e-04, 2.78489955e-04, 6.25146437e-04,\n",
       "       6.00134314e-04, 4.24112630e-04, 4.05451807e-04, 5.58326370e-04,\n",
       "       5.86741895e-04, 6.53828960e-04, 4.32161934e-04, 4.63865523e-04,\n",
       "       4.50837717e-04, 2.05427976e-04, 4.08058550e-04, 4.17742616e-04,\n",
       "       4.71585401e-04, 6.07878261e-04, 4.26400802e-04, 6.31737057e-04,\n",
       "       6.03485096e-04, 4.85733937e-04, 6.82935235e-04, 5.84303052e-04,\n",
       "       5.17401146e-04, 2.22724644e-04, 3.24822613e-04, 2.62167276e-04,\n",
       "       4.75502166e-04, 4.38612507e-04, 3.05832189e-04, 4.44061734e-04,\n",
       "       4.40531468e-04, 5.98961778e-04, 4.21027100e-04, 1.46068240e-04,\n",
       "       3.48533154e-04, 3.45393637e-04, 2.33360232e-04, 1.29341788e-04,\n",
       "       2.47454329e-04, 5.72915014e-04, 5.45380055e-04, 4.19919088e-04,\n",
       "       4.74992034e-04, 6.83341059e-04, 1.40520118e-04, 2.55697087e-04,\n",
       "       5.40821231e-04, 1.54260910e-04, 1.10231980e-04, 5.38583437e-04,\n",
       "       5.56768384e-04, 6.08155795e-04, 3.16770660e-04, 1.40459902e-04,\n",
       "       5.60632499e-04, 2.22164381e-04, 3.90627421e-04, 6.39340375e-04,\n",
       "       1.58264345e-04, 3.37674603e-04, 4.01101221e-04, 1.05507832e-04,\n",
       "       5.50483528e-04, 2.55354098e-04, 5.21280919e-04, 5.71717334e-04,\n",
       "       3.94717441e-04, 2.16615925e-04, 5.13244071e-04, 4.43557161e-04,\n",
       "       4.41205804e-04, 4.62441822e-04, 3.28573340e-04, 3.82537139e-04,\n",
       "       6.51462527e-04, 4.27555002e-04, 3.09184281e-04, 6.35189994e-04,\n",
       "       6.88345230e-04, 3.35733057e-04, 3.91720270e-04, 1.43753452e-04,\n",
       "       4.48987121e-04, 4.35832451e-04, 1.59407078e-04, 3.77496559e-04,\n",
       "       3.78898432e-04, 5.69205731e-04, 4.00513964e-04, 4.45333397e-04,\n",
       "       1.87615879e-04, 6.83980004e-04, 6.43321720e-04, 5.90682030e-04,\n",
       "       4.97562462e-04, 2.19629786e-04, 3.86411470e-04, 3.38976854e-04,\n",
       "       1.71048727e-04, 4.66795027e-04, 5.31648286e-04, 2.93693884e-04,\n",
       "       3.45723849e-04, 4.42984601e-04, 3.34158743e-04, 3.58274003e-04,\n",
       "       1.69713268e-04, 5.76286286e-04, 2.73181009e-04, 5.32650272e-04,\n",
       "       5.03522926e-04, 3.28086404e-04, 1.28430009e-04, 3.28770751e-04,\n",
       "       4.31818684e-04, 2.30396719e-04, 1.90062012e-04, 2.89927324e-04,\n",
       "       6.22729014e-04, 2.49737845e-04, 5.07277320e-04, 8.26016258e-05,\n",
       "       3.04253248e-04, 5.75835642e-04, 7.75837689e-05, 4.46552935e-04,\n",
       "       5.76601597e-04, 3.29244183e-04, 2.68244999e-04, 2.93964869e-04,\n",
       "       6.71077578e-04, 3.88411718e-04, 6.19094295e-04, 4.98321780e-04,\n",
       "       4.23142134e-04, 1.19905446e-04, 2.93650315e-04, 2.51843507e-04,\n",
       "       5.62483969e-04, 5.45797695e-04, 5.99849445e-04, 6.47258246e-04,\n",
       "       1.83298573e-04, 3.15327750e-04, 3.99689830e-04, 2.48124066e-04,\n",
       "       1.18135562e-04, 5.46203519e-04, 3.98338481e-04, 3.46079411e-04,\n",
       "       3.27109330e-04, 5.87401213e-04, 2.00926224e-04, 3.58263002e-04,\n",
       "       1.66638842e-04, 4.74846282e-04, 3.09272727e-04, 5.74706937e-04,\n",
       "       1.04983104e-04, 1.65807083e-04, 2.23222523e-04, 2.88107112e-04,\n",
       "       2.65890903e-05, 4.72887739e-04, 1.21231205e-04, 2.54769402e-04,\n",
       "       2.86475988e-04, 4.57878836e-04, 3.91654583e-04, 1.13432616e-04,\n",
       "       5.05644421e-04, 1.85069759e-04], dtype=float32)"
      ]
     },
     "execution_count": 44,
     "metadata": {},
     "output_type": "execute_result"
    }
   ],
   "source": [
    "np.sin(x/2)"
   ]
  },
  {
   "cell_type": "code",
   "execution_count": 48,
   "id": "3ada6584",
   "metadata": {},
   "outputs": [
    {
     "data": {
      "text/latex": [
       "$[0,~0.057682093,~0.078584291,~\\dots,~2.0270553,~2.0339003,~2.0530679] \\; \\mathrm{\\frac{km}{s}}$"
      ],
      "text/plain": [
       "<Quantity [0.        , 0.05768209, 0.07858429, 0.10585067, 0.1585363 ,\n",
       "           0.17890845, 0.18170278, 0.19145873, 0.19168974, 0.19373047,\n",
       "           0.22569938, 0.22918266, 0.24380708, 0.24401884, 0.25946432,\n",
       "           0.27936104, 0.2834551 , 0.30044603, 0.3011593 , 0.3051445 ,\n",
       "           0.31003162, 0.3117762 , 0.32138634, 0.32571596, 0.33511445,\n",
       "           0.3491314 , 0.3503035 , 0.35297862, 0.35456476, 0.35806593,\n",
       "           0.36933568, 0.37105379, 0.3769616 , 0.379535  , 0.38237652,\n",
       "           0.3863747 , 0.3998577 , 0.40039572, 0.40060836, 0.40665752,\n",
       "           0.41517767, 0.41529873, 0.4167809 , 0.4221687 , 0.42489785,\n",
       "           0.43183067, 0.43257985, 0.43669745, 0.43866122, 0.44013965,\n",
       "           0.44298342, 0.45602483, 0.467651  , 0.47107634, 0.47680634,\n",
       "           0.47716516, 0.49032748, 0.49234694, 0.497111  , 0.49739224,\n",
       "           0.50185376, 0.5050046 , 0.5055894 , 0.51322895, 0.52059716,\n",
       "           0.5222715 , 0.524026  , 0.54014426, 0.5419985 , 0.5450379 ,\n",
       "           0.5467482 , 0.5498968 , 0.55171454, 0.5522504 , 0.55463374,\n",
       "           0.56181043, 0.56368136, 0.5642571 , 0.5726294 , 0.5888181 ,\n",
       "           0.59386116, 0.60716844, 0.61133397, 0.61940694, 0.6227141 ,\n",
       "           0.6293311 , 0.6297422 , 0.6326777 , 0.6359362 , 0.6370165 ,\n",
       "           0.63993406, 0.6451918 , 0.64941764, 0.65515065, 0.6564812 ,\n",
       "           0.6585233 , 0.6593942 , 0.6708614 , 0.67711914, 0.68109715,\n",
       "           0.68525726, 0.6893379 , 0.6926527 , 0.699782  , 0.71111107,\n",
       "           0.7120747 , 0.7136474 , 0.71486807, 0.71617305, 0.7183567 ,\n",
       "           0.7221059 , 0.7289395 , 0.7309214 , 0.7322321 , 0.73349226,\n",
       "           0.7335331 , 0.7380532 , 0.73883855, 0.73934686, 0.7444624 ,\n",
       "           0.7473139 , 0.7528188 , 0.75310516, 0.75424933, 0.7555799 ,\n",
       "           0.75573504, 0.7619186 , 0.76724446, 0.76886106, 0.77076125,\n",
       "           0.7747688 , 0.7768346 , 0.7777595 , 0.7808279 , 0.7894993 ,\n",
       "           0.7930531 , 0.7939359 , 0.7982884 , 0.80033636, 0.8025918 ,\n",
       "           0.807211  , 0.80732524, 0.80850476, 0.815566  , 0.818977  ,\n",
       "           0.82337606, 0.8280659 , 0.839348  , 0.8467164 , 0.8503329 ,\n",
       "           0.85110503, 0.8541883 , 0.85728854, 0.8573003 , 0.86036813,\n",
       "           0.86285955, 0.8641753 , 0.8657714 , 0.86775005, 0.86795884,\n",
       "           0.8688328 , 0.8768916 , 0.8831342 , 0.88743895, 0.89427334,\n",
       "           0.8983869 , 0.89955163, 0.9038557 , 0.9064166 , 0.914097  ,\n",
       "           0.9142415 , 0.914592  , 0.93073106, 0.93129355, 0.9320369 ,\n",
       "           0.93237585, 0.9349274 , 0.9363897 , 0.9434473 , 0.9463849 ,\n",
       "           0.94986856, 0.9507698 , 0.95569354, 0.95961225, 0.9603568 ,\n",
       "           0.9661141 , 0.9690293 , 0.9712489 , 0.97178334, 0.97360456,\n",
       "           0.98252684, 0.9845682 , 0.9852942 , 0.9877166 , 0.9913183 ,\n",
       "           0.9926073 , 0.99813807, 1.0013661 , 1.0048796 , 1.0084838 ,\n",
       "           1.0093802 , 1.0095906 , 1.0106418 , 1.0110271 , 1.0209028 ,\n",
       "           1.0214849 , 1.0228596 , 1.0276891 , 1.0296115 , 1.0344001 ,\n",
       "           1.0487505 , 1.0566345 , 1.0583161 , 1.0587245 , 1.0589868 ,\n",
       "           1.0634062 , 1.0677074 , 1.0704048 , 1.0721865 , 1.0744097 ,\n",
       "           1.0787394 , 1.0899274 , 1.0911131 , 1.0987318 , 1.1047784 ,\n",
       "           1.1051896 , 1.1084812 , 1.1130761 , 1.114343  , 1.1147612 ,\n",
       "           1.115892  , 1.1184835 , 1.1191103 , 1.1201577 , 1.1234694 ,\n",
       "           1.1248243 , 1.1292684 , 1.1297531 , 1.130041  , 1.1324433 ,\n",
       "           1.1425861 , 1.148137  , 1.151931  , 1.15436   , 1.1570868 ,\n",
       "           1.1580565 , 1.1605641 , 1.1632555 , 1.1633309 , 1.1646334 ,\n",
       "           1.1667916 , 1.169906  , 1.1774805 , 1.1799146 , 1.1806191 ,\n",
       "           1.1837673 , 1.185442  , 1.1948006 , 1.1978692 , 1.2012527 ,\n",
       "           1.2060205 , 1.223024  , 1.2348411 , 1.2357532 , 1.2405139 ,\n",
       "           1.2409738 , 1.2413868 , 1.2439485 , 1.2505215 , 1.2532922 ,\n",
       "           1.2541522 , 1.2596735 , 1.2630805 , 1.2637429 , 1.271645  ,\n",
       "           1.2720703 , 1.2758425 , 1.2760524 , 1.2771194 , 1.2774562 ,\n",
       "           1.28125   , 1.2813438 , 1.281632  , 1.283239  , 1.2877418 ,\n",
       "           1.2879452 , 1.2954874 , 1.2980078 , 1.3012524 , 1.3018496 ,\n",
       "           1.3031291 , 1.3039702 , 1.3043863 , 1.30458   , 1.3080943 ,\n",
       "           1.3093265 , 1.3096163 , 1.310371  , 1.3104753 , 1.3108197 ,\n",
       "           1.3126532 , 1.3166727 , 1.319665  , 1.3226937 , 1.3256909 ,\n",
       "           1.327497  , 1.3304751 , 1.3316745 , 1.3327392 , 1.3375862 ,\n",
       "           1.3416436 , 1.3488113 , 1.3493812 , 1.3531905 , 1.3565784 ,\n",
       "           1.3567026 , 1.3571242 , 1.3576788 , 1.3662146 , 1.3666728 ,\n",
       "           1.3704604 , 1.3737103 , 1.3796895 , 1.3799776 , 1.3826445 ,\n",
       "           1.3893096 , 1.3935366 , 1.3976694 , 1.4028748 , 1.4042885 ,\n",
       "           1.4045197 , 1.4057382 , 1.4180765 , 1.4352587 , 1.4402245 ,\n",
       "           1.4434036 , 1.4459391 , 1.4481237 , 1.4586213 , 1.4620221 ,\n",
       "           1.4705087 , 1.4720716 , 1.4725267 , 1.4857209 , 1.4880202 ,\n",
       "           1.4882656 , 1.488593  , 1.4899975 , 1.4912754 , 1.4942358 ,\n",
       "           1.4987875 , 1.5078083 , 1.5088495 , 1.515229  , 1.5171285 ,\n",
       "           1.5183144 , 1.5222104 , 1.5240258 , 1.5248417 , 1.5252633 ,\n",
       "           1.5293417 , 1.5412015 , 1.550131  , 1.5633322 , 1.5675985 ,\n",
       "           1.5683192 , 1.5709237 , 1.5736631 , 1.5781748 , 1.5797598 ,\n",
       "           1.5844755 , 1.5886692 , 1.5913434 , 1.5985407 , 1.6005049 ,\n",
       "           1.6034894 , 1.6090748 , 1.6114907 , 1.6122493 , 1.613333  ,\n",
       "           1.6135072 , 1.61369   , 1.6263762 , 1.627777  , 1.6335852 ,\n",
       "           1.6353936 , 1.6430024 , 1.6452289 , 1.6492225 , 1.6499457 ,\n",
       "           1.6513563 , 1.6516387 , 1.6571403 , 1.6572608 , 1.6611646 ,\n",
       "           1.6625302 , 1.6823264 , 1.689557  , 1.6935635 , 1.6947525 ,\n",
       "           1.6951377 , 1.6984378 , 1.6993042 , 1.701549  , 1.7019974 ,\n",
       "           1.7028948 , 1.7032245 , 1.7042117 , 1.7247365 , 1.7260499 ,\n",
       "           1.7260665 , 1.7269937 , 1.7324904 , 1.7331436 , 1.733944  ,\n",
       "           1.7356688 , 1.7388821 , 1.7457724 , 1.7570441 , 1.7580847 ,\n",
       "           1.7622216 , 1.7700747 , 1.7732226 , 1.7734934 , 1.775111  ,\n",
       "           1.775609  , 1.7781332 , 1.7834102 , 1.7836713 , 1.7906634 ,\n",
       "           1.7947956 , 1.7953631 , 1.7960039 , 1.7966183 , 1.7973843 ,\n",
       "           1.8061489 , 1.829134  , 1.8294677 , 1.8303062 , 1.8389666 ,\n",
       "           1.840258  , 1.845449  , 1.8475755 , 1.8489076 , 1.8644243 ,\n",
       "           1.8667759 , 1.8714175 , 1.8772196 , 1.8878566 , 1.8893061 ,\n",
       "           1.8917007 , 1.8976743 , 1.8982816 , 1.8998525 , 1.9007252 ,\n",
       "           1.9061958 , 1.911135  , 1.9132211 , 1.9156631 , 1.9256303 ,\n",
       "           1.9321636 , 1.96603   , 1.9677039 , 1.9724286 , 1.9768875 ,\n",
       "           1.9829018 , 1.9872091 , 1.9918704 , 1.9942095 , 1.9997226 ,\n",
       "           2.0084846 , 2.0180066 , 2.0192704 , 2.0213032 , 2.0242722 ,\n",
       "           2.0270553 , 2.0339003 , 2.053068  ] km / s>"
      ]
     },
     "execution_count": 48,
     "metadata": {},
     "output_type": "execute_result"
    }
   ],
   "source": [
    "H0=67.77\n",
    "p=(c/H0)*(z+z_cluster)*np.sin(x/2)\n",
    "np.sort(p)"
   ]
  },
  {
   "cell_type": "code",
   "execution_count": 55,
   "id": "3d2a0a11",
   "metadata": {},
   "outputs": [
    {
     "data": {
      "text/plain": [
       "array([0.00550874,        nan,        nan,        nan, 0.00985411,\n",
       "       0.00650762, 0.01791525,        nan, 0.00292969, 0.01090669,\n",
       "              nan,        nan, 0.01476975, 0.00830437,        nan,\n",
       "              nan,        nan,        nan, 0.01250193, 0.01614285,\n",
       "       0.01376827, 0.01678411,        nan,        nan, 0.0170796 ,\n",
       "       0.00594647, 0.00328571,        nan, 0.01586773, 0.0125067 ,\n",
       "              nan,        nan, 0.00098037,        nan,        nan,\n",
       "       0.01346652, 0.01153451,        nan,        nan, 0.0170475 ,\n",
       "              nan, 0.00785862,        nan, 0.01301667, 0.01135516,\n",
       "              nan,        nan, 0.01253615, 0.01058252,        nan,\n",
       "       0.0134133 , 0.01052887, 0.00909895,        nan,        nan,\n",
       "       0.01007986, 0.01373196, 0.01513819,        nan,        nan,\n",
       "       0.00945316,        nan,        nan,        nan, 0.00283272,\n",
       "       0.00371463,        nan,        nan, 0.01027822, 0.00424271,\n",
       "       0.00858016,        nan,        nan,        nan, 0.01390852,\n",
       "              nan, 0.00987035,        nan, 0.00167152, 0.00306637,\n",
       "              nan, 0.00475369, 0.01208866, 0.00510948,        nan,\n",
       "              nan,        nan, 0.001434  , 0.01138596,        nan,\n",
       "              nan,        nan,        nan, 0.01010533,        nan,\n",
       "              nan,        nan, 0.00405781, 0.00552629, 0.00354214,\n",
       "              nan, 0.01262941, 0.00883261, 0.01077162, 0.00913491,\n",
       "       0.01318359,        nan,        nan,        nan,        nan,\n",
       "       0.01025391,        nan, 0.01183736, 0.01220581, 0.00696817,\n",
       "              nan, 0.01267828, 0.00746078,        nan, 0.00967056,\n",
       "       0.00228046,        nan, 0.0110775 , 0.00418614,        nan,\n",
       "              nan, 0.00634178,        nan, 0.01341025, 0.01139381,\n",
       "       0.00709585, 0.00543384, 0.01789923, 0.01606628,        nan,\n",
       "              nan, 0.0116092 , 0.01527441, 0.01423991,        nan,\n",
       "              nan,        nan, 0.01157063,        nan,        nan,\n",
       "       0.01064604, 0.01385323, 0.01020328,        nan, 0.00787472,\n",
       "              nan,        nan, 0.0107467 , 0.00893243,        nan,\n",
       "              nan,        nan, 0.00751253,        nan,        nan,\n",
       "              nan,        nan, 0.01066213, 0.00566872,        nan,\n",
       "              nan,        nan,        nan,        nan,        nan,\n",
       "              nan,        nan,        nan,        nan,        nan,\n",
       "       0.01485927,        nan,        nan,        nan, 0.00974233,\n",
       "              nan, 0.01122582,        nan, 0.01360112, 0.01664213,\n",
       "       0.00462258, 0.00353056, 0.0020698 , 0.01520572, 0.00529495,\n",
       "       0.00399582, 0.00554245,        nan,        nan,        nan,\n",
       "              nan,        nan, 0.00061642,        nan,        nan,\n",
       "       0.01559589,        nan,        nan,        nan, 0.0070023 ,\n",
       "       0.0055013 , 0.00956287, 0.01053736,        nan,        nan,\n",
       "              nan, 0.00539324, 0.00896781, 0.00945631,        nan,\n",
       "       0.00886419, 0.00761155, 0.00928938, 0.00992455, 0.01697282,\n",
       "       0.01562071,        nan,        nan,        nan, 0.00647836,\n",
       "       0.01092205,        nan, 0.00656688,        nan, 0.00575222,\n",
       "              nan, 0.0015916 , 0.00400606, 0.00608518,        nan,\n",
       "       0.00949406,        nan, 0.00570213,        nan, 0.005867  ,\n",
       "              nan,        nan,        nan,        nan, 0.00578515,\n",
       "              nan, 0.0063588 , 0.0072783 ,        nan,        nan,\n",
       "              nan,        nan, 0.01698445,        nan, 0.00982875,\n",
       "       0.00539186,        nan,        nan, 0.00835089,        nan,\n",
       "       0.00992455, 0.01609593,        nan, 0.01222045,        nan,\n",
       "       0.00750856,        nan, 0.0152209 ,        nan,        nan,\n",
       "              nan, 0.00687506, 0.00603106,        nan, 0.00246116,\n",
       "              nan, 0.00860661, 0.01578039, 0.01093126,        nan,\n",
       "              nan,        nan,        nan,        nan,        nan,\n",
       "       0.01122748, 0.01057195, 0.00479583,        nan, 0.00801166,\n",
       "       0.01612992,        nan,        nan,        nan, 0.00823455,\n",
       "              nan,        nan, 0.00435194,        nan, 0.00451578,\n",
       "       0.00190875, 0.01312242, 0.01039069,        nan,        nan,\n",
       "              nan,        nan,        nan, 0.00477481, 0.00575222,\n",
       "       0.01169552, 0.00473091, 0.00397151, 0.0049246 ,        nan,\n",
       "       0.01150671, 0.01521698,        nan,        nan,        nan,\n",
       "       0.00682121, 0.01075674, 0.01295298, 0.00698419,        nan,\n",
       "       0.00857539, 0.00786857,        nan,        nan,        nan,\n",
       "       0.01256791, 0.00314553,        nan, 0.01605816,        nan,\n",
       "              nan, 0.01498708, 0.00333634, 0.01067505,        nan,\n",
       "       0.01337102,        nan, 0.01426082,        nan, 0.01529196,\n",
       "              nan, 0.00876487,        nan,        nan, 0.00690372,\n",
       "              nan,        nan,        nan,        nan, 0.00859404,\n",
       "       0.00974539, 0.0072783 ,        nan,        nan,        nan,\n",
       "              nan, 0.00754963, 0.00504048, 0.00583517, 0.00814082,\n",
       "              nan,        nan, 0.00680371, 0.0114059 , 0.01540845,\n",
       "              nan, 0.0034913 ,        nan, 0.01275737,        nan,\n",
       "       0.01128936,        nan, 0.01205471,        nan, 0.01369801,\n",
       "              nan,        nan,        nan,        nan, 0.00906285,\n",
       "              nan,        nan,        nan,        nan, 0.00512114,\n",
       "       0.00449345,        nan,        nan,        nan,        nan,\n",
       "              nan,        nan, 0.00396118, 0.01073456,        nan,\n",
       "              nan,        nan,        nan, 0.01361508,        nan,\n",
       "              nan, 0.00863771, 0.01031476, 0.0101711 ,        nan,\n",
       "              nan, 0.01444587,        nan,        nan, 0.00828281,\n",
       "       0.01171907, 0.00375751, 0.01616982, 0.00430114,        nan,\n",
       "       0.01051648,        nan,        nan,        nan, 0.00493064,\n",
       "       0.        , 0.01056737, 0.01315644,        nan, 0.00768025,\n",
       "       0.01405718, 0.00359227,        nan,        nan,        nan,\n",
       "              nan, 0.00876827,        nan, 0.00602983, 0.00717105,\n",
       "              nan,        nan,        nan,        nan,        nan,\n",
       "              nan,        nan,        nan,        nan,        nan,\n",
       "       0.01491457,        nan,        nan, 0.01189356,        nan,\n",
       "              nan, 0.0165827 , 0.0085593 ,        nan, 0.00478727,\n",
       "       0.01054867, 0.01188259,        nan, 0.00032297, 0.01803256,\n",
       "              nan, 0.01419432, 0.01337325,        nan,        nan,\n",
       "       0.0161742 , 0.00785957,        nan,        nan, 0.01201509,\n",
       "       0.01233454, 0.00549926, 0.0124709 ], dtype=float32)"
      ]
     },
     "execution_count": 55,
     "metadata": {},
     "output_type": "execute_result"
    }
   ],
   "source": [
    "np.sqrt(z_cluster**2-z**2)"
   ]
  },
  {
   "cell_type": "code",
   "execution_count": 57,
   "id": "375ce3b4",
   "metadata": {},
   "outputs": [
    {
     "data": {
      "text/latex": [
       "$[-2.1547241,~-2.1267748,~-2.1229515,~\\dots,~1.7776737,~1.8028543,~1.905027] \\; \\mathrm{\\frac{km}{s}}$"
      ],
      "text/plain": [
       "<Quantity [-2.15472412e+00, -2.12677479e+00, -2.12295151e+00,\n",
       "           -1.93284440e+00, -1.92559350e+00, -1.91135514e+00,\n",
       "           -1.90871847e+00, -1.86653101e+00, -1.83502221e+00,\n",
       "           -1.82197046e+00, -1.73324502e+00, -1.73232222e+00,\n",
       "           -1.72652137e+00, -1.72375286e+00, -1.71650183e+00,\n",
       "           -1.71017373e+00, -1.70845985e+00, -1.66811812e+00,\n",
       "           -1.64979303e+00, -1.61657035e+00, -1.61142874e+00,\n",
       "           -1.57293272e+00, -1.54920232e+00, -1.54564273e+00,\n",
       "           -1.53483224e+00, -1.53404117e+00, -1.53179991e+00,\n",
       "           -1.51822090e+00, -1.48803043e+00, -1.47366035e+00,\n",
       "           -1.46271801e+00, -1.44518387e+00, -1.38243008e+00,\n",
       "           -1.34722984e+00, -1.34327483e+00, -1.33470547e+00,\n",
       "           -1.30899751e+00, -1.28144383e+00, -1.27129245e+00,\n",
       "           -1.25573587e+00, -1.24914408e+00, -1.24294782e+00,\n",
       "           -1.22791851e+00, -1.22541356e+00, -1.20128763e+00,\n",
       "           -1.19179547e+00, -1.19126809e+00, -1.18467629e+00,\n",
       "           -1.18428087e+00, -1.15132189e+00, -1.14657581e+00,\n",
       "           -1.14064324e+00, -1.12231803e+00, -1.11137569e+00,\n",
       "           -1.07802117e+00, -1.06470573e+00, -1.05653191e+00,\n",
       "           -1.04624879e+00, -1.04097533e+00, -1.03609741e+00,\n",
       "           -1.03530645e+00, -1.03016484e+00, -1.00775278e+00,\n",
       "           -9.89163876e-01, -9.86790836e-01, -9.67938304e-01,\n",
       "           -9.62533057e-01, -9.56204951e-01, -9.36956882e-01,\n",
       "           -9.35243070e-01, -9.28123891e-01, -9.09666896e-01,\n",
       "           -9.05975521e-01, -8.92660081e-01, -8.86727452e-01,\n",
       "           -8.81190360e-01, -8.76971602e-01, -8.61678660e-01,\n",
       "           -8.59833002e-01, -8.58646452e-01, -8.54032218e-01,\n",
       "           -8.44144523e-01, -8.34915996e-01, -8.34652364e-01,\n",
       "           -8.12767625e-01, -7.91410208e-01, -7.90091872e-01,\n",
       "           -7.87850618e-01, -7.68470764e-01, -7.66361415e-01,\n",
       "           -7.64911234e-01, -7.63197362e-01, -7.54759848e-01,\n",
       "           -7.52914131e-01, -7.50672936e-01, -7.41708100e-01,\n",
       "           -7.40257919e-01, -7.39598751e-01, -7.36962020e-01,\n",
       "           -7.35379994e-01, -7.34193444e-01, -7.32479632e-01,\n",
       "           -7.15077281e-01, -7.04662263e-01, -6.99652493e-01,\n",
       "           -6.96356595e-01, -6.89501166e-01, -6.85150564e-01,\n",
       "           -6.76317573e-01, -6.72889829e-01, -6.52323425e-01,\n",
       "           -6.52323425e-01, -6.45204306e-01, -6.43094957e-01,\n",
       "           -6.39799058e-01, -6.28988504e-01, -6.28593028e-01,\n",
       "           -6.19364500e-01, -6.05653584e-01, -5.96952438e-01,\n",
       "           -5.92206359e-01, -5.91810822e-01, -5.71508110e-01,\n",
       "           -5.52655578e-01, -5.48305035e-01, -5.43954432e-01,\n",
       "           -5.32616556e-01, -5.28397799e-01, -5.20355821e-01,\n",
       "           -5.16664445e-01, -5.09149790e-01, -5.08754313e-01,\n",
       "           -4.94120508e-01, -4.90560949e-01, -4.89110768e-01,\n",
       "           -4.87528712e-01, -4.87001389e-01, -4.85155672e-01,\n",
       "           -4.61820751e-01, -4.56679165e-01, -4.54306096e-01,\n",
       "           -4.49032664e-01, -4.38881308e-01, -4.25038576e-01,\n",
       "           -4.10668463e-01, -4.10009295e-01, -4.09086436e-01,\n",
       "           -4.08954591e-01, -3.90629411e-01, -3.83642137e-01,\n",
       "           -3.77445847e-01, -3.73754442e-01, -3.73358935e-01,\n",
       "           -3.68612856e-01, -3.50815028e-01, -3.50815028e-01,\n",
       "           -3.40531826e-01, -3.33412707e-01, -3.24711531e-01,\n",
       "           -3.22997659e-01, -3.21547478e-01, -3.15614849e-01,\n",
       "           -3.12978148e-01, -3.08100224e-01, -3.06518197e-01,\n",
       "           -2.85556316e-01, -2.80414701e-01, -2.77909815e-01,\n",
       "           -2.67758489e-01, -2.66308278e-01, -2.45214552e-01,\n",
       "           -2.40863979e-01, -2.40732133e-01, -2.34140351e-01,\n",
       "           -2.27944061e-01, -2.25439191e-01, -2.21615955e-01,\n",
       "           -2.19111070e-01, -2.19111070e-01, -2.15287834e-01,\n",
       "           -2.12782949e-01, -2.03422606e-01, -2.02236086e-01,\n",
       "           -2.00917736e-01, -2.00390384e-01, -2.00258553e-01,\n",
       "           -1.95512459e-01, -1.92612082e-01, -1.92480236e-01,\n",
       "           -1.85624778e-01, -1.73627719e-01, -1.72836706e-01,\n",
       "           -1.68222457e-01, -1.60971493e-01, -1.60575986e-01,\n",
       "           -1.52270332e-01, -1.51742980e-01, -1.50951967e-01,\n",
       "           -1.49633616e-01, -1.48183420e-01, -1.41459793e-01,\n",
       "           -1.34999841e-01, -1.33681491e-01, -1.25375822e-01,\n",
       "           -1.22475445e-01, -1.19179547e-01, -1.16015486e-01,\n",
       "           -1.09028190e-01, -1.06259644e-01, -1.05732299e-01,\n",
       "           -1.04413942e-01, -1.03886597e-01, -9.34715718e-02,\n",
       "           -9.13622007e-02, -8.54295865e-02, -8.30565467e-02,\n",
       "           -8.25292021e-02, -8.06834996e-02, -7.36962035e-02,\n",
       "           -7.14549944e-02, -6.55223876e-02, -6.22264892e-02,\n",
       "           -5.68212233e-02, -5.31298220e-02, -4.00780775e-02,\n",
       "           -3.44091393e-02, -2.83446927e-02, -2.41259485e-02,\n",
       "           -1.84570104e-02, -1.67431440e-02, -1.35790855e-02,\n",
       "           -6.32811757e-03, -2.50487984e-03, -6.59178942e-04,\n",
       "            0.00000000e+00,  1.09423697e-02,  1.10742059e-02,\n",
       "            1.10742059e-02,  3.36181261e-02,  3.46728116e-02,\n",
       "            3.55956629e-02,  4.15282734e-02,  4.85155694e-02,\n",
       "            5.51073588e-02,  6.09081313e-02,  6.77635893e-02,\n",
       "            6.82909340e-02,  6.85546100e-02,  8.55614245e-02,\n",
       "            9.86131653e-02,  1.00986212e-01,  1.04941286e-01,\n",
       "            1.05600461e-01,  1.13378771e-01,  1.15092635e-01,\n",
       "            1.16542831e-01,  1.28012538e-01,  1.30649254e-01,\n",
       "            1.40141442e-01,  1.41723469e-01,  1.48183420e-01,\n",
       "            1.52929515e-01,  1.54643372e-01,  1.55038878e-01,\n",
       "            1.56357244e-01,  1.56620905e-01,  1.57280087e-01,\n",
       "            1.72968552e-01,  1.76264435e-01,  1.77846476e-01,\n",
       "            1.81537867e-01,  1.91161886e-01,  1.95116952e-01,\n",
       "            1.96567148e-01,  1.96962655e-01,  2.00785890e-01,\n",
       "            2.01445073e-01,  2.06191167e-01,  2.07509518e-01,\n",
       "            2.08036870e-01,  2.20297590e-01,  2.22934306e-01,\n",
       "            2.26098374e-01,  2.51147181e-01,  2.54838556e-01,\n",
       "            2.56684273e-01,  2.66308278e-01,  2.69340515e-01,\n",
       "            2.74482101e-01,  2.75273114e-01,  2.75932282e-01,\n",
       "            2.88456678e-01,  2.88984030e-01,  2.90697902e-01,\n",
       "            2.91884422e-01,  2.93070942e-01,  2.93334603e-01,\n",
       "            3.02167624e-01,  3.05859029e-01,  3.06122690e-01,\n",
       "            3.08627576e-01,  3.15219343e-01,  3.16274047e-01,\n",
       "            3.18119735e-01,  3.22206646e-01,  3.30907822e-01,\n",
       "            3.35390240e-01,  3.48573804e-01,  3.52660716e-01,\n",
       "            3.62416565e-01,  3.67821842e-01,  3.81400913e-01,\n",
       "            3.87201697e-01,  3.88915569e-01,  3.91420424e-01,\n",
       "            3.98803234e-01,  4.10536617e-01,  4.12645996e-01,\n",
       "            4.23588365e-01,  4.26356912e-01,  4.26620603e-01,\n",
       "            4.28466290e-01,  4.31762189e-01,  4.38353986e-01,\n",
       "            4.44550246e-01,  4.44945753e-01,  4.49296355e-01,\n",
       "            4.49691862e-01,  4.51142043e-01,  4.51273888e-01,\n",
       "            4.53515083e-01,  4.54174280e-01,  4.57338333e-01,\n",
       "            4.57865685e-01,  4.59843218e-01,  4.64061946e-01,\n",
       "            4.64852959e-01,  4.65380311e-01,  4.77245539e-01,\n",
       "            4.90429103e-01,  4.96493548e-01,  5.02294362e-01,\n",
       "            5.03612697e-01,  5.07963300e-01,  5.09149790e-01,\n",
       "            5.13764024e-01,  5.16664445e-01,  5.18510163e-01,\n",
       "            5.23651719e-01,  5.25892913e-01,  5.32748401e-01,\n",
       "            5.41317701e-01,  5.45668304e-01,  5.56215167e-01,\n",
       "            5.59247375e-01,  5.73485672e-01,  5.77572584e-01,\n",
       "            5.97479761e-01,  5.98138928e-01,  6.00380182e-01,\n",
       "            6.05126262e-01,  6.08026624e-01,  6.15541279e-01,\n",
       "            6.20551050e-01,  6.41249239e-01,  6.42435789e-01,\n",
       "            6.45995319e-01,  6.47050023e-01,  6.54828310e-01,\n",
       "            6.58519745e-01,  6.67352736e-01,  6.67880058e-01,\n",
       "            6.70516789e-01,  6.71703339e-01,  6.73812687e-01,\n",
       "            6.77635908e-01,  6.80272639e-01,  6.91478670e-01,\n",
       "            7.03080237e-01,  7.05453277e-01,  7.11913228e-01,\n",
       "            7.16922998e-01,  7.18109488e-01,  7.20614374e-01,\n",
       "            7.34720826e-01,  7.37357557e-01,  7.39466906e-01,\n",
       "            7.43553817e-01,  7.49881923e-01,  7.83104539e-01,\n",
       "            7.84818411e-01,  8.01034212e-01,  8.09735358e-01,\n",
       "            8.11581075e-01,  8.16063523e-01,  8.18700194e-01,\n",
       "            8.20282221e-01,  8.22523475e-01,  8.24764669e-01,\n",
       "            8.32279325e-01,  8.51131797e-01,  8.70511651e-01,\n",
       "            8.74334931e-01,  8.80003870e-01,  8.80926728e-01,\n",
       "            9.00702059e-01,  9.07821178e-01,  9.19950068e-01,\n",
       "            9.24696207e-01,  9.28387582e-01,  9.40384626e-01,\n",
       "            9.42230344e-01,  9.45658088e-01,  9.53700066e-01,\n",
       "            9.70179498e-01,  9.74530101e-01,  9.84681487e-01,\n",
       "            1.00392950e+00,  1.01157594e+00,  1.01170778e+00,\n",
       "            1.01434445e+00,  1.02357304e+00,  1.03530645e+00,\n",
       "            1.04189813e+00,  1.05059934e+00,  1.07011104e+00,\n",
       "            1.08263540e+00,  1.10188353e+00,  1.12310898e+00,\n",
       "            1.12996447e+00,  1.13471055e+00,  1.13892937e+00,\n",
       "            1.14710319e+00,  1.15725446e+00,  1.16186881e+00,\n",
       "            1.16490102e+00,  1.16872418e+00,  1.19561875e+00,\n",
       "            1.19680524e+00,  1.22554541e+00,  1.22923684e+00,\n",
       "            1.23622417e+00,  1.24044287e+00,  1.25415385e+00,\n",
       "            1.26193213e+00,  1.27643406e+00,  1.28777194e+00,\n",
       "            1.28803563e+00,  1.32587242e+00,  1.33523285e+00,\n",
       "            1.33628750e+00,  1.35843587e+00,  1.36397302e+00,\n",
       "            1.45546699e+00,  1.47234201e+00,  1.47431958e+00,\n",
       "            1.48750317e+00,  1.49290836e+00,  1.53720522e+00,\n",
       "            1.54920232e+00,  1.56251764e+00,  1.57543755e+00,\n",
       "            1.58005190e+00,  1.58123839e+00,  1.58466613e+00,\n",
       "            1.60391414e+00,  1.60444152e+00,  1.62039363e+00,\n",
       "            1.63502741e+00,  1.63713670e+00,  1.67958784e+00,\n",
       "            1.72441208e+00,  1.72480750e+00,  1.72586226e+00,\n",
       "            1.75671184e+00,  1.77767372e+00,  1.80285430e+00,\n",
       "            1.90502703e+00] km / s>"
      ]
     },
     "execution_count": 57,
     "metadata": {},
     "output_type": "execute_result"
    }
   ],
   "source": [
    "np.sort((c/H0)*(z-z_cluster))"
   ]
  },
  {
   "cell_type": "code",
   "execution_count": null,
   "id": "757195a8",
   "metadata": {},
   "outputs": [],
   "source": [
    "cl_ra=data.field('RA_1')[0]\n",
    "cl_dec=data.field('DEC_1')[0]"
   ]
  },
  {
   "cell_type": "code",
   "execution_count": null,
   "id": "8303b850",
   "metadata": {},
   "outputs": [],
   "source": [
    "d_dec = (dec - cl_dec)\n",
    "d_ra = (ra - cl_ra)\n",
    "theta = np.arctan2(d_dec,d_ra) \n",
    "deg = np.sqrt(d_ra ** 2 + d_dec ** 2) * np.pi/180 # in radians\n",
    "act_r=deg*D\n",
    "np.sort(act_r)"
   ]
  },
  {
   "cell_type": "code",
   "execution_count": null,
   "id": "b4bad50d",
   "metadata": {},
   "outputs": [],
   "source": [
    "cosmos.angular_diameter_distance(z)\n",
    "from scipy.interpolate import interp1d"
   ]
  },
  {
   "cell_type": "code",
   "execution_count": null,
   "id": "1419d7fa",
   "metadata": {},
   "outputs": [],
   "source": [
    "d_C = cosmos.comoving_distance(data.redshift_R_2)\n",
    "dc_mpc = (d_C).value\n",
    "dc_interpolation = interp1d(data.redshift_R_2, dc_mpc)\n",
    "z_interpolation = interp1d(dc_mpc, data.redshift_R_2)\n",
    "#rr= dc_interpolation( z )\n",
    "dc_mpc = (d_C).value"
   ]
  },
  {
   "cell_type": "code",
   "execution_count": null,
   "id": "de3cdda9",
   "metadata": {},
   "outputs": [],
   "source": [
    "D_cl=cosmos.comoving_distance(z) #angular diameter distance\n",
    "D_cl"
   ]
  },
  {
   "cell_type": "code",
   "execution_count": null,
   "id": "fbf96484",
   "metadata": {},
   "outputs": [],
   "source": [
    "\"\"\" For the whole members  he actual estimation\n",
    "\"\"\"\n",
    "\n",
    "d_C = D_cl\n",
    "dc_mpc = (d_C).value\n",
    "dc_interpolation = interp1d(z, dc_mpc)\n",
    "z_interpolation = interp1d(dc_mpc, z)\n",
    "#rr= dc_interpolation( z )\n",
    "dc_mpc = (d_C).value\n",
    "phi   = ( ra   - 180 ) * np.pi / 180.\n",
    "theta = (dec + 90 ) * np.pi / 180.\n",
    "rr    = dc_interpolation(z)\n",
    "xx = rr * np.cos( phi) * np.sin( theta )\n",
    "yy = rr * np.sin( phi) * np.sin( theta )\n",
    "zz = rr * np.cos( theta )\n"
   ]
  },
  {
   "cell_type": "code",
   "execution_count": null,
   "id": "7856a6d6",
   "metadata": {},
   "outputs": [],
   "source": [
    "d_x = cosmos.comoving_distance(data.redshift_R_1[0])\n",
    "dx_mpc = (d_x).value\n",
    "r1=dx_mpc\n",
    "\n",
    "phi1   = ( data.field('RA_1')[0]   - 180 ) * np.pi / 180.\n",
    "theta1 = (data.field('DEC_1')[0] + 90 ) * np.pi / 180.\n",
    "\n",
    "x1 = r1 * np.cos( phi1) * np.sin( theta1 )\n",
    "y1 = r1 * np.sin( phi1) * np.sin( theta1 )\n",
    "z1 = r1 * np.cos( theta1 )\n"
   ]
  },
  {
   "cell_type": "code",
   "execution_count": null,
   "id": "996e7003",
   "metadata": {},
   "outputs": [],
   "source": [
    "phi1   = ( data.field('RA_1')[0]   - 180 ) * np.pi / 180.\n",
    "theta1 = (data.field('DEC_1')[0] + 90 ) * np.pi / 180.\n",
    "x1 = r1 * np.cos( phi1) * np.sin( theta1 )\n",
    "y1 = r1 * np.sin( phi1) * np.sin( theta1 )\n",
    "z1 = r1 * np.cos( theta1 )"
   ]
  },
  {
   "cell_type": "code",
   "execution_count": null,
   "id": "2acc74df",
   "metadata": {},
   "outputs": [],
   "source": [
    "d_dec = (dec - cl_dec)\n",
    "d_ra = (ra - cl_ra)\n",
    "theta = np.arctan2(d_dec,d_ra) \n",
    "deg = np.sqrt(d_ra ** 2 + d_dec ** 2) * np.pi/180 # in radians\n",
    "act_r=deg*D\n",
    "tt=np.sort(act_r)"
   ]
  },
  {
   "cell_type": "code",
   "execution_count": null,
   "id": "13a84d1b",
   "metadata": {},
   "outputs": [],
   "source": [
    "dis =np.sqrt((x1-xx)**2 + (y1-yy)**2 + (z1-zz)**2)\n"
   ]
  },
  {
   "cell_type": "code",
   "execution_count": null,
   "id": "11133c68",
   "metadata": {
    "scrolled": false
   },
   "outputs": [],
   "source": [
    "bb=np.sqrt(np.sort(rr**2+r1**2-(2*rr*r1)*(np.sin(theta)*np.sin(theta1)*np.cos(phi-phi1)+np.cos(theta)*np.cos(theta1))))\n",
    "#np.sort(bb)"
   ]
  },
  {
   "cell_type": "code",
   "execution_count": null,
   "id": "4c59773c",
   "metadata": {},
   "outputs": [],
   "source": [
    "dis"
   ]
  },
  {
   "cell_type": "code",
   "execution_count": null,
   "id": "418ff402",
   "metadata": {},
   "outputs": [],
   "source": [
    "%matplotlib inline\n",
    "plt.plot(r,dis)"
   ]
  },
  {
   "cell_type": "code",
   "execution_count": null,
   "id": "8a4a1783",
   "metadata": {},
   "outputs": [],
   "source": [
    "zs=np.array(rr**2+r1**2)-(2*rr*r1)*[np.sin(theta)*np.sin(theta1)*np.cos(phi)*np.cos(phi1)+np.sin(theta)*np.sin(theta1)*np.sin(phi)*np.sin(phi1)+np.cos(theta)*np.cos(theta1)]\n"
   ]
  },
  {
   "cell_type": "code",
   "execution_count": null,
   "id": "6adb846f",
   "metadata": {},
   "outputs": [],
   "source": [
    "distance=np.sqrt(rr**2+r1**2-2*rr*r1*np.cos(theta-theta1)-2*rr*r1*np.sin(theta)*np.sin(theta1)*(np.cos(phi-phi1)-1))\n"
   ]
  },
  {
   "cell_type": "code",
   "execution_count": null,
   "id": "3277a5c9",
   "metadata": {},
   "outputs": [],
   "source": [
    "D"
   ]
  },
  {
   "cell_type": "code",
   "execution_count": null,
   "id": "9b9a616d",
   "metadata": {},
   "outputs": [],
   "source": [
    "   \n",
    "antheta = np.sqrt(((dec - cl_dec)**2 + (ra- cl_ra)**2*np.cos(cl_dec*np.pi/180)))*np.pi/180\n",
    "    \n",
    "phi = np.arctan((dec - cl_dec)/((cl_ra - ra)*np.cos(cl_dec*np.pi/180)))\n",
    "    \n",
    "x_center = D * antheta * np.cos(phi) #in Mpc\n",
    "    \n",
    "y_center = D * antheta* np.sin(phi) #in Mpc\n",
    "x_center"
   ]
  },
  {
   "cell_type": "code",
   "execution_count": null,
   "id": "2406cf2c",
   "metadata": {},
   "outputs": [],
   "source": [
    "np.sort(x_center)\n",
    "np.sort(y_center)"
   ]
  },
  {
   "cell_type": "code",
   "execution_count": null,
   "id": "a776916c",
   "metadata": {},
   "outputs": [],
   "source": [
    "N,R=np.histogram(np.array(r_proj))\n",
    "R"
   ]
  },
  {
   "cell_type": "code",
   "execution_count": null,
   "id": "05fe9683",
   "metadata": {},
   "outputs": [],
   "source": [
    "nn,rs=np.histogram(np.array(act_r))\n",
    "rs"
   ]
  },
  {
   "cell_type": "code",
   "execution_count": null,
   "id": "4c3dd24b",
   "metadata": {},
   "outputs": [],
   "source": [
    "\n",
    "\n",
    "#Getting the number density profile in 2D \n",
    "n=N/(np.pi*(( R[1:]**2-R[:-1]**2)))\n",
    "\n",
    "# central point of each separation \n",
    "R_proj = (R[1:] + R[:-1])/2\n",
    "plt.plot(R_proj,n, color='black', linestyle='dashed', linewidth = 2, marker='o', markerfacecolor='green', markersize=12)\n",
    "#plt.yscale('log')\n",
    "#plt.xscale('log')\n",
    "plt.xlabel('projected separation(Mpc)')\n",
    "plt.ylabel('number density (Mpc^-2)')  \n",
    "plt.show()\n"
   ]
  },
  {
   "cell_type": "code",
   "execution_count": null,
   "id": "5ab63805",
   "metadata": {},
   "outputs": [],
   "source": [
    "Ns,ry=np.histogram(r)"
   ]
  },
  {
   "cell_type": "code",
   "execution_count": null,
   "id": "8014d932",
   "metadata": {},
   "outputs": [],
   "source": [
    "#Ns,rs=np.histogram(r)\n",
    "number_density=Ns/(np.pi*( 4* ( ry[1:]**3-ry[:-1]**3) / 3))\n",
    "number_density\n",
    "r_diff = (ry[1:] + ry[:-1])/2.\n",
    "#plt.xscale('log')\n",
    "#plt.yscale('log')\n",
    "plt.plot(r_diff,number_density, color='black', linestyle='dashed', linewidth = 2, marker='o', markerfacecolor='green', markersize=12)\n",
    "plt.xlabel('Separation in MPC')\n",
    "plt.ylabel('number_dneisty')\n",
    "plt.show()"
   ]
  },
  {
   "cell_type": "code",
   "execution_count": null,
   "id": "746e6ea9",
   "metadata": {},
   "outputs": [],
   "source": [
    "#Ns,rs=np.histogram(r)\n",
    "number_density=nn/(np.pi*( 4* ( rs[1:]**3-rs[:-1]**3) / 3))\n",
    "number_density\n",
    "r_act = (rs[1:] + rs[:-1])/2.\n",
    "#plt.xscale('log')\n",
    "#plt.yscale('log')\n",
    "plt.plot(r_act,number_density, color='black', linestyle='dashed', linewidth = 2, marker='o', markerfacecolor='green', markersize=12)\n",
    "plt.xlabel('Separation in MPC')\n",
    "plt.ylabel('number_dneisty')\n",
    "plt.show()"
   ]
  },
  {
   "cell_type": "code",
   "execution_count": null,
   "id": "3e18081b",
   "metadata": {},
   "outputs": [],
   "source": [
    "dndR=np.array(np.gradient(n,R_proj))\n",
    "dndR"
   ]
  },
  {
   "cell_type": "code",
   "execution_count": null,
   "id": "422856df",
   "metadata": {},
   "outputs": [],
   "source": [
    "xx=np.hstack((np.array([0]),np.array(R_proj)))\n",
    "xx"
   ]
  },
  {
   "cell_type": "code",
   "execution_count": null,
   "id": "3a6b1ff4",
   "metadata": {},
   "outputs": [],
   "source": [
    "yy=np.hstack((np.array(dndR[0]),np.array(dndR)))\n",
    "yy"
   ]
  },
  {
   "cell_type": "code",
   "execution_count": null,
   "id": "99d16671",
   "metadata": {},
   "outputs": [],
   "source": [
    "#inter1=interp1d(xx,yy)"
   ]
  },
  {
   "cell_type": "code",
   "execution_count": null,
   "id": "1407854b",
   "metadata": {},
   "outputs": [],
   "source": [
    "inter1=interp1d(xx, yy, bounds_error=False, fill_value=-10.)"
   ]
  },
  {
   "cell_type": "code",
   "execution_count": null,
   "id": "5339dd8d",
   "metadata": {},
   "outputs": [],
   "source": [
    "inter1(-6.0)"
   ]
  },
  {
   "cell_type": "code",
   "execution_count": null,
   "id": "aced3475",
   "metadata": {},
   "outputs": [],
   "source": [
    "\n",
    "def nu(R,rs):\n",
    "    return (-1/np.pi)*(inter1(R)/((R**2 - rs**2)**0.5))\n",
    "\n",
    "integrate.quad(nu, rs[9], 1.79,args=(rs[9]))[0]\n"
   ]
  },
  {
   "cell_type": "code",
   "execution_count": null,
   "id": "657f07ec",
   "metadata": {},
   "outputs": [],
   "source": [
    "\n",
    "def nu(R,rs):\n",
    "    return (-1/np.pi)*(inter1(R)/((R**2 - rs**2)**0.5))\n",
    "\n",
    "nu_all=[integrate.quad(nu, rs_i, 1.6,args=(rs_i))[0] for rs_i in rs]\n",
    "nu_all"
   ]
  },
  {
   "cell_type": "code",
   "execution_count": null,
   "id": "0cbac9e1",
   "metadata": {},
   "outputs": [],
   "source": [
    "plt.plot(dec,ra,color='black', linestyle='none', linewidth = 2, marker='.', markerfacecolor='blue', markersize=12)\n",
    "plt.xlabel('Dec')\n",
    "plt.ylabel('RA')"
   ]
  },
  {
   "cell_type": "code",
   "execution_count": null,
   "id": "1078c74f",
   "metadata": {},
   "outputs": [],
   "source": [
    "# Peculiar velocities of a members from there spectrosocpic\n",
    "# redshift and mean redshift of a cluster\n",
    "\n",
    "c=const.c.to(\"km/s\")\n",
    "z_cl=0.33398816\n",
    "los_v=( c*z -  c*z_cl)/(1 + z_cl)\n",
    "los_v\n",
    "plt.plot(r,los_v, color='black', linestyle='none', linewidth = 2, marker='o', markerfacecolor='green', markersize=12)\n",
    "plt.xlabel('Separation in MPC')\n",
    "plt.ylabel('velocity dispersion')\n",
    "plt.show()"
   ]
  },
  {
   "cell_type": "code",
   "execution_count": null,
   "id": "0980dc03",
   "metadata": {},
   "outputs": [],
   "source": [
    "z=data.redshift_R_2"
   ]
  },
  {
   "cell_type": "code",
   "execution_count": null,
   "id": "9ff09fc4",
   "metadata": {},
   "outputs": [],
   "source": [
    "v=np.sqrt(data.HALO_vx_2**2+data.HALO_vy_2**2+data.HALO_vz_2**2)\n",
    "v"
   ]
  },
  {
   "cell_type": "code",
   "execution_count": null,
   "id": "1902d81c",
   "metadata": {},
   "outputs": [],
   "source": [
    "(np.vstack((data.field('RA_2'),data.field('DEC_2'),data.redshift_R_2)).T)"
   ]
  },
  {
   "cell_type": "code",
   "execution_count": null,
   "id": "64ea64d3",
   "metadata": {},
   "outputs": [],
   "source": [
    "import causticpy\n",
    "caustic= causticpy.Caustic()\n",
    "caustic.run_caustic(np.vstack((data.field('RA_2'),data.field('DEC_2'),data.redshift_R_2)).T)\n"
   ]
  },
  {
   "cell_type": "code",
   "execution_count": null,
   "id": "eba66e94",
   "metadata": {},
   "outputs": [],
   "source": []
  },
  {
   "cell_type": "code",
   "execution_count": null,
   "id": "998610e1",
   "metadata": {},
   "outputs": [],
   "source": []
  },
  {
   "cell_type": "code",
   "execution_count": null,
   "id": "839eed45",
   "metadata": {},
   "outputs": [],
   "source": []
  },
  {
   "cell_type": "code",
   "execution_count": null,
   "id": "32e39672",
   "metadata": {},
   "outputs": [],
   "source": []
  }
 ],
 "metadata": {
  "kernelspec": {
   "display_name": "Python 3 (ipykernel)",
   "language": "python",
   "name": "python3"
  },
  "language_info": {
   "codemirror_mode": {
    "name": "ipython",
    "version": 3
   },
   "file_extension": ".py",
   "mimetype": "text/x-python",
   "name": "python",
   "nbconvert_exporter": "python",
   "pygments_lexer": "ipython3",
   "version": "3.9.7"
  }
 },
 "nbformat": 4,
 "nbformat_minor": 5
}
