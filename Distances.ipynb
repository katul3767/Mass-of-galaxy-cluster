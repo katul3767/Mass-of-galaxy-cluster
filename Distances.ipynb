{
 "cells": [
  {
   "cell_type": "code",
   "execution_count": 1,
   "id": "37af631c",
   "metadata": {},
   "outputs": [],
   "source": [
    "import numpy as np\n",
    "import astropy.io.fits\n",
    "from astropy.table import Table\n",
    "import matplotlib.pyplot as plt\n",
    "import scipy as sp \n",
    "import scipy.integrate as integrate\n",
    "from scipy import log,exp,sqrt,stats\n",
    "from astropy import units as u\n",
    "import astropy.constants as const\n",
    "from scipy.optimize import curve_fit\n",
    "from scipy.integrate import quad\n",
    "from astropy.stats import biweight_location, biweight_scale, bootstrap\n",
    "from astropy.cosmology import LambdaCDM\n",
    "from scipy.interpolate import interp1d\n",
    "from astropy.coordinates import SkyCoord\n",
    "import scipy.stats as stats\n",
    "import numpy.ma as ma\n",
    "from astropy.stats import sigma_clip\n",
    "from colossus.halo import profile_nfw\n",
    "cosmo = LambdaCDM(H0=67.77* u.km / u.Mpc / u.s, Om0=0.307115, Ode0=0.692885)  # define cosmology\n",
    "c=const.c.to(\"km/s\").value\n",
    "%matplotlib inline"
   ]
  },
  {
   "cell_type": "code",
   "execution_count": 2,
   "id": "e1196902",
   "metadata": {},
   "outputs": [
    {
     "name": "stdout",
     "output_type": "stream",
     "text": [
      "opening massive_cluster0.fit\n"
     ]
    }
   ],
   "source": [
    "path_2_data = 'massive_cluster0.fit'  # MACS J0717.5+3745  with 202 members \n",
    "print('opening', path_2_data)\n",
    "my_file=astropy.io.fits.open(path_2_data)\n",
    "#print(my_file[1].data.columns)\n",
    "data = my_file[1].data"
   ]
  },
  {
   "cell_type": "code",
   "execution_count": 3,
   "id": "5a8a0cfe",
   "metadata": {},
   "outputs": [
    {
     "data": {
      "text/plain": [
       "232"
      ]
     },
     "execution_count": 3,
     "metadata": {},
     "output_type": "execute_result"
    }
   ],
   "source": [
    "ra=data.field('ra')  # RA \n",
    "dec=data.field('dec') # DEC\n",
    "zspec=data.field('zspec') # redshift \n",
    "\n",
    "# Neglecting nans from the data set\n",
    "z0=data.field('zspec')\n",
    "mask0=np.where(z0>0)\n",
    "z_gal=(zspec[mask0])\n",
    "len(z_gal)"
   ]
  },
  {
   "cell_type": "code",
   "execution_count": 4,
   "id": "9a3963c2",
   "metadata": {},
   "outputs": [
    {
     "data": {
      "text/plain": [
       "(232, 232, 232)"
      ]
     },
     "execution_count": 4,
     "metadata": {},
     "output_type": "execute_result"
    }
   ],
   "source": [
    "# After the removal of nans from the data\n",
    "ra_gal=ra[mask0]\n",
    "dec_gal= dec[mask0]\n",
    "len(z_gal),len(ra_gal),len(dec_gal)"
   ]
  },
  {
   "cell_type": "markdown",
   "id": "d145c316",
   "metadata": {},
   "source": [
    "# Sigma clipping to remove the interlopers \n"
   ]
  },
  {
   "cell_type": "code",
   "execution_count": 5,
   "id": "cbb09251",
   "metadata": {},
   "outputs": [
    {
     "data": {
      "text/plain": [
       "0.5426342"
      ]
     },
     "execution_count": 5,
     "metadata": {},
     "output_type": "execute_result"
    }
   ],
   "source": [
    "clipped_redshift=sigma_clip(z_gal, sigma=1.7, maxiters=10000)\n",
    "\n",
    "zg=[]\n",
    "zk=[]\n",
    "for x in range(len(clipped_redshift)):\n",
    "    if ma.is_masked(clipped_redshift[x])==False:\n",
    "        zg.append(clipped_redshift[x])\n",
    "        \n",
    "    if not ma.is_masked(clipped_redshift[x])==False:\n",
    "        zk.append(clipped_redshift[x])\n",
    "        \n",
    "    else:\n",
    "        continue\n",
    "\n",
    "# mask the remaining dataset according to the filtered members\n",
    "mask1 = np.where(zg)\n",
    "\n",
    "RA=(ra_gal[mask1])  # final ra of the member galaxies\n",
    "\n",
    "DEC=(dec_gal[mask1])   #final dec of the member galaxies\n",
    "\n",
    "RA_clus= np.mean(RA)  # ra of the cluster\n",
    "\n",
    "DEC_clus= np.mean(DEC) # dec of the cluster\n",
    "\n",
    "z_cl=np.mean(zg)\n",
    "z_cl"
   ]
  },
  {
   "cell_type": "markdown",
   "id": "1af9737d",
   "metadata": {},
   "source": [
    "# projection of the cluster"
   ]
  },
  {
   "cell_type": "code",
   "execution_count": 6,
   "id": "b08a54e8",
   "metadata": {},
   "outputs": [
    {
     "data": {
      "text/plain": [
       "[<matplotlib.lines.Line2D at 0x7f747f5af880>]"
      ]
     },
     "execution_count": 6,
     "metadata": {},
     "output_type": "execute_result"
    },
    {
     "data": {
      "image/png": "[encoded data removed]",
      "text/plain": [
       "<Figure size 432x288 with 1 Axes>"
      ]
     },
     "metadata": {
      "needs_background": "light"
     },
     "output_type": "display_data"
    }
   ],
   "source": [
    "plt.plot(DEC,RA,linestyle='none',marker='*')\n",
    "plt.plot(DEC_clus,RA_clus,linestyle='none',markersize=12,marker='P')"
   ]
  },
  {
   "cell_type": "markdown",
   "id": "d27cc3f0",
   "metadata": {},
   "source": [
    "# 3D distances"
   ]
  },
  {
   "cell_type": "code",
   "execution_count": 7,
   "id": "9ea500fd",
   "metadata": {},
   "outputs": [],
   "source": [
    "#Computing the actual 3D distances between the galaxies and the cluster center\n",
    "D_cl=cosmo.comoving_distance(zg).value\n",
    "D_clus=cosmo.comoving_distance(z_cl).value\n"
   ]
  },
  {
   "cell_type": "code",
   "execution_count": 8,
   "id": "827c5a14",
   "metadata": {},
   "outputs": [
    {
     "data": {
      "text/plain": [
       "10.989368137650358"
      ]
     },
     "execution_count": 8,
     "metadata": {},
     "output_type": "execute_result"
    }
   ],
   "source": [
    "def get_x_y_z(ra_radian, dec_radian, rr):\n",
    "    phi   = (ra_radian   - 180 ) * np.pi / 180.\n",
    "    theta = (dec_radian + 90 ) * np.pi / 180.\n",
    "    xx = rr * np.cos(phi) * np.sin(theta)\n",
    "    yy = rr * np.sin(phi) * np.sin(theta)\n",
    "    zz = rr * np.cos(theta)\n",
    "    return xx, yy, zz\n",
    "\n",
    "# Cartesian position of the galaxies\n",
    "xx, yy, zz = get_x_y_z(RA, DEC, D_cl)\n",
    "    \n",
    "# Cartesian position of the galaxies\n",
    "xx_cl, yy_cl, zz_cl = get_x_y_z(RA_clus, DEC_clus, D_clus)\n",
    "    \n",
    "# Getting the distances of the Galaxies with respect to the CLusters\n",
    "\n",
    "distances = np.array(np.sqrt((xx_cl-xx)**2 + (yy_cl-yy)**2 + (zz_cl-zz)**2))\n",
    "distances.max()"
   ]
  },
  {
   "cell_type": "code",
   "execution_count": 12,
   "id": "154e0863",
   "metadata": {},
   "outputs": [
    {
     "data": {
      "text/latex": [
       "$10.989368 \\; \\mathrm{Mpc}$"
      ],
      "text/plain": [
       "<Distance 10.98936814 Mpc>"
      ]
     },
     "execution_count": 12,
     "metadata": {},
     "output_type": "execute_result"
    }
   ],
   "source": [
    "c1 = SkyCoord(RA_clus  *u.deg, DEC_clus *u.deg, distance=D_cl*u.Mpc, frame='icrs')\n",
    "c2 = SkyCoord(RA*u.deg, DEC *u.deg, distance=D_clus*u.Mpc, frame='icrs')\n",
    "\n",
    "#commoving distance between Galaxies inside the galaxy cluster\n",
    "sep = c1.separation_3d(c2)\n",
    "sep.max()"
   ]
  },
  {
   "cell_type": "code",
   "execution_count": 13,
   "id": "faec035b",
   "metadata": {},
   "outputs": [],
   "source": [
    "#Physical distance from commoving distance\n",
    "# D_AB Physical distance to the galaxy B as seen from the galaxy A (ie distance between A and B)\n",
    "D12 = np.array(sep)/(1+np.array(zg))\n",
    "\n",
    "#similarly the physical distance D_BA the distance of the galaxy A as seen from B\n",
    "D21 = np.array(sep)/(1+z_cl)"
   ]
  },
  {
   "cell_type": "markdown",
   "id": "de52c65b",
   "metadata": {},
   "source": [
    "# Projected distances"
   ]
  },
  {
   "cell_type": "code",
   "execution_count": 14,
   "id": "ccc3e3b0",
   "metadata": {},
   "outputs": [
    {
     "name": "stdout",
     "output_type": "stream",
     "text": [
      "the cluster at redshift  0.5426342  is at dC= 2087.5787281992257 Mpc\n",
      "Angular diameter distance at the clusters redshift : 1353.2558418001092 Mpc per radian\n",
      "Angular diameter dist*u.degreeance at the clusters redshift : 23.618770061259415 Mpc per degree\n",
      "Angular diameter distance at the clusters redshift : 393.64616768765694 kpc per arc minute    \n",
      "min, max projected distance :  0.012225951766905005 0.6743543405388321\n"
     ]
    }
   ],
   "source": [
    "# From astropy inbuilt module separation\n",
    "coordinates_SubHaloes = SkyCoord( RA , DEC , unit='deg', frame='icrs')\n",
    "coordinate_cluster    = SkyCoord( RA_clus , DEC_clus, unit='deg', frame='icrs') \n",
    "Angular_separation_Astropy = coordinates_SubHaloes.separation( coordinate_cluster )\n",
    "Angular_separation_Astropy_radian = (Angular_separation_Astropy).to(u.radian)\n",
    "Angular_separation_Astropy_radian.value\n",
    "\n",
    "# Comoving distance\n",
    "D = cosmo.comoving_distance(z_cl) \n",
    "print('the cluster at redshift ',z_cl,' is at dC=',D)\n",
    "# Angular diameter distance\n",
    "print('Angular diameter distance at the clusters redshift :' , cosmo.angular_diameter_distance(z_cl), 'per radian')\n",
    "print('Angular diameter dist*u.degreeance at the clusters redshift :' , cosmo.angular_diameter_distance(z_cl)/(180/np.pi), 'per degree')\n",
    "print('Angular diameter distance at the clusters redshift :' , (cosmo.angular_diameter_distance(z_cl)/(180/np.pi)).to(u.kpc)/60, 'per arc minute    ')\n",
    "\n",
    "#\n",
    "# The angular separation between sub haloes and the cluster converted in Mpc\n",
    "r_proj = (Angular_separation_Astropy_radian * cosmo.angular_diameter_distance(z_cl)/u.radian).value  # where D is comoving distance\n",
    "print('min, max projected distance : ',r_proj.min(), r_proj.max()) #'compared to the 3D virial radius', r_cl/1000)"
   ]
  }
 ],
 "metadata": {
  "kernelspec": {
   "display_name": "Python 3 (ipykernel)",
   "language": "python",
   "name": "python3"
  },
  "language_info": {
   "codemirror_mode": {
    "name": "ipython",
    "version": 3
   },
   "file_extension": ".py",
   "mimetype": "text/x-python",
   "name": "python",
   "nbconvert_exporter": "python",
   "pygments_lexer": "ipython3",
   "version": "3.9.7"
  }
 },
 "nbformat": 4,
 "nbformat_minor": 5
}
