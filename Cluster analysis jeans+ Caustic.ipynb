{
 "cells": [
  {
   "cell_type": "code",
   "execution_count": 1,
   "id": "37af631c",
   "metadata": {},
   "outputs": [],
   "source": [
    "import numpy as np\n",
    "import astropy.io.fits\n",
    "from astropy.table import Table\n",
    "import matplotlib.pyplot as plt\n",
    "import scipy as sym \n",
    "import scipy.integrate as integrate\n",
    "from scipy import log,exp,sqrt,stats\n",
    "from astropy import units as u\n",
    "import astropy.constants as const\n",
    "from scipy.optimize import curve_fit\n",
    "from scipy.integrate import quad\n",
    "from astropy.stats import biweight_location, biweight_scale, bootstrap\n",
    "from astropy.cosmology import LambdaCDM\n",
    "from scipy.interpolate import interp1d\n",
    "from astropy.coordinates import SkyCoord\n",
    "import scipy.stats as stats\n",
    "from astropy.stats import sigma_clip\n",
    "cosmos = LambdaCDM(H0=67.77* u.km / u.Mpc / u.s, Om0=0.307115, Ode0=0.692885)  # define cosmology\n",
    "c=const.c.to(\"km/s\").value\n",
    "%matplotlib inline\n"
   ]
  },
  {
   "cell_type": "code",
   "execution_count": 2,
   "id": "e1196902",
   "metadata": {},
   "outputs": [],
   "source": [
    "path_2_data = 'massive_cluster0.fit'\n",
    "path_2_data = 'massive_cluster4.fit'\n",
    "path_2_data = 'massive_cluster3.fit'\n",
    "path_2_data = 'massive_cluster2.fit'\n",
    "path_2_data = 'massive_cluster1.fit'\n",
    "#print('opening', path_2_data)\n",
    "my_file=astropy.io.fits.open(path_2_data)\n",
    "#print(my_file[1].data.columns)\n",
    "data = my_file[1].data"
   ]
  },
  {
   "cell_type": "code",
   "execution_count": 3,
   "id": "5a8a0cfe",
   "metadata": {},
   "outputs": [
    {
     "data": {
      "text/plain": [
       "224"
      ]
     },
     "execution_count": 3,
     "metadata": {},
     "output_type": "execute_result"
    }
   ],
   "source": [
    "ra=data.field('ra')\n",
    "dec=data.field('dec')\n",
    "# Redshift at the center of the cluster\n",
    "zspec=data.field('zspec')\n",
    "z0=data.field('zspec')\n",
    "mask0=np.where(z0>0)\n",
    "z_gal=(zspec[mask0])\n",
    "len(z_gal)"
   ]
  },
  {
   "cell_type": "code",
   "execution_count": 4,
   "id": "4d80e804",
   "metadata": {},
   "outputs": [
    {
     "data": {
      "text/plain": [
       "0.3185"
      ]
     },
     "execution_count": 4,
     "metadata": {},
     "output_type": "execute_result"
    }
   ],
   "source": [
    "data.field('zspec')[mask0].min()\n"
   ]
  },
  {
   "cell_type": "code",
   "execution_count": 5,
   "id": "0bdaf22e",
   "metadata": {},
   "outputs": [
    {
     "data": {
      "text/plain": [
       "(array([  1.,   3.,   2.,  10., 200.,   2.,   3.,   0.,   2.,   1.]),\n",
       " array([0.3185    , 0.37      , 0.42150003, 0.47300002, 0.5245    ,\n",
       "        0.57600003, 0.6275    , 0.679     , 0.73050004, 0.782     ,\n",
       "        0.8335    ], dtype=float32),\n",
       " <BarContainer object of 10 artists>)"
      ]
     },
     "execution_count": 5,
     "metadata": {},
     "output_type": "execute_result"
    },
    {
     "data": {
      "image/png": "[encoded data removed]",
      "text/plain": [
       "<Figure size 432x288 with 1 Axes>"
      ]
     },
     "metadata": {
      "needs_background": "light"
     },
     "output_type": "display_data"
    }
   ],
   "source": [
    "plt.hist(z_gal)"
   ]
  },
  {
   "cell_type": "code",
   "execution_count": 6,
   "id": "c511e7ee",
   "metadata": {},
   "outputs": [],
   "source": [
    "from astropy.stats import jackknife_stats"
   ]
  },
  {
   "cell_type": "code",
   "execution_count": 7,
   "id": "919506a7",
   "metadata": {},
   "outputs": [],
   "source": [
    "test_statistic = np.mean"
   ]
  },
  {
   "cell_type": "code",
   "execution_count": 8,
   "id": "fe1b6259",
   "metadata": {},
   "outputs": [
    {
     "data": {
      "text/plain": [
       "(0.5440306570380926,\n",
       " -2.076849341392517e-06,\n",
       " 0.0027833412620890258,\n",
       " array([0.53857541, 0.54948591]))"
      ]
     },
     "execution_count": 8,
     "metadata": {},
     "output_type": "execute_result"
    }
   ],
   "source": [
    "jackknife_stats(z_gal, test_statistic, 0.95)"
   ]
  },
  {
   "cell_type": "code",
   "execution_count": 9,
   "id": "b3b28cc0",
   "metadata": {},
   "outputs": [
    {
     "data": {
      "text/plain": [
       "(array([0.54403066, 0.0017353 ]),\n",
       " array([-2.07684932e-06, -7.72312744e-06]),\n",
       " array([0.00278334, 0.00054845]),\n",
       " array([[0.53857541, 0.00066037],\n",
       "        [0.54948591, 0.00281023]]))"
      ]
     },
     "execution_count": 9,
     "metadata": {},
     "output_type": "execute_result"
    }
   ],
   "source": [
    "test_statistic = lambda x: (np.mean(x), np.var(x))\n",
    "estimate, bias, stderr, conf_interval = jackknife_stats(\n",
    "    z_gal, test_statistic, 0.95)\n",
    "estimate, bias, stderr, conf_interval"
   ]
  },
  {
   "cell_type": "code",
   "execution_count": 10,
   "id": "cbb09251",
   "metadata": {},
   "outputs": [],
   "source": [
    "clipped_redshift=sigma_clip(z_gal, sigma=2.7, maxiters=10000)\n",
    "\n",
    "import numpy.ma as ma\n",
    "zz=[]\n",
    "zk=[]\n",
    "for x in range(len(clipped_redshift)):\n",
    "    if ma.is_masked(clipped_redshift[x])==False:\n",
    "        zz.append(clipped_redshift[x])\n",
    "        \n",
    "    if not ma.is_masked(clipped_redshift[x])==False:\n",
    "        zk.append(clipped_redshift[x])\n",
    "        \n",
    "    else:\n",
    "        continue"
   ]
  },
  {
   "cell_type": "code",
   "execution_count": 11,
   "id": "9562fc92",
   "metadata": {},
   "outputs": [
    {
     "data": {
      "text/plain": [
       "(0.5648, 0.525)"
      ]
     },
     "execution_count": 11,
     "metadata": {},
     "output_type": "execute_result"
    }
   ],
   "source": [
    "z_halo=np.array(zz)\n",
    "mask1=np.where(z_halo)\n",
    "z_halo.max(),z_halo.min()"
   ]
  },
  {
   "cell_type": "code",
   "execution_count": 12,
   "id": "b08a54e8",
   "metadata": {},
   "outputs": [
    {
     "data": {
      "text/plain": [
       "[<matplotlib.lines.Line2D at 0x7f1cd3a56940>]"
      ]
     },
     "execution_count": 12,
     "metadata": {},
     "output_type": "execute_result"
    },
    {
     "data": {
      "image/png": "[encoded data removed]",
      "text/plain": [
       "<Figure size 432x288 with 1 Axes>"
      ]
     },
     "metadata": {
      "needs_background": "light"
     },
     "output_type": "display_data"
    }
   ],
   "source": [
    "ra_gal=ra[mask0][mask1]\n",
    "dec_gal=dec[mask0][mask1]\n",
    "ra_cl=np.mean(ra_gal)\n",
    "dec_cl=np.mean(dec_gal)\n",
    "plt.plot(dec_gal,ra_gal,linestyle='none',marker='+')\n",
    "plt.plot(dec_cl,ra_cl,linestyle='none',marker='^')"
   ]
  },
  {
   "cell_type": "code",
   "execution_count": 13,
   "id": "bc2a12be",
   "metadata": {},
   "outputs": [
    {
     "data": {
      "text/plain": [
       "(198, 198, 198)"
      ]
     },
     "execution_count": 13,
     "metadata": {},
     "output_type": "execute_result"
    }
   ],
   "source": [
    "len(z_halo),len(ra_gal),len(dec_gal)"
   ]
  },
  {
   "cell_type": "code",
   "execution_count": 14,
   "id": "5b0247c5",
   "metadata": {},
   "outputs": [
    {
     "data": {
      "text/plain": [
       "(array([1., 0., 0., 0., 0., 1., 0., 0., 0., 0., 0., 1., 0., 1., 0., 0., 2.,\n",
       "        1., 1., 1., 1., 2., 0., 3., 4., 1., 3., 1., 2., 2., 2., 5., 3., 3.,\n",
       "        5., 4., 6., 2., 4., 5., 4., 2., 4., 7., 8., 3., 1., 6., 5., 3., 6.,\n",
       "        4., 4., 3., 2., 3., 3., 1., 2., 2., 1., 2., 7., 5., 2., 3., 3., 3.,\n",
       "        0., 5., 2., 1., 0., 0., 1., 1., 0., 1., 2., 3., 2., 0., 0., 1., 0.,\n",
       "        2., 1., 1., 0., 0., 0., 2., 1., 1., 2., 0., 1., 0., 0., 2.]),\n",
       " array([0.525     , 0.52539796, 0.525796  , 0.526194  , 0.52659196,\n",
       "        0.52699   , 0.527388  , 0.52778596, 0.528184  , 0.528582  ,\n",
       "        0.52897996, 0.529378  , 0.529776  , 0.53017396, 0.530572  ,\n",
       "        0.53097   , 0.53136796, 0.531766  , 0.532164  , 0.53256196,\n",
       "        0.53296   , 0.533358  , 0.53375596, 0.534154  , 0.534552  ,\n",
       "        0.53495   , 0.535348  , 0.535746  , 0.536144  , 0.536542  ,\n",
       "        0.53694   , 0.537338  , 0.537736  , 0.538134  , 0.538532  ,\n",
       "        0.53893   , 0.539328  , 0.539726  , 0.540124  , 0.540522  ,\n",
       "        0.54092   , 0.541318  , 0.541716  , 0.542114  , 0.542512  ,\n",
       "        0.54291   , 0.543308  , 0.543706  , 0.544104  , 0.544502  ,\n",
       "        0.5449    , 0.545298  , 0.545696  , 0.546094  , 0.546492  ,\n",
       "        0.54689   , 0.547288  , 0.547686  , 0.548084  , 0.548482  ,\n",
       "        0.54888   , 0.549278  , 0.549676  , 0.550074  , 0.550472  ,\n",
       "        0.55087   , 0.551268  , 0.551666  , 0.552064  , 0.552462  ,\n",
       "        0.55286   , 0.553258  , 0.553656  , 0.554054  , 0.554452  ,\n",
       "        0.55485   , 0.555248  , 0.555646  , 0.55604404, 0.556442  ,\n",
       "        0.55684   , 0.55723804, 0.557636  , 0.558034  , 0.55843204,\n",
       "        0.55883   , 0.559228  , 0.55962604, 0.560024  , 0.560422  ,\n",
       "        0.56082004, 0.561218  , 0.561616  , 0.56201404, 0.562412  ,\n",
       "        0.56281   , 0.56320804, 0.563606  , 0.564004  , 0.56440204,\n",
       "        0.5648    ], dtype=float32),\n",
       " <BarContainer object of 100 artists>)"
      ]
     },
     "execution_count": 14,
     "metadata": {},
     "output_type": "execute_result"
    },
    {
     "data": {
      "image/png": "[encoded data removed]",
      "text/plain": [
       "<Figure size 432x288 with 1 Axes>"
      ]
     },
     "metadata": {
      "needs_background": "light"
     },
     "output_type": "display_data"
    }
   ],
   "source": [
    "plt.hist(z_halo,bins=100)\n"
   ]
  },
  {
   "cell_type": "code",
   "execution_count": 15,
   "id": "0784c9ab",
   "metadata": {},
   "outputs": [
    {
     "data": {
      "text/plain": [
       "0.5447409"
      ]
     },
     "execution_count": 15,
     "metadata": {},
     "output_type": "execute_result"
    }
   ],
   "source": [
    "z_cl=np.mean(z_halo)\n",
    "z_cl"
   ]
  },
  {
   "cell_type": "code",
   "execution_count": 16,
   "id": "ccc3e3b0",
   "metadata": {},
   "outputs": [
    {
     "name": "stdout",
     "output_type": "stream",
     "text": [
      "the cluster at redshift  0.5447409  is at dC= 2094.481800857466 Mpc\n",
      "Angular diameter distance at the clusters redshift : 1355.879021598122 Mpc per radian\n",
      "Angular diameter dist*u.degreeance at the clusters redshift : 23.66455318560654 Mpc per degree\n",
      "Angular diameter distance at the clusters redshift : 394.409219760109 kpc per arc minute    \n",
      "min, max projected distance :  0.060335805032915 Mpc 1.734803648802138 Mpc\n"
     ]
    }
   ],
   "source": [
    "# From astropy inbuilt module separation\n",
    "coordinates_SubHaloes = SkyCoord( ra_gal , dec_gal , unit='deg', frame='icrs')\n",
    "coordinate_cluster    = SkyCoord( ra_cl , dec_cl, unit='deg', frame='icrs') \n",
    "Angular_separation_Astropy = coordinates_SubHaloes.separation( coordinate_cluster )\n",
    "Angular_separation_Astropy_radian = (Angular_separation_Astropy).to(u.radian)\n",
    "Angular_separation_Astropy_radian.value\n",
    "\n",
    "# Comoving distance\n",
    "D = cosmos.comoving_distance(z_cl) \n",
    "print('the cluster at redshift ',z_cl,' is at dC=',D)\n",
    "# Angular diameter distance\n",
    "print('Angular diameter distance at the clusters redshift :' , cosmos.angular_diameter_distance(z_cl), 'per radian')\n",
    "print('Angular diameter dist*u.degreeance at the clusters redshift :' , cosmos.angular_diameter_distance(z_cl)/(180/np.pi), 'per degree')\n",
    "print('Angular diameter distance at the clusters redshift :' , (cosmos.angular_diameter_distance(z_cl)/(180/np.pi)).to(u.kpc)/60, 'per arc minute    ')\n",
    "\n",
    "#\n",
    "# The angular separation between sub haloes and the cluster converted in Mpc\n",
    "r_proj =  Angular_separation_Astropy_radian * cosmos.angular_diameter_distance(z_cl)/u.radian  # where D is comoving distance\n",
    "print('min, max projected distance : ',r_proj.min(), r_proj.max()) #'compared to the 3D virial radius', r_cl/1000)"
   ]
  },
  {
   "cell_type": "code",
   "execution_count": 17,
   "id": "92c2f6dd",
   "metadata": {},
   "outputs": [],
   "source": [
    "N_subhaloes=len(r_proj)\n",
    "def get_bins(r_proj, N_per_bin=10):\n",
    "    dR=0.0001\n",
    "    \n",
    "    #choosing the bins\n",
    "    r_bins_fine = np.arange(0., 2.5, dR)\n",
    "    \n",
    "    # Projected distance\n",
    "    N_2D_fine, bins_2D_fine = np.histogram(np.array(r_proj), bins = r_bins_fine)\n",
    "    R_2D_fine = (bins_2D_fine[1:] + bins_2D_fine[:-1])/2.\n",
    "\n",
    "    #rint( np.cumsum( N_2D_fine) )\n",
    "    itp_bins = interp1d(np.cumsum( N_2D_fine), R_2D_fine )\n",
    "    \n",
    "    #rint(itp_bins(np.arange(N_per_bin, N_subhaloes, N_per_bin)))\n",
    "    bins_2D = np.hstack((0., itp_bins(np.arange(N_per_bin, N_subhaloes, N_per_bin)), 2.5 ))\n",
    "    #rint(bins_2D)\n",
    "    \n",
    "    return bins_2D\n",
    "    # Three D distance\n",
    "    #N_3D, bins_3D = np.histogram(np.array(distances[mask]), bins = r_bins)\n"
   ]
  },
  {
   "cell_type": "code",
   "execution_count": 18,
   "id": "4dc3a6cb",
   "metadata": {},
   "outputs": [
    {
     "data": {
      "image/png": "[encoded data removed]",
      "text/plain": [
       "<Figure size 432x288 with 1 Axes>"
      ]
     },
     "metadata": {
      "needs_background": "light"
     },
     "output_type": "display_data"
    }
   ],
   "source": [
    "bins_2D = get_bins(r_proj, N_per_bin=10)\n",
    "# Projected distance\n",
    "N_2D, bins_2D = np.histogram(np.array(r_proj), bins = bins_2D)\n",
    "\n",
    "#Getting the number density profile in 2D \n",
    "R_2D = (bins_2D[1:] + bins_2D[:-1])/2.\n",
    "n_2D = N_2D /(np.pi*( ( bins_2D[1:]**2 - bins_2D[:-1]**2) ) )\n",
    "dR_2D = [ bins_2D[1:] - R_2D, R_2D - bins_2D[:-1] ]\n",
    "# central point of each separation \n",
    "\n",
    "from colossus.halo import profile_nfw\n",
    "\n",
    "Rs=0.5#Rs = Rvir / c\n",
    "rhos = 200\n",
    "\n",
    "p_nfw = profile_nfw.NFWProfile(rhos , Rs)\n",
    "rho_nfw = p_nfw.density(r_proj.value)\n",
    "\n",
    "#plt.plot(R_2D, n_2D, color='black', linestyle='dashed', linewidth = 2, marker='o', markerfacecolor='green', markersize=12)\n",
    "plt.errorbar(R_2D, n_2D, yerr=n_2D*N_2D**-0.5, xerr=dR_2D, ls='')\n",
    "plt.plot(r_proj, 1*rho_nfw , label = 'NFW');\n",
    "plt.yscale('log')\n",
    "plt.xscale('log')\n",
    "plt.title('Number density of sub haloes around the host cluster')\n",
    "plt.xlabel('Cluster-centric Separation  [Mpc]',fontsize=18)\n",
    "plt.ylabel(r'number density [Mpc$^{-2}$]',fontsize=18) \n",
    "#plt.axvline(x=r_cl/1000.,linestyle='dashed',label = 'Rvir')\n",
    "plt.legend(loc=1, numpoints=1)\n",
    "plt.show()"
   ]
  },
  {
   "cell_type": "code",
   "execution_count": 19,
   "id": "b1b4d710",
   "metadata": {},
   "outputs": [
    {
     "data": {
      "text/plain": [
       "array([ 81.35710742, 126.41106433,  70.87906395,  88.37866045,\n",
       "        37.06087041,  38.21075575,  28.37578302,  39.57591628,\n",
       "        43.97959098,  40.27081773,  32.08404619,  27.92876974,\n",
       "        25.89780981,  16.00800135,  17.97230252,  20.02764504,\n",
       "        14.43980016,  12.50753498,   7.88188272,   0.73739412])"
      ]
     },
     "execution_count": 19,
     "metadata": {},
     "output_type": "execute_result"
    }
   ],
   "source": [
    "n_2D"
   ]
  },
  {
   "cell_type": "code",
   "execution_count": 20,
   "id": "269babec",
   "metadata": {},
   "outputs": [
    {
     "name": "stderr",
     "output_type": "stream",
     "text": [
      "/tmp/ipykernel_27984/783038065.py:26: RuntimeWarning: divide by zero encountered in power\n",
      "  plt.errorbar(R_proj, n, yerr=n*N_2D**-0.5, xerr=dR/2, ls='')\n",
      "/tmp/ipykernel_27984/783038065.py:26: RuntimeWarning: invalid value encountered in multiply\n",
      "  plt.errorbar(R_proj, n, yerr=n*N_2D**-0.5, xerr=dR/2, ls='')\n"
     ]
    },
    {
     "data": {
      "text/plain": [
       "<matplotlib.legend.Legend at 0x7f1cd354c040>"
      ]
     },
     "execution_count": 20,
     "metadata": {},
     "output_type": "execute_result"
    },
    {
     "data": {
      "image/png": "[encoded data removed]",
      "text/plain": [
       "<Figure size 432x288 with 1 Axes>"
      ]
     },
     "metadata": {
      "needs_background": "light"
     },
     "output_type": "display_data"
    }
   ],
   "source": [
    "# create histogram of distances in Mpc\n",
    "\n",
    "dR = 0.1\n",
    "r_bins = np.arange(0., 2.5, dR)\n",
    "# Projected distance\n",
    "N_2D, bins_2D = np.histogram(np.array(r_proj), bins = r_bins)\n",
    "# Three D distance\n",
    "#N_3D, bins_3D = np.histogram(np.array(distances), bins = r_bins)\n",
    "\n",
    "#Getting the number density profile in 2D \n",
    "n = N_2D /(np.pi*( ( bins_2D[1:]**2 - bins_2D[:-1]**2) ) )\n",
    "\n",
    "# central point of each separation \n",
    "R_proj = (bins_2D[1:] + bins_2D[:-1])/2.\n",
    "\n",
    "#NFW\n",
    "\n",
    "from colossus.halo import profile_nfw\n",
    "\n",
    "Rs=0.5#Rs = Rvir / c\n",
    "rhos =200\n",
    "\n",
    "p_nfw = profile_nfw.NFWProfile(rhos , Rs)\n",
    "rho_nfw = p_nfw.density(R_proj)\n",
    "#plt.plot(R_2D, n_2D, color='black', linestyle='dashed', linewidth = 2, marker='o', markerfacecolor='green', markersize=12)\n",
    "plt.errorbar(R_proj, n, yerr=n*N_2D**-0.5, xerr=dR/2, ls='')\n",
    "plt.plot(R_proj, 1*rho_nfw , label = 'NFW');\n",
    "plt.yscale('log')\n",
    "plt.xscale('log')\n",
    "plt.title('Number density of sub haloes around the host cluster')\n",
    "plt.xlabel('Cluster-centric Separation  [Mpc]',fontsize=18)\n",
    "plt.ylabel(r'number density [Mpc$^{-2}$]',fontsize=18) \n",
    "plt.axvline(x=1.70,linestyle='dashed',label = 'R200')\n",
    "plt.legend(loc=1, numpoints=1)"
   ]
  },
  {
   "cell_type": "code",
   "execution_count": 21,
   "id": "f1d1184d",
   "metadata": {},
   "outputs": [
    {
     "data": {
      "text/plain": [
       "24"
      ]
     },
     "execution_count": 21,
     "metadata": {},
     "output_type": "execute_result"
    }
   ],
   "source": [
    "len(n)"
   ]
  },
  {
   "cell_type": "code",
   "execution_count": 22,
   "id": "5377fa52",
   "metadata": {},
   "outputs": [
    {
     "data": {
      "text/plain": [
       "(3892.931, -3831.1829)"
      ]
     },
     "execution_count": 22,
     "metadata": {},
     "output_type": "execute_result"
    }
   ],
   "source": [
    "# Peculiar velocities of a members from there spectrosocpic redshift\n",
    "los_v= c*(z_halo - z_cl)/(1 + z_cl)\n",
    "los_v.max(), los_v.min()"
   ]
  },
  {
   "cell_type": "code",
   "execution_count": 23,
   "id": "e1a23eb7",
   "metadata": {},
   "outputs": [
    {
     "data": {
      "text/plain": [
       "[<matplotlib.lines.Line2D at 0x7f1cd332b910>]"
      ]
     },
     "execution_count": 23,
     "metadata": {},
     "output_type": "execute_result"
    },
    {
     "data": {
      "image/png": "[encoded data removed]",
      "text/plain": [
       "<Figure size 720x576 with 1 Axes>"
      ]
     },
     "metadata": {
      "needs_background": "light"
     },
     "output_type": "display_data"
    }
   ],
   "source": [
    "# Peculiar velocities of a members from there spectrosocpic\n",
    "# redshift and mean redshift of a cluster\n",
    "plt.figure(figsize=(10,8))\n",
    "\n",
    "plt.title('Rest frame Velocities wrt the clustercentric distance',fontsize=18)\n",
    "plt.plot(r_proj,los_v, color='black', linestyle='none', linewidth = 2, marker='.', markerfacecolor='green', markersize=12)\n"
   ]
  },
  {
   "cell_type": "markdown",
   "id": "c68d1eff",
   "metadata": {},
   "source": [
    "# Getting a profile"
   ]
  },
  {
   "cell_type": "code",
   "execution_count": 24,
   "id": "2156a62f",
   "metadata": {},
   "outputs": [],
   "source": [
    "# creating bins\n",
    "r_bins = np.linspace(r_proj.min().value, r_proj.max().value,11)\n",
    "rbin_midpoints = (r_bins[1:] + r_bins[:-1])/2"
   ]
  },
  {
   "cell_type": "code",
   "execution_count": 25,
   "id": "d3a9c6de",
   "metadata": {},
   "outputs": [],
   "source": [
    "si=np.searchsorted(r_proj.value,r_bins)\n",
    "#np.split(si,los_v)#[1:]"
   ]
  },
  {
   "cell_type": "code",
   "execution_count": 26,
   "id": "d1077977",
   "metadata": {},
   "outputs": [
    {
     "data": {
      "text/plain": [
       "[array([0.16319271, 0.12366722, 0.160579  , 0.18193746, 0.21635592,\n",
       "        0.23230501, 0.06033581, 0.18766274, 0.06490673, 0.19694209,\n",
       "        0.22446678]),\n",
       " array([0.27416109, 0.32585536, 0.1063027 , 0.10775224, 0.21325011,\n",
       "        0.31932467, 0.16409246, 0.38182655, 0.35177257, 0.22894847,\n",
       "        0.19047405, 0.37056685, 0.43426804, 0.24002731, 0.22581404,\n",
       "        0.31952359, 0.24575475, 0.2772208 , 0.38091206, 0.26615173,\n",
       "        0.28303526, 0.50486416, 0.2891997 ]),\n",
       " array([0.45362414, 0.48646832, 0.48843238, 0.33798067, 0.51147608,\n",
       "        0.33133751, 0.3804056 , 0.32033159, 0.33720823, 0.35394047,\n",
       "        0.34221099, 0.36920031, 0.56121872, 0.46527342, 0.38506378,\n",
       "        0.40895505, 0.50251356, 0.39409056]),\n",
       " array([0.63151234, 0.63483039, 0.6449552 , 0.66324314, 0.46886316,\n",
       "        0.60143677, 0.64755878, 0.67850927, 0.52722726, 0.48073665,\n",
       "        0.47651966, 0.70285085, 0.48130524, 0.70616629, 0.63841334,\n",
       "        0.63533054, 0.55772863]),\n",
       " array([0.74531219, 0.7591801 , 0.76358121, 0.54775641, 0.59657769,\n",
       "        0.76217196, 0.59196918, 0.73656886, 0.5611058 , 0.67731479,\n",
       "        0.7735932 , 0.57954701, 0.74667632, 0.75894142, 0.61917158,\n",
       "        0.83254335, 0.83804425, 0.84031536, 0.85045691, 0.77780715,\n",
       "        0.85879184, 0.86275054, 0.67482704, 0.81547534, 0.75357814,\n",
       "        0.65333129, 0.66222202, 0.68263333, 0.89797271, 0.90021714,\n",
       "        0.71229619, 0.92436215, 0.70459664, 0.7358554 , 0.92649852,\n",
       "        0.87690539, 0.78481097, 0.72564701, 0.95516524, 0.89833626,\n",
       "        0.7901296 , 0.96357904, 0.87125442, 0.74499023, 0.95372958,\n",
       "        0.96227192, 0.97422158, 0.99671732, 0.87455182, 0.78569444,\n",
       "        0.92234805, 0.78939899, 0.83401527, 1.02835192, 1.00803347,\n",
       "        0.80933867, 0.82224734, 0.83264457]),\n",
       " array([1.02508807, 0.91404418]),\n",
       " array([1.11018055, 1.10823974, 1.09953564, 1.11282034, 0.95078126,\n",
       "        0.9764552 , 1.0931083 , 1.14213126, 1.17030539, 0.95537594,\n",
       "        0.98676039, 1.02613059, 1.19719586, 1.22500302, 1.00797846,\n",
       "        1.21851139, 1.03089496]),\n",
       " array([1.25990502, 1.16266849, 1.19741227, 1.05673875, 1.08836307,\n",
       "        1.09191857, 1.0852858 , 1.2330495 , 1.11931574, 1.32628174,\n",
       "        1.3168903 , 1.32174968, 1.20744969, 1.14370268, 1.16161524,\n",
       "        1.32037599, 1.17321934, 1.23742535, 1.34426944, 1.21140697,\n",
       "        1.40783747, 1.40155414, 1.23554055, 1.24961315, 1.29764271,\n",
       "        1.25332543, 1.26738744, 1.27995683, 1.33176135, 1.33498523]),\n",
       " array([1.41472209, 1.37060152, 1.41287891, 1.44135698, 1.40123042,\n",
       "        1.605605  , 1.42580334, 1.45545086, 1.44467856, 1.47393517,\n",
       "        1.53788912, 1.47155052, 1.55311911, 1.70030985, 1.49526463,\n",
       "        1.49970211, 1.72018003, 1.5232238 ]),\n",
       " array([1.6822121 , 1.73480365, 1.59562708, 1.71526211]),\n",
       " array([], dtype=float64)]"
      ]
     },
     "execution_count": 26,
     "metadata": {},
     "output_type": "execute_result"
    }
   ],
   "source": [
    "si=np.searchsorted(r_proj.value,r_bins)\n",
    "np.split(r_proj.value,si)[1:]"
   ]
  },
  {
   "cell_type": "code",
   "execution_count": 27,
   "id": "306e86b6",
   "metadata": {},
   "outputs": [
    {
     "data": {
      "text/plain": [
       "[11, 23, 18, 17, 58, 2, 17, 30, 18, 4, 0]"
      ]
     },
     "execution_count": 27,
     "metadata": {},
     "output_type": "execute_result"
    }
   ],
   "source": [
    "[(len(i)) for i in np.split(los_v,si)[1:]]"
   ]
  },
  {
   "cell_type": "code",
   "execution_count": 28,
   "id": "05a4489d",
   "metadata": {},
   "outputs": [
    {
     "data": {
      "text/plain": [
       "198"
      ]
     },
     "execution_count": 28,
     "metadata": {},
     "output_type": "execute_result"
    }
   ],
   "source": [
    "len(los_v)"
   ]
  },
  {
   "cell_type": "code",
   "execution_count": 29,
   "id": "6d8f67fb",
   "metadata": {},
   "outputs": [
    {
     "name": "stderr",
     "output_type": "stream",
     "text": [
      "/tmp/ipykernel_27984/3199086987.py:3: RuntimeWarning: invalid value encountered in true_divide\n",
      "  dd=[np.sum(x)/len(x) for x in np.split(np.sqrt(los_v**2),si)[1:]]\n"
     ]
    },
    {
     "data": {
      "text/plain": [
       "[1978.0209517045455,\n",
       " 1138.9317255434783,\n",
       " 1443.8844401041667,\n",
       " 1212.8504136029412,\n",
       " 1014.0767780172414,\n",
       " 999.4739379882812,\n",
       " 1263.3949908088234,\n",
       " 1268.532421875,\n",
       " 937.4302300347222,\n",
       " 1591.3963623046875,\n",
       " nan]"
      ]
     },
     "execution_count": 29,
     "metadata": {},
     "output_type": "execute_result"
    }
   ],
   "source": [
    "#Velocity profile of the cluster by biniing the system.\n",
    "\n",
    "dd=[np.sum(x)/len(x) for x in np.split(np.sqrt(los_v**2),si)[1:]]\n",
    "dd"
   ]
  },
  {
   "cell_type": "code",
   "execution_count": 30,
   "id": "8aa0844c",
   "metadata": {},
   "outputs": [
    {
     "data": {
      "text/plain": [
       "[<matplotlib.lines.Line2D at 0x7f1cd3309220>]"
      ]
     },
     "execution_count": 30,
     "metadata": {},
     "output_type": "execute_result"
    },
    {
     "data": {
      "image/png": "[encoded data removed]",
      "text/plain": [
       "<Figure size 432x288 with 1 Axes>"
      ]
     },
     "metadata": {
      "needs_background": "light"
     },
     "output_type": "display_data"
    }
   ],
   "source": [
    "plt.plot(rbin_midpoints,dd[:-1],color='black', linestyle='dashed', linewidth = 2, marker='.', markerfacecolor='green', markersize=12)"
   ]
  },
  {
   "cell_type": "code",
   "execution_count": 31,
   "id": "1fa6dcdc",
   "metadata": {},
   "outputs": [
    {
     "data": {
      "text/plain": [
       "array([ 63.66197724, 106.10329539,  82.76057041,  77.3038295 ,\n",
       "        35.36776513,  31.83098862,  36.72806379,  44.56338407,\n",
       "        29.95857752,  25.12972786,  18.18913635,  16.60747232,\n",
       "        16.55211408,   9.43140404,  14.26906386,   4.10722434,\n",
       "         1.92915083,   3.63782727,   0.        ,   0.        ,\n",
       "         0.        ,   0.        ,   0.        ,   0.        ])"
      ]
     },
     "execution_count": 31,
     "metadata": {},
     "output_type": "execute_result"
    }
   ],
   "source": [
    "n"
   ]
  },
  {
   "cell_type": "markdown",
   "id": "0601d76f",
   "metadata": {},
   "source": [
    "# Caustic Analysis"
   ]
  },
  {
   "cell_type": "code",
   "execution_count": 32,
   "id": "e4f627a4",
   "metadata": {},
   "outputs": [
    {
     "data": {
      "text/plain": [
       "198"
      ]
     },
     "execution_count": 32,
     "metadata": {},
     "output_type": "execute_result"
    }
   ],
   "source": [
    "len(np.vstack((ra_gal,dec_gal,z_halo)).T)"
   ]
  },
  {
   "cell_type": "code",
   "execution_count": 33,
   "id": "b3cfc003",
   "metadata": {},
   "outputs": [
    {
     "data": {
      "text/plain": [
       "198"
      ]
     },
     "execution_count": 33,
     "metadata": {},
     "output_type": "execute_result"
    }
   ],
   "source": [
    "cluster_data=np.vstack((ra_gal,dec_gal,z_halo)).T\n",
    "len(cluster_data)"
   ]
  },
  {
   "cell_type": "code",
   "execution_count": 34,
   "id": "83398c84",
   "metadata": {},
   "outputs": [
    {
     "name": "stdout",
     "output_type": "stream",
     "text": [
      "DATA SET SIZE 190\n",
      "Pre_r200= 1.8806436810949194\n",
      "Calculating Density w/Mirrored Data\n",
      "Vdisp from galaxies= 1398.5471289306813\n",
      "Combined Vdisp= 1398.5471289306813\n",
      "Calculating initial surface\n",
      "complete\n"
     ]
    },
    {
     "data": {
      "text/plain": [
       "1"
      ]
     },
     "execution_count": 34,
     "metadata": {},
     "output_type": "execute_result"
    }
   ],
   "source": [
    "import causticpy\n",
    "caustic= causticpy.Caustic()\n",
    "caustic.run_caustic(cluster_data)\n"
   ]
  },
  {
   "cell_type": "code",
   "execution_count": 35,
   "id": "b8b78737",
   "metadata": {},
   "outputs": [
    {
     "data": {
      "text/plain": [
       "array([ 3254.7408583 ,    69.73311226,  3856.77928817,  3895.62719855,\n",
       "          11.47282235,  3293.57719302,  -474.04502771,   885.41189787,\n",
       "        2283.70515817,  2769.22300823,  -978.98683297,   419.30642733,\n",
       "        1720.50306301,   691.20707297,   419.30642733, -3833.83364347,\n",
       "        2652.69085277,  -687.6738078 , -1037.24712287,  -182.73200254,\n",
       "         341.6337579 ,  1293.24550285,   -85.62380227,  1293.24550285,\n",
       "        1293.24550285,  1565.13457283,   302.78584752,  -299.25258235,\n",
       "        -609.98956271,  -376.93682744,  -571.14165233,  3487.78201791,\n",
       "       -1988.85886782,  1060.19276758,  2167.1730027 ,  -105.04775745,\n",
       "        1040.78038805, -2047.11915772,  -765.35805289, -2435.54038317,\n",
       "        1565.13457283, -2280.17189299, -1134.34374749,  2341.96544807,\n",
       "        -823.61834279,  3254.7408583 ,  1021.35643286,   -27.36351236,\n",
       "        2225.44486826,   128.00497782,   283.36189234,  2361.38940326,\n",
       "       -3387.15212811,  3507.2059731 ,    69.73311226,  -474.04502771,\n",
       "       -1134.34374749, -1483.91706256,  -726.51014251,   205.67764725,\n",
       "         982.50852249,  1351.50579275,   438.73038252,  -124.47171264,\n",
       "        1118.45305748,  -376.93682744,  1409.76608265,  -881.87863269,\n",
       "       -2959.89456795, -1639.28555274,  -357.51287225, -2571.48491816,\n",
       "        -415.78473781, -1406.23281747,  -415.78473781,  -163.30804735,\n",
       "         555.25096232, -2785.11369824,  1526.29823811,  1545.71061764,\n",
       "        -532.30531762,  1157.30096785, -1114.93136796,   225.10160244,\n",
       "       -1988.85886782,  -474.04502771,   263.94951281, -1755.80613255,\n",
       "        1001.93247767, -1212.02799258,  -474.04502771,  2846.90725332,\n",
       "       -1270.28828248,  -143.88409217, -1755.80613255,    50.32073273,\n",
       "         166.84131253,   730.04340769,  2244.85724779, -1192.60403739,\n",
       "         -85.62380227,  -357.51287225,   496.99067242,   205.67764725,\n",
       "        -512.88136243, -2552.06096297,    30.89677754,   128.00497782,\n",
       "        1254.39759247, -1037.24712287,  1234.98521294,  -804.1943876 ,\n",
       "         166.84131253,   516.41462761,   885.41189787, -1406.23281747,\n",
       "       -1017.82316768, -1037.24712287,  1021.35643286,   244.52555762,\n",
       "          89.15706744,  1972.96817781,  -804.1943876 ,   768.8797424 ,\n",
       "        2341.96544807, -2299.59584818, -1600.44921803, -1425.65677266,\n",
       "         574.67491751,  3410.10934848, -1270.28828248,    -7.93955718,\n",
       "        -940.13892259,  -493.45740724, -1114.93136796,  3623.7265529 ,\n",
       "       -1678.13346312, -1833.49037764,  -707.08618732,  -454.62107253,\n",
       "         827.15160797, -2163.65131318,  -396.36078262,  -862.4546775 ,\n",
       "        -338.10049272,  1370.92974794,  1623.39486273,  1642.81881792,\n",
       "        -571.14165233, -1464.50468303, -1950.0225331 ,  1001.93247767,\n",
       "        -745.9340977 , -1425.65677266,  -474.04502771,  -202.15595773,\n",
       "        2380.80178278,   -85.62380227, -1522.76497294,  1914.7078879 ,\n",
       "       -1950.0225331 ,  -901.30258788,  -415.78473781, -1153.76770268,\n",
       "        -862.4546775 , -1289.71223767,   963.09614296, -1309.13619285,\n",
       "        1545.71061764,  -804.1943876 ,  -998.3992125 ,  -609.98956271,\n",
       "        2963.42783313, -1969.43491263,  1196.13730257, -2144.227358  ,\n",
       "        1060.19276758, -1056.6595024 ,  1001.93247767,  -143.88409217,\n",
       "       -1930.59857791,  -668.24985261,  -318.67653753, -1056.6595024 ,\n",
       "       -1347.97252757,  1060.19276758, -2513.22462826,    69.73311226,\n",
       "        -143.88409217, -1153.76770268, -1522.76497294,  1040.78038805,\n",
       "         -85.62380227,   710.6194525 ,   361.04613743,  2808.05934295,\n",
       "       -1425.65677266, -1775.23008773])"
      ]
     },
     "execution_count": 35,
     "metadata": {},
     "output_type": "execute_result"
    }
   ],
   "source": [
    "caustic.r\n",
    "caustic.v"
   ]
  },
  {
   "cell_type": "code",
   "execution_count": 36,
   "id": "c2a414db",
   "metadata": {},
   "outputs": [
    {
     "data": {
      "text/plain": [
       "[<matplotlib.lines.Line2D at 0x7f1cd17a13a0>]"
      ]
     },
     "execution_count": 36,
     "metadata": {},
     "output_type": "execute_result"
    },
    {
     "data": {
      "image/png": "[encoded data removed]",
      "text/plain": [
       "<Figure size 432x288 with 1 Axes>"
      ]
     },
     "metadata": {
      "needs_background": "light"
     },
     "output_type": "display_data"
    }
   ],
   "source": [
    "plt.plot(caustic.r,caustic.v,color='black', linestyle='none', linewidth = 2, marker='.', markerfacecolor='green', markersize=12)\n",
    "plt.plot(r_proj,los_v,color='black', linestyle='none', linewidth = 2, marker='+', markerfacecolor='red', markersize=12)\n"
   ]
  },
  {
   "cell_type": "code",
   "execution_count": 37,
   "id": "b892745f",
   "metadata": {},
   "outputs": [
    {
     "name": "stdout",
     "output_type": "stream",
     "text": [
      "DATA SET SIZE 190\n",
      "Pre_r200= 1.8806436810949194\n",
      "Calculating Density w/Mirrored Data\n",
      "Vdisp from galaxies= 1398.5471289306813\n",
      "Combined Vdisp= 1398.5471289306813\n",
      "Calculating initial surface\n",
      "complete\n",
      "r200 estimate:  1.67760838587353\n",
      "M200 estimate:  1832546548856437.2\n"
     ]
    },
    {
     "data": {
      "text/plain": [
       "1"
      ]
     },
     "execution_count": 37,
     "metadata": {},
     "output_type": "execute_result"
    }
   ],
   "source": [
    "caustic.run_caustic(cluster_data,clus_ra=caustic.clus_ra,clus_dec=caustic.clus_dec,clus_z=caustic.clus_z)"
   ]
  },
  {
   "cell_type": "code",
   "execution_count": 38,
   "id": "d6796cb0",
   "metadata": {},
   "outputs": [
    {
     "data": {
      "text/plain": [
       "array(0.94784504)"
      ]
     },
     "execution_count": 38,
     "metadata": {},
     "output_type": "execute_result"
    }
   ],
   "source": [
    "caustic.r200_est"
   ]
  },
  {
   "cell_type": "code",
   "execution_count": 39,
   "id": "68d00926",
   "metadata": {
    "scrolled": true
   },
   "outputs": [
    {
     "name": "stdout",
     "output_type": "stream",
     "text": [
      "DATA SET SIZE 190\n",
      "Pre_r200= 1.8806436810949194\n",
      "Calculating Density w/Mirrored Data\n",
      "Combined Vdisp= 1313.2323719893309\n",
      "Calculating initial surface\n",
      "complete\n",
      "r200 estimate:  1.6337178990975214\n",
      "M200 estimate:  1692577280906246.2\n"
     ]
    },
    {
     "data": {
      "text/plain": [
       "1"
      ]
     },
     "execution_count": 39,
     "metadata": {},
     "output_type": "execute_result"
    }
   ],
   "source": [
    "caustic.run_caustic(cluster_data, r200=caustic.r200, gal_r=caustic.r,\n",
    "                    gal_v=caustic.v, clus_z=caustic.clus_z,\n",
    "                    clus_ra=caustic.clus_ra, clus_dec=caustic.clus_dec,\n",
    "                    rlimit=3, vlimit=3500,\n",
    "                    clus_vdisp=1313.2323719893309, xmax=3)"
   ]
  },
  {
   "cell_type": "code",
   "execution_count": 40,
   "id": "98886ed0",
   "metadata": {},
   "outputs": [
    {
     "data": {
      "text/plain": [
       "1.618089942045506"
      ]
     },
     "execution_count": 40,
     "metadata": {},
     "output_type": "execute_result"
    }
   ],
   "source": [
    "caustic.M200_est/ 1e15"
   ]
  },
  {
   "cell_type": "code",
   "execution_count": 41,
   "id": "9adc3a01",
   "metadata": {},
   "outputs": [
    {
     "data": {
      "text/plain": [
       "1355.8790129980925"
      ]
     },
     "execution_count": 41,
     "metadata": {},
     "output_type": "execute_result"
    }
   ],
   "source": [
    "caustic.ang_d"
   ]
  },
  {
   "cell_type": "raw",
   "id": "813728ee",
   "metadata": {},
   "source": [
    "Caustic:\n",
    "    functions: zdistance(), findangle(), set_sample(), shiftgapper(), gaussian_kernel()\n",
    "    attributes: self.clus_ra, self.clus_dec, self.clus_z, self.r200, self.r, self.v, self.data, self.data_set,\n",
    "                self.ang_d, self.angle, self.x_scale, self.y_scale, self.x_range, self.y_range, self.ksize_x, \n",
    "                self.ksize_y, self.img, self.img_grad, self.img_inf\n",
    "CausticSurface:\n",
    "    functions: findvdisp(), findvesc(), findphi(), findAofr(), restrict_gradient2(), identifyslot(), NFWfit()\n",
    "    attributes: self.levels, self.r200, self.halo_scale_radius, self.halo_scale_radius_e, self.gal_vdisp,\n",
    "                self.vvar, self.vesc, self.skr, self.level_elem, self.level_final, self.Ar_finalD,\n",
    "                self.halo_scale_density, self.halo_scale_density_e, self.vesc_fit\n",
    "MassCalc:\n",
    "    functions:\n",
    "    attributes: self.crit, self.g_b, self.conc, self.f_beta, self.massprofile, self.avg_density, self.r200_est,\n",
    "                self.M200"
   ]
  },
  {
   "cell_type": "code",
   "execution_count": 42,
   "id": "58170c7a",
   "metadata": {},
   "outputs": [
    {
     "data": {
      "text/plain": [
       "array([1., 1., 1., 1., 1., 1., 1., 1., 1., 1., 1., 1., 1., 1., 1., 1., 1.,\n",
       "       1., 1., 1., 1., 0., 0., 0., 1., 1., 1., 1., 1., 1., 1., 1., 1., 1.,\n",
       "       1., 1., 1., 1., 1., 1., 1., 1., 1., 1., 1., 1., 1., 1., 0., 0., 0.,\n",
       "       0., 1., 1., 1., 1., 1., 1., 1., 1., 1., 1., 1., 1., 1., 1., 1., 1.,\n",
       "       1., 1., 1., 1., 1., 0., 0., 1., 1., 1., 1., 1., 1., 1., 1., 1., 1.,\n",
       "       1., 1., 1., 1., 1., 1., 1., 1., 1., 1., 1., 1., 1., 1., 1., 1., 1.,\n",
       "       1., 1., 1., 1., 1., 1., 1., 1., 1., 1., 1., 1., 1., 1., 1., 1., 1.,\n",
       "       1., 1., 1., 1., 1., 1., 1., 1., 1., 1., 1., 1., 1., 1., 1., 1., 1.,\n",
       "       1., 1., 1., 1., 1., 1., 1., 1., 1., 1., 1., 0., 1., 1., 1., 1., 1.,\n",
       "       1., 1., 1., 1., 1., 1., 1., 1., 1., 1., 1., 1., 1., 1., 1., 1., 1.,\n",
       "       1., 0., 0., 0., 1., 1., 1., 1., 1., 1., 1., 1., 1., 1., 1., 1., 1.,\n",
       "       1., 1., 1.])"
      ]
     },
     "execution_count": 42,
     "metadata": {},
     "output_type": "execute_result"
    }
   ],
   "source": [
    "caustic.angle\n",
    "z_cl=caustic.clus_z\n",
    "caustic.ang_d\n",
    "caustic.lum_d\n",
    "caustic.v\n",
    "caustic.data_set.T # velocities of the galaxies after clipping\n",
    "caustic.x_range\n",
    "caustic.y_range\n",
    "caustic.img_tot\n",
    "caustic.caustic_profile\n",
    "caustic.caustic_fit\n",
    "caustic.gal_vdisp\n",
    "caustic.memflag"
   ]
  },
  {
   "cell_type": "code",
   "execution_count": 43,
   "id": "6641ff04",
   "metadata": {},
   "outputs": [
    {
     "data": {
      "text/plain": [
       "<function matplotlib.pyplot.show(*, block=None)>"
      ]
     },
     "execution_count": 43,
     "metadata": {},
     "output_type": "execute_result"
    },
    {
     "data": {
      "image/png": "[encoded data removed]",
      "text/plain": [
       "<Figure size 432x288 with 1 Axes>"
      ]
     },
     "metadata": {
      "needs_background": "light"
     },
     "output_type": "display_data"
    }
   ],
   "source": [
    "plt.title('Caustics')\n",
    "caustic_profile=caustic.caustic_profile\n",
    "caustic_radii=caustic.x_range\n",
    "plt.plot(caustic_radii, caustic_profile, color='indigo')\n",
    "plt.plot(caustic_radii, -1*caustic_profile, color='indigo')  # assumes caustic\n",
    "plt.xlabel('projected angular separation [Mpc]')\n",
    "plt.ylabel('line of sight velocities [Km/sec]')\n",
    "plt.show"
   ]
  },
  {
   "cell_type": "code",
   "execution_count": 44,
   "id": "bb6fcecd",
   "metadata": {},
   "outputs": [
    {
     "data": {
      "text/plain": [
       "[<matplotlib.lines.Line2D at 0x7f1cd1691280>]"
      ]
     },
     "execution_count": 44,
     "metadata": {},
     "output_type": "execute_result"
    },
    {
     "data": {
      "image/png": "[encoded data removed]",
      "text/plain": [
       "<Figure size 432x288 with 1 Axes>"
      ]
     },
     "metadata": {
      "needs_background": "light"
     },
     "output_type": "display_data"
    }
   ],
   "source": [
    "plt.plot(caustic.r,caustic.v,color='red', linestyle='none',marker='+')\n",
    "plt.plot(caustic_radii, caustic_profile, color='indigo')\n",
    "plt.plot(caustic_radii, -1*caustic_profile, color='indigo') "
   ]
  },
  {
   "cell_type": "code",
   "execution_count": 45,
   "id": "ff807d60",
   "metadata": {},
   "outputs": [
    {
     "data": {
      "text/plain": [
       "37.7549378197718"
      ]
     },
     "execution_count": 45,
     "metadata": {},
     "output_type": "execute_result"
    }
   ],
   "source": [
    "caustic.clus_dec"
   ]
  },
  {
   "cell_type": "code",
   "execution_count": 46,
   "id": "0389b523",
   "metadata": {},
   "outputs": [],
   "source": [
    "projected_radius=np.array(caustic.r)\n",
    "peculiar_velocity=np.array(los_v)\n",
    "cluster_redshift=caustic.clus_z\n",
    "cluster_RA=caustic.clus_ra\n",
    "cluster_DEC=caustic.clus_dec\n",
    "\n",
    "caustic_profile=caustic.caustic_profile\n",
    "\n",
    "caustic_mask = np.array([x==1 for x in caustic.memflag])\n",
    "cut_radius = np.transpose(caustic.data_set)[0]\n",
    "cut_velocity = np.transpose(caustic.data_set)[1]\n",
    "cut_RA = np.transpose(caustic.data_set)[2]\n",
    "cut_DEC = np.transpose(caustic.data_set)[3]\n",
    "cut_z = np.transpose(caustic.data_set)[4]\n",
    "\n",
    "trimmed_radius = cut_radius[caustic_mask]\n",
    "trimmed_velocity = cut_velocity[caustic_mask]"
   ]
  },
  {
   "cell_type": "code",
   "execution_count": 47,
   "id": "0ac03daa",
   "metadata": {},
   "outputs": [
    {
     "data": {
      "text/plain": [
       "<function matplotlib.pyplot.show(*, block=None)>"
      ]
     },
     "execution_count": 47,
     "metadata": {},
     "output_type": "execute_result"
    },
    {
     "data": {
      "image/png": "[encoded data removed]",
      "text/plain": [
       "<Figure size 576x576 with 1 Axes>"
      ]
     },
     "metadata": {
      "needs_background": "light"
     },
     "output_type": "display_data"
    }
   ],
   "source": [
    "# plot the original and rejected data\n",
    "plt.figure(figsize=(8,8))\n",
    "plt.title('Members under caustics')\n",
    "\n",
    "plt.plot(caustic_radii, caustic_profile, color='indigo')\n",
    "plt.plot(caustic_radii, -1*caustic_profile, color='indigo')\n",
    "plt.plot(trimmed_radius,trimmed_velocity,'*',color='blue',)\n",
    "plt.plot(cut_radius,cut_velocity, '+', color='red', label=\"original data\")\n",
    "plt.xlabel('projected angular separation [Mpc]')\n",
    "plt.ylabel('line of sight velocities [Km/sec]')\n",
    "plt.show\n"
   ]
  },
  {
   "cell_type": "code",
   "execution_count": 48,
   "id": "ac9f44ca",
   "metadata": {},
   "outputs": [
    {
     "data": {
      "text/plain": [
       "[<matplotlib.lines.Line2D at 0x7f1cd167a490>]"
      ]
     },
     "execution_count": 48,
     "metadata": {},
     "output_type": "execute_result"
    },
    {
     "data": {
      "image/png": "[encoded data removed]",
      "text/plain": [
       "<Figure size 432x288 with 1 Axes>"
      ]
     },
     "metadata": {
      "needs_background": "light"
     },
     "output_type": "display_data"
    }
   ],
   "source": [
    "plt.plot(cut_radius, cut_velocity, '+', color='red')\n",
    "plt.plot(trimmed_radius, trimmed_velocity, '.')\n"
   ]
  },
  {
   "cell_type": "code",
   "execution_count": 49,
   "id": "a844ec9f",
   "metadata": {},
   "outputs": [
    {
     "data": {
      "text/plain": [
       "177"
      ]
     },
     "execution_count": 49,
     "metadata": {},
     "output_type": "execute_result"
    }
   ],
   "source": [
    "len(trimmed_velocity)"
   ]
  },
  {
   "cell_type": "code",
   "execution_count": 50,
   "id": "a1066f78",
   "metadata": {},
   "outputs": [],
   "source": [
    "h0=67.77\n",
    "class MassCalc:\n",
    "    \"\"\"\n",
    "    MassCalc(self,ri,A,vdisp,r200=None,conc1=None,beta=None,fbr=None):\n",
    "\n",
    "        ri - rgrid values\n",
    "\n",
    "        A - caustic profile values\n",
    "\n",
    "        vdisp - galaxy velocity dispersion\n",
    "\n",
    "        r200 = 2.0 - critical radius of cluster. Default is 2.0, but advised to take the output r200 and rerun\n",
    "        the analysis with this better estimate.\n",
    "\n",
    "        conc1 = None - concentration of cluster. If None given then calculated from relationship\n",
    "\n",
    "        beta = 0.2 - Anisotrpy parameter. Default value is 0.2, but a profile can be given that has same xvalues as ri.\n",
    "\n",
    "        fbr = None - An exact guess of Fbeta by whatever means. Usually not used.\n",
    "\n",
    "        H0 = 100.0 - Hubble constant\n",
    "    \"\"\"\n",
    "    \n",
    "    def __init__(self,ri,A,vdisp,clus_z,r200=None,conc1=None,beta=0.25,fbr=None,H0=h0):\n",
    "        \"Calculate the mass profile\"\n",
    "        G = 6.67E-11\n",
    "        solmass = 1.98892e30\n",
    "        self.crit = 2.7745946e11*(H0/100.0)**2.0*(0.25*(1+clus_z)**3.0 + 0.75)\n",
    "        r2 = ri[ri>=0]\n",
    "        A2 = A[ri>=0]\n",
    "        kmMpc = 3.08568025e19\n",
    "        sumtot = np.zeros(A2.size)\n",
    "        #print 'Using beta = %.2f'%(beta)\n",
    "        if conc1 == None:\n",
    "            #self.conc = 4.0*(vdisp/700.0)**(-0.306)\n",
    "            self.conc = 5.0 + np.random.normal(0,2.0)\n",
    "            if self.conc <= 0: self.conc = 5.0\n",
    "        else:\n",
    "            self.conc = conc1\n",
    "        beta = 0.5*(ri/(ri+r200/self.conc))\n",
    "        self.g_b = (3-2.0*beta)/(1-beta)\n",
    "        if fbr is None:\n",
    "            self.f_beta = 0.5*((r2/r200*self.conc)**2)/((1+((r2/r200*self.conc)))**2*np.log(1+((r2/r200*self.conc))))*self.g_b\n",
    "            self.f_beta[0] = 0\n",
    "            for i in range(A2.size-1):\n",
    "                i += 1    \n",
    "                sumtot[i] = np.trapz(self.f_beta[1:i+1]*(A2[1:i+1]*1000)**2,(r2[1:i+1])*kmMpc*1000)\n",
    "                #sum[i] = np.trapz((A2[:i+1]*1000)**2,(r2[:i+1])*kmMpc*1000)\n",
    "            #sum = integrate.cumtrapz(self.f_beta*(A2[:f_beta.size]*1000)**2,r2[:f_beta.size]*kmMpc*1000,initial=0.0)\n",
    "        else:\n",
    "            if type(fbr) == float or type(fbr) == int or type(fbr) == np.float64:\n",
    "                self.f_beta = np.zeros(A2.size)+fbr*1.0\n",
    "            else:\n",
    "                self.f_beta = fbr\n",
    "            self.f_beta[0] = 0\n",
    "            for i in range(A2.size-1):\n",
    "                i += 1    \n",
    "                sumtot[i] = np.trapz(self.f_beta[1:i+1]*(A2[1:i+1]*1000)**2,(r2[1:i+1])*kmMpc*1000)\n",
    "                #sum[i] = np.trapz((A2[:i+1]*1000)**2,(r2[:i+1])*kmMpc*1000)\n",
    "            #sum = integrate.cumtrapz(self.f_beta*(A2[:f_beta.size]*1000)**2,r2[:f_beta.size]*kmMpc*1000,initial=0.0)\n",
    "        self.massprofile = sumtot/(G*solmass)\n",
    "        \n",
    "        #return the caustic r200\n",
    "        self.avg_density = self.massprofile/(4.0/3.0*np.pi*(ri[:self.f_beta.size])**3.0)\n",
    "        try:\n",
    "            #self.r200_est = (ri[:self.f_beta.size])[np.where(self.avg_density >= 200*self.crit)[0]+1][-1]\n",
    "            finterp = interp1d(self.avg_density[::-1],ri[:self.f_beta.size][::-1])\n",
    "            self.r200_est = finterp(200*self.crit)\n",
    "            self.r500_est = finterp(500*self.crit)\n",
    "        except IndexError:\n",
    "            self.r200_est = 0.0\n",
    "            self.r500_est = 0.0\n",
    "        #self.M200_est = self.massprofile[np.where(ri[:self.f_beta.size] <= self.r200_est)[0][-1]]\n",
    "        finterp = interp1d(ri[:self.f_beta.size],self.massprofile)\n",
    "        self.M200_est = finterp(self.r200_est)\n",
    "        self.M500_est = finterp(self.r500_est)\n",
    "        self.M200 = self.massprofile[np.where(ri[:self.f_beta.size] <= r200)[0][-1]]\n",
    "        "
   ]
  },
  {
   "cell_type": "code",
   "execution_count": 51,
   "id": "de8ec011",
   "metadata": {},
   "outputs": [],
   "source": [
    "m = MassCalc(ri =caustic.x_range,\n",
    "    A = caustic.caustic_profile,\n",
    "    vdisp = caustic.vdisp_gal,\n",
    "    clus_z = caustic.clus_z,\n",
    "    r200=caustic.r200,\n",
    "    conc1=5,\n",
    "    beta=0.33,\n",
    "    fbr=None,\n",
    "    H0=67.77,)"
   ]
  },
  {
   "cell_type": "code",
   "execution_count": 52,
   "id": "632034be",
   "metadata": {},
   "outputs": [
    {
     "data": {
      "text/plain": [
       "array([3.        , 3.06232413, 3.11733543, 3.16624966, 3.21002723,\n",
       "       3.2494369 , 3.28510133, 3.31753017, 3.34714464, 3.37429586,\n",
       "       3.39927891, 3.42234352, 3.44370248, 3.46353827, 3.48200819,\n",
       "       3.49924864, 3.51537842, 3.5305015 , 3.54470929, 3.55808244,\n",
       "       3.57069239, 3.58260266, 3.59386992, 3.60454487, 3.61467302,\n",
       "       3.62429534, 3.63344878, 3.64216682, 3.6504798 , 3.65841529,\n",
       "       3.66599846, 3.67325224, 3.68019765, 3.68685394, 3.69323879,\n",
       "       3.69936848, 3.705258  , 3.7109212 , 3.71637087, 3.72161888,\n",
       "       3.7266762 , 3.73155305, 3.73625892, 3.74080264, 3.74519246,\n",
       "       3.74943606, 3.75354062, 3.75751288, 3.76135913, 3.76508526,\n",
       "       3.76869683, 3.77219902, 3.77559675, 3.77889461, 3.78209694,\n",
       "       3.78520783, 3.78823115, 3.79117054, 3.79402945, 3.79681114])"
      ]
     },
     "execution_count": 52,
     "metadata": {},
     "output_type": "execute_result"
    }
   ],
   "source": [
    "m.g_b"
   ]
  },
  {
   "cell_type": "code",
   "execution_count": 53,
   "id": "5b2ed56c",
   "metadata": {},
   "outputs": [
    {
     "data": {
      "text/plain": [
       "(213003770407.72473,\n",
       " 5,\n",
       " array([0.        , 0.16890015, 0.29163559, 0.38341842, 0.45361017,\n",
       "        0.50825368, 0.55140411, 0.5858718 , 0.6136579 , 0.63622073,\n",
       "        0.65464439, 0.66974897, 0.68216431, 0.69238076, 0.70078465,\n",
       "        0.70768368, 0.7133253 , 0.71791025, 0.72160268, 0.7245378 ,\n",
       "        0.72682773, 0.72856601, 0.72983109, 0.73068914, 0.73119622,\n",
       "        0.73140003, 0.73134134, 0.73105512, 0.73057145, 0.72991632,\n",
       "        0.72911224, 0.72817876, 0.72713291, 0.72598954, 0.72476167,\n",
       "        0.72346069, 0.72209661, 0.72067825, 0.71921338, 0.71770884,\n",
       "        0.7161707 , 0.71460432, 0.71301445, 0.7114053 , 0.7097806 ,\n",
       "        0.70814368, 0.70649748, 0.70484462, 0.70318743, 0.70152797,\n",
       "        0.6998681 , 0.69820944, 0.69655344, 0.6949014 , 0.69325445,\n",
       "        0.69161361, 0.68997978, 0.68835375, 0.6867362 , 0.68512777]),\n",
       " 60)"
      ]
     },
     "execution_count": 53,
     "metadata": {},
     "output_type": "execute_result"
    }
   ],
   "source": [
    "m.crit,m.conc,m.f_beta,len(m.massprofile)"
   ]
  },
  {
   "cell_type": "code",
   "execution_count": 54,
   "id": "284c6396",
   "metadata": {},
   "outputs": [
    {
     "data": {
      "text/plain": [
       "array([0.        , 0.04806205, 0.08769454, 0.12093635, 0.14921789,\n",
       "       0.17357232, 0.19476449, 0.21337276, 0.22984254, 0.24452245,\n",
       "       0.25768921, 0.26956532, 0.28033167, 0.29013688, 0.29910416,\n",
       "       0.30733651, 0.31492073, 0.32193045, 0.32842858, 0.33446914,\n",
       "       0.34009882, 0.34535817, 0.35028257, 0.35490302, 0.35924682,\n",
       "       0.3633381 , 0.36719825, 0.37084633, 0.37429934, 0.37757252,\n",
       "       0.38067956, 0.3836328 , 0.38644339, 0.38912141, 0.39167602,\n",
       "       0.39411558, 0.39644767, 0.39867924, 0.40081667, 0.40286577,\n",
       "       0.40483192, 0.40672006, 0.40853473, 0.41028014, 0.41196019,\n",
       "       0.41357847, 0.41513834, 0.41664289, 0.41809502, 0.41949743,\n",
       "       0.42085262, 0.42216294, 0.42343057, 0.42465758, 0.42584589,\n",
       "       0.42699729, 0.42811349, 0.42919606, 0.43024652, 0.43126626])"
      ]
     },
     "execution_count": 54,
     "metadata": {},
     "output_type": "execute_result"
    }
   ],
   "source": [
    "caustic.beta"
   ]
  },
  {
   "cell_type": "code",
   "execution_count": 55,
   "id": "be06f798",
   "metadata": {},
   "outputs": [
    {
     "data": {
      "text/plain": [
       "array([           nan, 0.00000000e+00, 6.20335432e+15, 4.55690468e+15,\n",
       "       3.35273976e+15, 2.55807369e+15, 2.01273625e+15, 1.62140082e+15,\n",
       "       1.32995485e+15, 1.10649915e+15, 9.31532522e+14, 7.92392459e+14,\n",
       "       6.80345653e+14, 5.89088783e+14, 5.13978635e+14, 4.51548797e+14,\n",
       "       3.99197236e+14, 3.54946546e+14, 3.17263997e+14, 2.84962075e+14,\n",
       "       2.57103929e+14, 2.32937855e+14, 2.11862042e+14, 1.93381496e+14,\n",
       "       1.77088056e+14, 1.62644990e+14, 1.49766768e+14, 1.38214081e+14,\n",
       "       1.27784619e+14, 1.18304667e+14, 1.09627579e+14, 1.01637155e+14,\n",
       "       9.42495894e+13, 8.74225507e+13, 8.11333610e+13, 7.53519273e+13,\n",
       "       7.00439252e+13, 6.51736147e+13, 6.07055858e+13, 5.66058030e+13,\n",
       "       5.28421909e+13, 4.93849232e+13, 4.62065224e+13, 4.32818393e+13,\n",
       "       4.05879628e+13, 3.81040879e+13, 3.58113641e+13, 3.36927366e+13,\n",
       "       3.17327891e+13, 2.99175920e+13, 2.82345604e+13, 2.66723220e+13,\n",
       "       2.52205966e+13, 2.38700857e+13, 2.26123731e+13, 2.14398352e+13,\n",
       "       2.03455605e+13, 1.93232772e+13, 1.83672883e+13, 1.74724141e+13])"
      ]
     },
     "execution_count": 55,
     "metadata": {},
     "output_type": "execute_result"
    }
   ],
   "source": [
    "m.avg_density"
   ]
  },
  {
   "cell_type": "code",
   "execution_count": 56,
   "id": "88ec2947",
   "metadata": {},
   "outputs": [
    {
     "data": {
      "text/plain": [
       "array([           nan, 0.00000000e+00, 6.20335432e+15, 4.55690468e+15,\n",
       "       3.35273976e+15, 2.55807369e+15, 2.01273625e+15, 1.62140082e+15,\n",
       "       1.32995485e+15, 1.10649915e+15, 9.31532522e+14, 7.92392459e+14,\n",
       "       6.80345653e+14, 5.89088783e+14, 5.13978635e+14, 4.51548797e+14,\n",
       "       3.99197236e+14, 3.54946546e+14, 3.17263997e+14, 2.84962075e+14,\n",
       "       2.57103929e+14, 2.32937855e+14, 2.11862042e+14, 1.93381496e+14,\n",
       "       1.77088056e+14, 1.62644990e+14, 1.49766768e+14, 1.38214081e+14,\n",
       "       1.27784619e+14, 1.18304667e+14, 1.09627579e+14, 1.01637155e+14,\n",
       "       9.42495894e+13, 8.74225507e+13, 8.11333610e+13, 7.53519273e+13,\n",
       "       7.00439252e+13, 6.51736147e+13, 6.07055858e+13, 5.66058030e+13,\n",
       "       5.28421909e+13, 4.93849232e+13, 4.62065224e+13, 4.32818393e+13,\n",
       "       4.05879628e+13, 3.81040879e+13, 3.58113641e+13, 3.36927366e+13,\n",
       "       3.17327891e+13, 2.99175920e+13, 2.82345604e+13, 2.66723220e+13,\n",
       "       2.52205966e+13, 2.38700857e+13, 2.26123731e+13, 2.14398352e+13,\n",
       "       2.03455605e+13, 1.93232772e+13, 1.83672883e+13, 1.74724141e+13])"
      ]
     },
     "execution_count": 56,
     "metadata": {},
     "output_type": "execute_result"
    }
   ],
   "source": [
    "m.avg_density"
   ]
  },
  {
   "cell_type": "code",
   "execution_count": 57,
   "id": "59545821",
   "metadata": {},
   "outputs": [
    {
     "data": {
      "text/plain": [
       "60"
      ]
     },
     "execution_count": 57,
     "metadata": {},
     "output_type": "execute_result"
    }
   ],
   "source": [
    "len(caustic.beta)"
   ]
  },
  {
   "cell_type": "code",
   "execution_count": 58,
   "id": "9d231782",
   "metadata": {},
   "outputs": [
    {
     "data": {
      "text/plain": [
       "0.3396928089852581"
      ]
     },
     "execution_count": 58,
     "metadata": {},
     "output_type": "execute_result"
    }
   ],
   "source": [
    "np.mean(caustic.beta)"
   ]
  },
  {
   "cell_type": "code",
   "execution_count": 59,
   "id": "c734cd1c",
   "metadata": {},
   "outputs": [
    {
     "data": {
      "text/plain": [
       "[<matplotlib.lines.Line2D at 0x7f1cd176a7c0>]"
      ]
     },
     "execution_count": 59,
     "metadata": {},
     "output_type": "execute_result"
    },
    {
     "data": {
      "image/png": "[encoded data removed]",
      "text/plain": [
       "<Figure size 432x288 with 1 Axes>"
      ]
     },
     "metadata": {
      "needs_background": "light"
     },
     "output_type": "display_data"
    }
   ],
   "source": [
    "plt.plot(trimmed_radius,trimmed_velocity,'+',color='red',)"
   ]
  },
  {
   "cell_type": "code",
   "execution_count": null,
   "id": "98880261",
   "metadata": {},
   "outputs": [],
   "source": []
  },
  {
   "cell_type": "code",
   "execution_count": null,
   "id": "d7a101d8",
   "metadata": {},
   "outputs": [],
   "source": []
  }
 ],
 "metadata": {
  "kernelspec": {
   "display_name": "Python 3 (ipykernel)",
   "language": "python",
   "name": "python3"
  },
  "language_info": {
   "codemirror_mode": {
    "name": "ipython",
    "version": 3
   },
   "file_extension": ".py",
   "mimetype": "text/x-python",
   "name": "python",
   "nbconvert_exporter": "python",
   "pygments_lexer": "ipython3",
   "version": "3.9.7"
  }
 },
 "nbformat": 4,
 "nbformat_minor": 5
}
